{
 "cells": [
  {
   "cell_type": "code",
   "execution_count": 415,
   "metadata": {},
   "outputs": [],
   "source": [
    "import pandas as pd\n",
    "import numpy as np\n",
    "import matplotlib.pyplot as plt\n",
    "%matplotlib inline"
   ]
  },
  {
   "cell_type": "markdown",
   "metadata": {},
   "source": [
    "#### a. Load and preprocess the data using Pandas or Numpy and, if necessary, preprocessing functions from scikit-learn. The provided data is already normalized (see description), so there is no need for additional normalization. Compute and display basic statistics (mean, standard deviation, min, max, etc.) for each of the variables in the data set. Separate the target attribute for regression. Create a 20%-80% randomized split of the data. Set aside the 20% test portion; the 80% training data partition will be used for cross-validation on various tasks specified below."
   ]
  },
  {
   "cell_type": "code",
   "execution_count": 416,
   "metadata": {},
   "outputs": [],
   "source": [
    "data = pd.read_csv('data/communities/communities.csv',na_values=['?'])"
   ]
  },
  {
   "cell_type": "code",
   "execution_count": 417,
   "metadata": {},
   "outputs": [
    {
     "data": {
      "text/plain": [
       "(1994, 100)"
      ]
     },
     "execution_count": 417,
     "metadata": {},
     "output_type": "execute_result"
    }
   ],
   "source": [
    "data.shape"
   ]
  },
  {
   "cell_type": "code",
   "execution_count": 418,
   "metadata": {},
   "outputs": [
    {
     "name": "stdout",
     "output_type": "stream",
     "text": [
      "<class 'pandas.core.frame.DataFrame'>\n",
      "RangeIndex: 1994 entries, 0 to 1993\n",
      "Data columns (total 100 columns):\n",
      " #   Column                 Non-Null Count  Dtype  \n",
      "---  ------                 --------------  -----  \n",
      " 0   state                  1994 non-null   int64  \n",
      " 1   communityname          1994 non-null   object \n",
      " 2   population             1994 non-null   float64\n",
      " 3   householdsize          1994 non-null   float64\n",
      " 4   racepctblack           1994 non-null   float64\n",
      " 5   racePctWhite           1994 non-null   float64\n",
      " 6   racePctAsian           1994 non-null   float64\n",
      " 7   racePctHisp            1994 non-null   float64\n",
      " 8   agePct12t21            1994 non-null   float64\n",
      " 9   agePct12t29            1994 non-null   float64\n",
      " 10  agePct16t24            1994 non-null   float64\n",
      " 11  agePct65up             1994 non-null   float64\n",
      " 12  numbUrban              1994 non-null   float64\n",
      " 13  pctUrban               1994 non-null   float64\n",
      " 14  medIncome              1994 non-null   float64\n",
      " 15  pctWWage               1994 non-null   float64\n",
      " 16  pctWFarmSelf           1994 non-null   float64\n",
      " 17  pctWInvInc             1994 non-null   float64\n",
      " 18  pctWSocSec             1994 non-null   float64\n",
      " 19  pctWPubAsst            1994 non-null   float64\n",
      " 20  pctWRetire             1994 non-null   float64\n",
      " 21  medFamInc              1994 non-null   float64\n",
      " 22  perCapInc              1994 non-null   float64\n",
      " 23  whitePerCap            1994 non-null   float64\n",
      " 24  blackPerCap            1994 non-null   float64\n",
      " 25  indianPerCap           1994 non-null   float64\n",
      " 26  AsianPerCap            1994 non-null   float64\n",
      " 27  OtherPerCap            1993 non-null   float64\n",
      " 28  HispPerCap             1994 non-null   float64\n",
      " 29  NumUnderPov            1994 non-null   float64\n",
      " 30  PctPopUnderPov         1994 non-null   float64\n",
      " 31  PctLess9thGrade        1994 non-null   float64\n",
      " 32  PctNotHSGrad           1994 non-null   float64\n",
      " 33  PctBSorMore            1994 non-null   float64\n",
      " 34  PctUnemployed          1994 non-null   float64\n",
      " 35  PctEmploy              1994 non-null   float64\n",
      " 36  PctEmplManu            1994 non-null   float64\n",
      " 37  PctEmplProfServ        1994 non-null   float64\n",
      " 38  MalePctDivorce         1994 non-null   float64\n",
      " 39  MalePctNevMarr         1994 non-null   float64\n",
      " 40  FemalePctDiv           1994 non-null   float64\n",
      " 41  TotalPctDiv            1994 non-null   float64\n",
      " 42  PersPerFam             1994 non-null   float64\n",
      " 43  PctFam2Par             1994 non-null   float64\n",
      " 44  PctKids2Par            1994 non-null   float64\n",
      " 45  PctYoungKids2Par       1994 non-null   float64\n",
      " 46  PctTeen2Par            1994 non-null   float64\n",
      " 47  PctWorkMomYoungKids    1994 non-null   float64\n",
      " 48  PctWorkMom             1994 non-null   float64\n",
      " 49  NumIlleg               1994 non-null   float64\n",
      " 50  PctIlleg               1994 non-null   float64\n",
      " 51  NumImmig               1994 non-null   float64\n",
      " 52  PctImmigRecent         1994 non-null   float64\n",
      " 53  PctImmigRec5           1994 non-null   float64\n",
      " 54  PctImmigRec8           1994 non-null   float64\n",
      " 55  PctImmigRec10          1994 non-null   float64\n",
      " 56  PctRecentImmig         1994 non-null   float64\n",
      " 57  PctRecImmig5           1994 non-null   float64\n",
      " 58  PctRecImmig8           1994 non-null   float64\n",
      " 59  PctRecImmig10          1994 non-null   float64\n",
      " 60  PctSpeakEnglOnly       1994 non-null   float64\n",
      " 61  PctNotSpeakEnglWell    1994 non-null   float64\n",
      " 62  PctLargHouseFam        1994 non-null   float64\n",
      " 63  PctLargHouseOccup      1994 non-null   float64\n",
      " 64  PersPerOccupHous       1994 non-null   float64\n",
      " 65  PersPerOwnOccHous      1994 non-null   float64\n",
      " 66  PersPerRentOccHous     1994 non-null   float64\n",
      " 67  PctPersOwnOccup        1994 non-null   float64\n",
      " 68  PctPersDenseHous       1994 non-null   float64\n",
      " 69  PctHousLess3BR         1994 non-null   float64\n",
      " 70  MedNumBR               1994 non-null   float64\n",
      " 71  HousVacant             1994 non-null   float64\n",
      " 72  PctHousOccup           1994 non-null   float64\n",
      " 73  PctHousOwnOcc          1994 non-null   float64\n",
      " 74  PctVacantBoarded       1994 non-null   float64\n",
      " 75  PctVacMore6Mos         1994 non-null   float64\n",
      " 76  MedYrHousBuilt         1994 non-null   float64\n",
      " 77  PctHousNoPhone         1994 non-null   float64\n",
      " 78  PctWOFullPlumb         1994 non-null   float64\n",
      " 79  OwnOccLowQuart         1994 non-null   float64\n",
      " 80  OwnOccMedVal           1994 non-null   float64\n",
      " 81  OwnOccHiQuart          1994 non-null   float64\n",
      " 82  RentLowQ               1994 non-null   float64\n",
      " 83  RentMedian             1994 non-null   float64\n",
      " 84  RentHighQ              1994 non-null   float64\n",
      " 85  MedRent                1994 non-null   float64\n",
      " 86  MedRentPctHousInc      1994 non-null   float64\n",
      " 87  MedOwnCostPctInc       1994 non-null   float64\n",
      " 88  MedOwnCostPctIncNoMtg  1994 non-null   float64\n",
      " 89  NumInShelters          1994 non-null   float64\n",
      " 90  NumStreet              1994 non-null   float64\n",
      " 91  PctForeignBorn         1994 non-null   float64\n",
      " 92  PctBornSameState       1994 non-null   float64\n",
      " 93  PctSameHouse85         1994 non-null   float64\n",
      " 94  PctSameCity85          1994 non-null   float64\n",
      " 95  PctSameState85         1994 non-null   float64\n",
      " 96  LandArea               1994 non-null   float64\n",
      " 97  PopDens                1994 non-null   float64\n",
      " 98  PctUsePubTrans         1994 non-null   float64\n",
      " 99  ViolentCrimesPerPop    1994 non-null   float64\n",
      "dtypes: float64(98), int64(1), object(1)\n",
      "memory usage: 1.5+ MB\n"
     ]
    }
   ],
   "source": [
    "data.info()"
   ]
  },
  {
   "cell_type": "code",
   "execution_count": null,
   "metadata": {},
   "outputs": [],
   "source": []
  },
  {
   "cell_type": "code",
   "execution_count": 419,
   "metadata": {},
   "outputs": [
    {
     "data": {
      "text/html": [
       "<div>\n",
       "<style scoped>\n",
       "    .dataframe tbody tr th:only-of-type {\n",
       "        vertical-align: middle;\n",
       "    }\n",
       "\n",
       "    .dataframe tbody tr th {\n",
       "        vertical-align: top;\n",
       "    }\n",
       "\n",
       "    .dataframe thead th {\n",
       "        text-align: right;\n",
       "    }\n",
       "</style>\n",
       "<table border=\"1\" class=\"dataframe\">\n",
       "  <thead>\n",
       "    <tr style=\"text-align: right;\">\n",
       "      <th></th>\n",
       "      <th>0</th>\n",
       "    </tr>\n",
       "  </thead>\n",
       "  <tbody>\n",
       "    <tr>\n",
       "      <th>state</th>\n",
       "      <td>0</td>\n",
       "    </tr>\n",
       "    <tr>\n",
       "      <th>communityname</th>\n",
       "      <td>0</td>\n",
       "    </tr>\n",
       "    <tr>\n",
       "      <th>population</th>\n",
       "      <td>0</td>\n",
       "    </tr>\n",
       "    <tr>\n",
       "      <th>householdsize</th>\n",
       "      <td>0</td>\n",
       "    </tr>\n",
       "    <tr>\n",
       "      <th>racepctblack</th>\n",
       "      <td>0</td>\n",
       "    </tr>\n",
       "    <tr>\n",
       "      <th>...</th>\n",
       "      <td>...</td>\n",
       "    </tr>\n",
       "    <tr>\n",
       "      <th>PctSameState85</th>\n",
       "      <td>0</td>\n",
       "    </tr>\n",
       "    <tr>\n",
       "      <th>LandArea</th>\n",
       "      <td>0</td>\n",
       "    </tr>\n",
       "    <tr>\n",
       "      <th>PopDens</th>\n",
       "      <td>0</td>\n",
       "    </tr>\n",
       "    <tr>\n",
       "      <th>PctUsePubTrans</th>\n",
       "      <td>0</td>\n",
       "    </tr>\n",
       "    <tr>\n",
       "      <th>ViolentCrimesPerPop</th>\n",
       "      <td>0</td>\n",
       "    </tr>\n",
       "  </tbody>\n",
       "</table>\n",
       "<p>100 rows × 1 columns</p>\n",
       "</div>"
      ],
      "text/plain": [
       "                     0\n",
       "state                0\n",
       "communityname        0\n",
       "population           0\n",
       "householdsize        0\n",
       "racepctblack         0\n",
       "...                 ..\n",
       "PctSameState85       0\n",
       "LandArea             0\n",
       "PopDens              0\n",
       "PctUsePubTrans       0\n",
       "ViolentCrimesPerPop  0\n",
       "\n",
       "[100 rows x 1 columns]"
      ]
     },
     "execution_count": 419,
     "metadata": {},
     "output_type": "execute_result"
    }
   ],
   "source": [
    "na = pd.DataFrame(data.isna().sum(0))\n",
    "na"
   ]
  },
  {
   "cell_type": "code",
   "execution_count": 420,
   "metadata": {},
   "outputs": [],
   "source": [
    "OPC_mean = data.OtherPerCap.mean()\n",
    "data.OtherPerCap.fillna(OPC_mean, axis = 0, inplace = True)"
   ]
  },
  {
   "cell_type": "code",
   "execution_count": 421,
   "metadata": {},
   "outputs": [
    {
     "data": {
      "text/html": [
       "<div>\n",
       "<style scoped>\n",
       "    .dataframe tbody tr th:only-of-type {\n",
       "        vertical-align: middle;\n",
       "    }\n",
       "\n",
       "    .dataframe tbody tr th {\n",
       "        vertical-align: top;\n",
       "    }\n",
       "\n",
       "    .dataframe thead th {\n",
       "        text-align: right;\n",
       "    }\n",
       "</style>\n",
       "<table border=\"1\" class=\"dataframe\">\n",
       "  <thead>\n",
       "    <tr style=\"text-align: right;\">\n",
       "      <th></th>\n",
       "      <th>state</th>\n",
       "      <th>communityname</th>\n",
       "      <th>population</th>\n",
       "      <th>householdsize</th>\n",
       "      <th>racepctblack</th>\n",
       "      <th>racePctWhite</th>\n",
       "      <th>racePctAsian</th>\n",
       "      <th>racePctHisp</th>\n",
       "      <th>agePct12t21</th>\n",
       "      <th>agePct12t29</th>\n",
       "      <th>...</th>\n",
       "      <th>NumStreet</th>\n",
       "      <th>PctForeignBorn</th>\n",
       "      <th>PctBornSameState</th>\n",
       "      <th>PctSameHouse85</th>\n",
       "      <th>PctSameCity85</th>\n",
       "      <th>PctSameState85</th>\n",
       "      <th>LandArea</th>\n",
       "      <th>PopDens</th>\n",
       "      <th>PctUsePubTrans</th>\n",
       "      <th>ViolentCrimesPerPop</th>\n",
       "    </tr>\n",
       "  </thead>\n",
       "  <tbody>\n",
       "    <tr>\n",
       "      <th>0</th>\n",
       "      <td>8</td>\n",
       "      <td>Lakewoodcity</td>\n",
       "      <td>0.19</td>\n",
       "      <td>0.33</td>\n",
       "      <td>0.02</td>\n",
       "      <td>0.90</td>\n",
       "      <td>0.12</td>\n",
       "      <td>0.17</td>\n",
       "      <td>0.34</td>\n",
       "      <td>0.47</td>\n",
       "      <td>...</td>\n",
       "      <td>0.0</td>\n",
       "      <td>0.12</td>\n",
       "      <td>0.42</td>\n",
       "      <td>0.50</td>\n",
       "      <td>0.51</td>\n",
       "      <td>0.64</td>\n",
       "      <td>0.12</td>\n",
       "      <td>0.26</td>\n",
       "      <td>0.20</td>\n",
       "      <td>0.20</td>\n",
       "    </tr>\n",
       "    <tr>\n",
       "      <th>1</th>\n",
       "      <td>53</td>\n",
       "      <td>Tukwilacity</td>\n",
       "      <td>0.00</td>\n",
       "      <td>0.16</td>\n",
       "      <td>0.12</td>\n",
       "      <td>0.74</td>\n",
       "      <td>0.45</td>\n",
       "      <td>0.07</td>\n",
       "      <td>0.26</td>\n",
       "      <td>0.59</td>\n",
       "      <td>...</td>\n",
       "      <td>0.0</td>\n",
       "      <td>0.21</td>\n",
       "      <td>0.50</td>\n",
       "      <td>0.34</td>\n",
       "      <td>0.60</td>\n",
       "      <td>0.52</td>\n",
       "      <td>0.02</td>\n",
       "      <td>0.12</td>\n",
       "      <td>0.45</td>\n",
       "      <td>0.67</td>\n",
       "    </tr>\n",
       "    <tr>\n",
       "      <th>2</th>\n",
       "      <td>24</td>\n",
       "      <td>Aberdeentown</td>\n",
       "      <td>0.00</td>\n",
       "      <td>0.42</td>\n",
       "      <td>0.49</td>\n",
       "      <td>0.56</td>\n",
       "      <td>0.17</td>\n",
       "      <td>0.04</td>\n",
       "      <td>0.39</td>\n",
       "      <td>0.47</td>\n",
       "      <td>...</td>\n",
       "      <td>0.0</td>\n",
       "      <td>0.14</td>\n",
       "      <td>0.49</td>\n",
       "      <td>0.54</td>\n",
       "      <td>0.67</td>\n",
       "      <td>0.56</td>\n",
       "      <td>0.01</td>\n",
       "      <td>0.21</td>\n",
       "      <td>0.02</td>\n",
       "      <td>0.43</td>\n",
       "    </tr>\n",
       "    <tr>\n",
       "      <th>3</th>\n",
       "      <td>34</td>\n",
       "      <td>Willingborotownship</td>\n",
       "      <td>0.04</td>\n",
       "      <td>0.77</td>\n",
       "      <td>1.00</td>\n",
       "      <td>0.08</td>\n",
       "      <td>0.12</td>\n",
       "      <td>0.10</td>\n",
       "      <td>0.51</td>\n",
       "      <td>0.50</td>\n",
       "      <td>...</td>\n",
       "      <td>0.0</td>\n",
       "      <td>0.19</td>\n",
       "      <td>0.30</td>\n",
       "      <td>0.73</td>\n",
       "      <td>0.64</td>\n",
       "      <td>0.65</td>\n",
       "      <td>0.02</td>\n",
       "      <td>0.39</td>\n",
       "      <td>0.28</td>\n",
       "      <td>0.12</td>\n",
       "    </tr>\n",
       "    <tr>\n",
       "      <th>4</th>\n",
       "      <td>42</td>\n",
       "      <td>Bethlehemtownship</td>\n",
       "      <td>0.01</td>\n",
       "      <td>0.55</td>\n",
       "      <td>0.02</td>\n",
       "      <td>0.95</td>\n",
       "      <td>0.09</td>\n",
       "      <td>0.05</td>\n",
       "      <td>0.38</td>\n",
       "      <td>0.38</td>\n",
       "      <td>...</td>\n",
       "      <td>0.0</td>\n",
       "      <td>0.11</td>\n",
       "      <td>0.72</td>\n",
       "      <td>0.64</td>\n",
       "      <td>0.61</td>\n",
       "      <td>0.53</td>\n",
       "      <td>0.04</td>\n",
       "      <td>0.09</td>\n",
       "      <td>0.02</td>\n",
       "      <td>0.03</td>\n",
       "    </tr>\n",
       "  </tbody>\n",
       "</table>\n",
       "<p>5 rows × 100 columns</p>\n",
       "</div>"
      ],
      "text/plain": [
       "   state        communityname  population  householdsize  racepctblack  \\\n",
       "0      8         Lakewoodcity        0.19           0.33          0.02   \n",
       "1     53          Tukwilacity        0.00           0.16          0.12   \n",
       "2     24         Aberdeentown        0.00           0.42          0.49   \n",
       "3     34  Willingborotownship        0.04           0.77          1.00   \n",
       "4     42    Bethlehemtownship        0.01           0.55          0.02   \n",
       "\n",
       "   racePctWhite  racePctAsian  racePctHisp  agePct12t21  agePct12t29  ...  \\\n",
       "0          0.90          0.12         0.17         0.34         0.47  ...   \n",
       "1          0.74          0.45         0.07         0.26         0.59  ...   \n",
       "2          0.56          0.17         0.04         0.39         0.47  ...   \n",
       "3          0.08          0.12         0.10         0.51         0.50  ...   \n",
       "4          0.95          0.09         0.05         0.38         0.38  ...   \n",
       "\n",
       "   NumStreet  PctForeignBorn  PctBornSameState  PctSameHouse85  PctSameCity85  \\\n",
       "0        0.0            0.12              0.42            0.50           0.51   \n",
       "1        0.0            0.21              0.50            0.34           0.60   \n",
       "2        0.0            0.14              0.49            0.54           0.67   \n",
       "3        0.0            0.19              0.30            0.73           0.64   \n",
       "4        0.0            0.11              0.72            0.64           0.61   \n",
       "\n",
       "   PctSameState85  LandArea  PopDens  PctUsePubTrans  ViolentCrimesPerPop  \n",
       "0            0.64      0.12     0.26            0.20                 0.20  \n",
       "1            0.52      0.02     0.12            0.45                 0.67  \n",
       "2            0.56      0.01     0.21            0.02                 0.43  \n",
       "3            0.65      0.02     0.39            0.28                 0.12  \n",
       "4            0.53      0.04     0.09            0.02                 0.03  \n",
       "\n",
       "[5 rows x 100 columns]"
      ]
     },
     "execution_count": 421,
     "metadata": {},
     "output_type": "execute_result"
    }
   ],
   "source": [
    "data.head()"
   ]
  },
  {
   "cell_type": "code",
   "execution_count": 422,
   "metadata": {},
   "outputs": [
    {
     "name": "stdout",
     "output_type": "stream",
     "text": [
      "<class 'pandas.core.frame.DataFrame'>\n",
      "RangeIndex: 1994 entries, 0 to 1993\n",
      "Data columns (total 100 columns):\n",
      " #   Column                 Non-Null Count  Dtype  \n",
      "---  ------                 --------------  -----  \n",
      " 0   state                  1994 non-null   int64  \n",
      " 1   communityname          1994 non-null   object \n",
      " 2   population             1994 non-null   float64\n",
      " 3   householdsize          1994 non-null   float64\n",
      " 4   racepctblack           1994 non-null   float64\n",
      " 5   racePctWhite           1994 non-null   float64\n",
      " 6   racePctAsian           1994 non-null   float64\n",
      " 7   racePctHisp            1994 non-null   float64\n",
      " 8   agePct12t21            1994 non-null   float64\n",
      " 9   agePct12t29            1994 non-null   float64\n",
      " 10  agePct16t24            1994 non-null   float64\n",
      " 11  agePct65up             1994 non-null   float64\n",
      " 12  numbUrban              1994 non-null   float64\n",
      " 13  pctUrban               1994 non-null   float64\n",
      " 14  medIncome              1994 non-null   float64\n",
      " 15  pctWWage               1994 non-null   float64\n",
      " 16  pctWFarmSelf           1994 non-null   float64\n",
      " 17  pctWInvInc             1994 non-null   float64\n",
      " 18  pctWSocSec             1994 non-null   float64\n",
      " 19  pctWPubAsst            1994 non-null   float64\n",
      " 20  pctWRetire             1994 non-null   float64\n",
      " 21  medFamInc              1994 non-null   float64\n",
      " 22  perCapInc              1994 non-null   float64\n",
      " 23  whitePerCap            1994 non-null   float64\n",
      " 24  blackPerCap            1994 non-null   float64\n",
      " 25  indianPerCap           1994 non-null   float64\n",
      " 26  AsianPerCap            1994 non-null   float64\n",
      " 27  OtherPerCap            1994 non-null   float64\n",
      " 28  HispPerCap             1994 non-null   float64\n",
      " 29  NumUnderPov            1994 non-null   float64\n",
      " 30  PctPopUnderPov         1994 non-null   float64\n",
      " 31  PctLess9thGrade        1994 non-null   float64\n",
      " 32  PctNotHSGrad           1994 non-null   float64\n",
      " 33  PctBSorMore            1994 non-null   float64\n",
      " 34  PctUnemployed          1994 non-null   float64\n",
      " 35  PctEmploy              1994 non-null   float64\n",
      " 36  PctEmplManu            1994 non-null   float64\n",
      " 37  PctEmplProfServ        1994 non-null   float64\n",
      " 38  MalePctDivorce         1994 non-null   float64\n",
      " 39  MalePctNevMarr         1994 non-null   float64\n",
      " 40  FemalePctDiv           1994 non-null   float64\n",
      " 41  TotalPctDiv            1994 non-null   float64\n",
      " 42  PersPerFam             1994 non-null   float64\n",
      " 43  PctFam2Par             1994 non-null   float64\n",
      " 44  PctKids2Par            1994 non-null   float64\n",
      " 45  PctYoungKids2Par       1994 non-null   float64\n",
      " 46  PctTeen2Par            1994 non-null   float64\n",
      " 47  PctWorkMomYoungKids    1994 non-null   float64\n",
      " 48  PctWorkMom             1994 non-null   float64\n",
      " 49  NumIlleg               1994 non-null   float64\n",
      " 50  PctIlleg               1994 non-null   float64\n",
      " 51  NumImmig               1994 non-null   float64\n",
      " 52  PctImmigRecent         1994 non-null   float64\n",
      " 53  PctImmigRec5           1994 non-null   float64\n",
      " 54  PctImmigRec8           1994 non-null   float64\n",
      " 55  PctImmigRec10          1994 non-null   float64\n",
      " 56  PctRecentImmig         1994 non-null   float64\n",
      " 57  PctRecImmig5           1994 non-null   float64\n",
      " 58  PctRecImmig8           1994 non-null   float64\n",
      " 59  PctRecImmig10          1994 non-null   float64\n",
      " 60  PctSpeakEnglOnly       1994 non-null   float64\n",
      " 61  PctNotSpeakEnglWell    1994 non-null   float64\n",
      " 62  PctLargHouseFam        1994 non-null   float64\n",
      " 63  PctLargHouseOccup      1994 non-null   float64\n",
      " 64  PersPerOccupHous       1994 non-null   float64\n",
      " 65  PersPerOwnOccHous      1994 non-null   float64\n",
      " 66  PersPerRentOccHous     1994 non-null   float64\n",
      " 67  PctPersOwnOccup        1994 non-null   float64\n",
      " 68  PctPersDenseHous       1994 non-null   float64\n",
      " 69  PctHousLess3BR         1994 non-null   float64\n",
      " 70  MedNumBR               1994 non-null   float64\n",
      " 71  HousVacant             1994 non-null   float64\n",
      " 72  PctHousOccup           1994 non-null   float64\n",
      " 73  PctHousOwnOcc          1994 non-null   float64\n",
      " 74  PctVacantBoarded       1994 non-null   float64\n",
      " 75  PctVacMore6Mos         1994 non-null   float64\n",
      " 76  MedYrHousBuilt         1994 non-null   float64\n",
      " 77  PctHousNoPhone         1994 non-null   float64\n",
      " 78  PctWOFullPlumb         1994 non-null   float64\n",
      " 79  OwnOccLowQuart         1994 non-null   float64\n",
      " 80  OwnOccMedVal           1994 non-null   float64\n",
      " 81  OwnOccHiQuart          1994 non-null   float64\n",
      " 82  RentLowQ               1994 non-null   float64\n",
      " 83  RentMedian             1994 non-null   float64\n",
      " 84  RentHighQ              1994 non-null   float64\n",
      " 85  MedRent                1994 non-null   float64\n",
      " 86  MedRentPctHousInc      1994 non-null   float64\n",
      " 87  MedOwnCostPctInc       1994 non-null   float64\n",
      " 88  MedOwnCostPctIncNoMtg  1994 non-null   float64\n",
      " 89  NumInShelters          1994 non-null   float64\n",
      " 90  NumStreet              1994 non-null   float64\n",
      " 91  PctForeignBorn         1994 non-null   float64\n",
      " 92  PctBornSameState       1994 non-null   float64\n",
      " 93  PctSameHouse85         1994 non-null   float64\n",
      " 94  PctSameCity85          1994 non-null   float64\n",
      " 95  PctSameState85         1994 non-null   float64\n",
      " 96  LandArea               1994 non-null   float64\n",
      " 97  PopDens                1994 non-null   float64\n",
      " 98  PctUsePubTrans         1994 non-null   float64\n",
      " 99  ViolentCrimesPerPop    1994 non-null   float64\n",
      "dtypes: float64(98), int64(1), object(1)\n",
      "memory usage: 1.5+ MB\n"
     ]
    }
   ],
   "source": [
    "data.info()"
   ]
  },
  {
   "cell_type": "code",
   "execution_count": 423,
   "metadata": {},
   "outputs": [
    {
     "data": {
      "text/html": [
       "<div>\n",
       "<style scoped>\n",
       "    .dataframe tbody tr th:only-of-type {\n",
       "        vertical-align: middle;\n",
       "    }\n",
       "\n",
       "    .dataframe tbody tr th {\n",
       "        vertical-align: top;\n",
       "    }\n",
       "\n",
       "    .dataframe thead th {\n",
       "        text-align: right;\n",
       "    }\n",
       "</style>\n",
       "<table border=\"1\" class=\"dataframe\">\n",
       "  <thead>\n",
       "    <tr style=\"text-align: right;\">\n",
       "      <th></th>\n",
       "      <th>state</th>\n",
       "      <th>communityname</th>\n",
       "      <th>population</th>\n",
       "      <th>householdsize</th>\n",
       "      <th>racepctblack</th>\n",
       "      <th>racePctWhite</th>\n",
       "      <th>racePctAsian</th>\n",
       "      <th>racePctHisp</th>\n",
       "      <th>agePct12t21</th>\n",
       "      <th>agePct12t29</th>\n",
       "      <th>...</th>\n",
       "      <th>NumStreet</th>\n",
       "      <th>PctForeignBorn</th>\n",
       "      <th>PctBornSameState</th>\n",
       "      <th>PctSameHouse85</th>\n",
       "      <th>PctSameCity85</th>\n",
       "      <th>PctSameState85</th>\n",
       "      <th>LandArea</th>\n",
       "      <th>PopDens</th>\n",
       "      <th>PctUsePubTrans</th>\n",
       "      <th>ViolentCrimesPerPop</th>\n",
       "    </tr>\n",
       "  </thead>\n",
       "  <tbody>\n",
       "    <tr>\n",
       "      <th>count</th>\n",
       "      <td>1994.000000</td>\n",
       "      <td>1994</td>\n",
       "      <td>1994.000000</td>\n",
       "      <td>1994.000000</td>\n",
       "      <td>1994.000000</td>\n",
       "      <td>1994.000000</td>\n",
       "      <td>1994.000000</td>\n",
       "      <td>1994.000000</td>\n",
       "      <td>1994.000000</td>\n",
       "      <td>1994.000000</td>\n",
       "      <td>...</td>\n",
       "      <td>1994.000000</td>\n",
       "      <td>1994.000000</td>\n",
       "      <td>1994.000000</td>\n",
       "      <td>1994.000000</td>\n",
       "      <td>1994.000000</td>\n",
       "      <td>1994.000000</td>\n",
       "      <td>1994.000000</td>\n",
       "      <td>1994.000000</td>\n",
       "      <td>1994.000000</td>\n",
       "      <td>1994.000000</td>\n",
       "    </tr>\n",
       "    <tr>\n",
       "      <th>unique</th>\n",
       "      <td>NaN</td>\n",
       "      <td>1828</td>\n",
       "      <td>NaN</td>\n",
       "      <td>NaN</td>\n",
       "      <td>NaN</td>\n",
       "      <td>NaN</td>\n",
       "      <td>NaN</td>\n",
       "      <td>NaN</td>\n",
       "      <td>NaN</td>\n",
       "      <td>NaN</td>\n",
       "      <td>...</td>\n",
       "      <td>NaN</td>\n",
       "      <td>NaN</td>\n",
       "      <td>NaN</td>\n",
       "      <td>NaN</td>\n",
       "      <td>NaN</td>\n",
       "      <td>NaN</td>\n",
       "      <td>NaN</td>\n",
       "      <td>NaN</td>\n",
       "      <td>NaN</td>\n",
       "      <td>NaN</td>\n",
       "    </tr>\n",
       "    <tr>\n",
       "      <th>top</th>\n",
       "      <td>NaN</td>\n",
       "      <td>Jacksonvillecity</td>\n",
       "      <td>NaN</td>\n",
       "      <td>NaN</td>\n",
       "      <td>NaN</td>\n",
       "      <td>NaN</td>\n",
       "      <td>NaN</td>\n",
       "      <td>NaN</td>\n",
       "      <td>NaN</td>\n",
       "      <td>NaN</td>\n",
       "      <td>...</td>\n",
       "      <td>NaN</td>\n",
       "      <td>NaN</td>\n",
       "      <td>NaN</td>\n",
       "      <td>NaN</td>\n",
       "      <td>NaN</td>\n",
       "      <td>NaN</td>\n",
       "      <td>NaN</td>\n",
       "      <td>NaN</td>\n",
       "      <td>NaN</td>\n",
       "      <td>NaN</td>\n",
       "    </tr>\n",
       "    <tr>\n",
       "      <th>freq</th>\n",
       "      <td>NaN</td>\n",
       "      <td>5</td>\n",
       "      <td>NaN</td>\n",
       "      <td>NaN</td>\n",
       "      <td>NaN</td>\n",
       "      <td>NaN</td>\n",
       "      <td>NaN</td>\n",
       "      <td>NaN</td>\n",
       "      <td>NaN</td>\n",
       "      <td>NaN</td>\n",
       "      <td>...</td>\n",
       "      <td>NaN</td>\n",
       "      <td>NaN</td>\n",
       "      <td>NaN</td>\n",
       "      <td>NaN</td>\n",
       "      <td>NaN</td>\n",
       "      <td>NaN</td>\n",
       "      <td>NaN</td>\n",
       "      <td>NaN</td>\n",
       "      <td>NaN</td>\n",
       "      <td>NaN</td>\n",
       "    </tr>\n",
       "    <tr>\n",
       "      <th>mean</th>\n",
       "      <td>28.683551</td>\n",
       "      <td>NaN</td>\n",
       "      <td>0.057593</td>\n",
       "      <td>0.463395</td>\n",
       "      <td>0.179629</td>\n",
       "      <td>0.753716</td>\n",
       "      <td>0.153681</td>\n",
       "      <td>0.144022</td>\n",
       "      <td>0.424218</td>\n",
       "      <td>0.493867</td>\n",
       "      <td>...</td>\n",
       "      <td>0.022778</td>\n",
       "      <td>0.215552</td>\n",
       "      <td>0.608892</td>\n",
       "      <td>0.535050</td>\n",
       "      <td>0.626424</td>\n",
       "      <td>0.651530</td>\n",
       "      <td>0.065231</td>\n",
       "      <td>0.232854</td>\n",
       "      <td>0.161685</td>\n",
       "      <td>0.237979</td>\n",
       "    </tr>\n",
       "    <tr>\n",
       "      <th>std</th>\n",
       "      <td>16.397553</td>\n",
       "      <td>NaN</td>\n",
       "      <td>0.126906</td>\n",
       "      <td>0.163717</td>\n",
       "      <td>0.253442</td>\n",
       "      <td>0.244039</td>\n",
       "      <td>0.208877</td>\n",
       "      <td>0.232492</td>\n",
       "      <td>0.155196</td>\n",
       "      <td>0.143564</td>\n",
       "      <td>...</td>\n",
       "      <td>0.100400</td>\n",
       "      <td>0.231134</td>\n",
       "      <td>0.204329</td>\n",
       "      <td>0.181352</td>\n",
       "      <td>0.200521</td>\n",
       "      <td>0.198221</td>\n",
       "      <td>0.109459</td>\n",
       "      <td>0.203092</td>\n",
       "      <td>0.229055</td>\n",
       "      <td>0.232985</td>\n",
       "    </tr>\n",
       "    <tr>\n",
       "      <th>min</th>\n",
       "      <td>1.000000</td>\n",
       "      <td>NaN</td>\n",
       "      <td>0.000000</td>\n",
       "      <td>0.000000</td>\n",
       "      <td>0.000000</td>\n",
       "      <td>0.000000</td>\n",
       "      <td>0.000000</td>\n",
       "      <td>0.000000</td>\n",
       "      <td>0.000000</td>\n",
       "      <td>0.000000</td>\n",
       "      <td>...</td>\n",
       "      <td>0.000000</td>\n",
       "      <td>0.000000</td>\n",
       "      <td>0.000000</td>\n",
       "      <td>0.000000</td>\n",
       "      <td>0.000000</td>\n",
       "      <td>0.000000</td>\n",
       "      <td>0.000000</td>\n",
       "      <td>0.000000</td>\n",
       "      <td>0.000000</td>\n",
       "      <td>0.000000</td>\n",
       "    </tr>\n",
       "    <tr>\n",
       "      <th>25%</th>\n",
       "      <td>12.000000</td>\n",
       "      <td>NaN</td>\n",
       "      <td>0.010000</td>\n",
       "      <td>0.350000</td>\n",
       "      <td>0.020000</td>\n",
       "      <td>0.630000</td>\n",
       "      <td>0.040000</td>\n",
       "      <td>0.010000</td>\n",
       "      <td>0.340000</td>\n",
       "      <td>0.410000</td>\n",
       "      <td>...</td>\n",
       "      <td>0.000000</td>\n",
       "      <td>0.060000</td>\n",
       "      <td>0.470000</td>\n",
       "      <td>0.420000</td>\n",
       "      <td>0.520000</td>\n",
       "      <td>0.560000</td>\n",
       "      <td>0.020000</td>\n",
       "      <td>0.100000</td>\n",
       "      <td>0.020000</td>\n",
       "      <td>0.070000</td>\n",
       "    </tr>\n",
       "    <tr>\n",
       "      <th>50%</th>\n",
       "      <td>34.000000</td>\n",
       "      <td>NaN</td>\n",
       "      <td>0.020000</td>\n",
       "      <td>0.440000</td>\n",
       "      <td>0.060000</td>\n",
       "      <td>0.850000</td>\n",
       "      <td>0.070000</td>\n",
       "      <td>0.040000</td>\n",
       "      <td>0.400000</td>\n",
       "      <td>0.480000</td>\n",
       "      <td>...</td>\n",
       "      <td>0.000000</td>\n",
       "      <td>0.130000</td>\n",
       "      <td>0.630000</td>\n",
       "      <td>0.540000</td>\n",
       "      <td>0.670000</td>\n",
       "      <td>0.700000</td>\n",
       "      <td>0.040000</td>\n",
       "      <td>0.170000</td>\n",
       "      <td>0.070000</td>\n",
       "      <td>0.150000</td>\n",
       "    </tr>\n",
       "    <tr>\n",
       "      <th>75%</th>\n",
       "      <td>42.000000</td>\n",
       "      <td>NaN</td>\n",
       "      <td>0.050000</td>\n",
       "      <td>0.540000</td>\n",
       "      <td>0.230000</td>\n",
       "      <td>0.940000</td>\n",
       "      <td>0.170000</td>\n",
       "      <td>0.160000</td>\n",
       "      <td>0.470000</td>\n",
       "      <td>0.540000</td>\n",
       "      <td>...</td>\n",
       "      <td>0.000000</td>\n",
       "      <td>0.280000</td>\n",
       "      <td>0.777500</td>\n",
       "      <td>0.660000</td>\n",
       "      <td>0.770000</td>\n",
       "      <td>0.790000</td>\n",
       "      <td>0.070000</td>\n",
       "      <td>0.280000</td>\n",
       "      <td>0.190000</td>\n",
       "      <td>0.330000</td>\n",
       "    </tr>\n",
       "    <tr>\n",
       "      <th>max</th>\n",
       "      <td>56.000000</td>\n",
       "      <td>NaN</td>\n",
       "      <td>1.000000</td>\n",
       "      <td>1.000000</td>\n",
       "      <td>1.000000</td>\n",
       "      <td>1.000000</td>\n",
       "      <td>1.000000</td>\n",
       "      <td>1.000000</td>\n",
       "      <td>1.000000</td>\n",
       "      <td>1.000000</td>\n",
       "      <td>...</td>\n",
       "      <td>1.000000</td>\n",
       "      <td>1.000000</td>\n",
       "      <td>1.000000</td>\n",
       "      <td>1.000000</td>\n",
       "      <td>1.000000</td>\n",
       "      <td>1.000000</td>\n",
       "      <td>1.000000</td>\n",
       "      <td>1.000000</td>\n",
       "      <td>1.000000</td>\n",
       "      <td>1.000000</td>\n",
       "    </tr>\n",
       "  </tbody>\n",
       "</table>\n",
       "<p>11 rows × 100 columns</p>\n",
       "</div>"
      ],
      "text/plain": [
       "              state     communityname   population  householdsize  \\\n",
       "count   1994.000000              1994  1994.000000    1994.000000   \n",
       "unique          NaN              1828          NaN            NaN   \n",
       "top             NaN  Jacksonvillecity          NaN            NaN   \n",
       "freq            NaN                 5          NaN            NaN   \n",
       "mean      28.683551               NaN     0.057593       0.463395   \n",
       "std       16.397553               NaN     0.126906       0.163717   \n",
       "min        1.000000               NaN     0.000000       0.000000   \n",
       "25%       12.000000               NaN     0.010000       0.350000   \n",
       "50%       34.000000               NaN     0.020000       0.440000   \n",
       "75%       42.000000               NaN     0.050000       0.540000   \n",
       "max       56.000000               NaN     1.000000       1.000000   \n",
       "\n",
       "        racepctblack  racePctWhite  racePctAsian  racePctHisp  agePct12t21  \\\n",
       "count    1994.000000   1994.000000   1994.000000  1994.000000  1994.000000   \n",
       "unique           NaN           NaN           NaN          NaN          NaN   \n",
       "top              NaN           NaN           NaN          NaN          NaN   \n",
       "freq             NaN           NaN           NaN          NaN          NaN   \n",
       "mean        0.179629      0.753716      0.153681     0.144022     0.424218   \n",
       "std         0.253442      0.244039      0.208877     0.232492     0.155196   \n",
       "min         0.000000      0.000000      0.000000     0.000000     0.000000   \n",
       "25%         0.020000      0.630000      0.040000     0.010000     0.340000   \n",
       "50%         0.060000      0.850000      0.070000     0.040000     0.400000   \n",
       "75%         0.230000      0.940000      0.170000     0.160000     0.470000   \n",
       "max         1.000000      1.000000      1.000000     1.000000     1.000000   \n",
       "\n",
       "        agePct12t29  ...    NumStreet  PctForeignBorn  PctBornSameState  \\\n",
       "count   1994.000000  ...  1994.000000     1994.000000       1994.000000   \n",
       "unique          NaN  ...          NaN             NaN               NaN   \n",
       "top             NaN  ...          NaN             NaN               NaN   \n",
       "freq            NaN  ...          NaN             NaN               NaN   \n",
       "mean       0.493867  ...     0.022778        0.215552          0.608892   \n",
       "std        0.143564  ...     0.100400        0.231134          0.204329   \n",
       "min        0.000000  ...     0.000000        0.000000          0.000000   \n",
       "25%        0.410000  ...     0.000000        0.060000          0.470000   \n",
       "50%        0.480000  ...     0.000000        0.130000          0.630000   \n",
       "75%        0.540000  ...     0.000000        0.280000          0.777500   \n",
       "max        1.000000  ...     1.000000        1.000000          1.000000   \n",
       "\n",
       "        PctSameHouse85  PctSameCity85  PctSameState85     LandArea  \\\n",
       "count      1994.000000    1994.000000     1994.000000  1994.000000   \n",
       "unique             NaN            NaN             NaN          NaN   \n",
       "top                NaN            NaN             NaN          NaN   \n",
       "freq               NaN            NaN             NaN          NaN   \n",
       "mean          0.535050       0.626424        0.651530     0.065231   \n",
       "std           0.181352       0.200521        0.198221     0.109459   \n",
       "min           0.000000       0.000000        0.000000     0.000000   \n",
       "25%           0.420000       0.520000        0.560000     0.020000   \n",
       "50%           0.540000       0.670000        0.700000     0.040000   \n",
       "75%           0.660000       0.770000        0.790000     0.070000   \n",
       "max           1.000000       1.000000        1.000000     1.000000   \n",
       "\n",
       "            PopDens  PctUsePubTrans  ViolentCrimesPerPop  \n",
       "count   1994.000000     1994.000000          1994.000000  \n",
       "unique          NaN             NaN                  NaN  \n",
       "top             NaN             NaN                  NaN  \n",
       "freq            NaN             NaN                  NaN  \n",
       "mean       0.232854        0.161685             0.237979  \n",
       "std        0.203092        0.229055             0.232985  \n",
       "min        0.000000        0.000000             0.000000  \n",
       "25%        0.100000        0.020000             0.070000  \n",
       "50%        0.170000        0.070000             0.150000  \n",
       "75%        0.280000        0.190000             0.330000  \n",
       "max        1.000000        1.000000             1.000000  \n",
       "\n",
       "[11 rows x 100 columns]"
      ]
     },
     "execution_count": 423,
     "metadata": {},
     "output_type": "execute_result"
    }
   ],
   "source": [
    "data.describe(include='all')"
   ]
  },
  {
   "cell_type": "code",
   "execution_count": 424,
   "metadata": {},
   "outputs": [
    {
     "data": {
      "text/plain": [
       "(1994, 100)"
      ]
     },
     "execution_count": 424,
     "metadata": {},
     "output_type": "execute_result"
    }
   ],
   "source": [
    "data = data.dropna(axis=0)\n",
    "data.shape"
   ]
  },
  {
   "cell_type": "code",
   "execution_count": 425,
   "metadata": {},
   "outputs": [
    {
     "name": "stdout",
     "output_type": "stream",
     "text": [
      " columns.size  : 100\n",
      "columns.size  99\n"
     ]
    }
   ],
   "source": [
    "columns =data.columns.values\n",
    "print(\" columns.size  :\",columns.size)\n",
    "\n",
    "columns = columns[:columns.size -1]\n",
    "columns\n",
    "print(\"columns.size \",columns.size)"
   ]
  },
  {
   "cell_type": "code",
   "execution_count": 426,
   "metadata": {},
   "outputs": [
    {
     "data": {
      "text/plain": [
       "0    0.20\n",
       "1    0.67\n",
       "2    0.43\n",
       "3    0.12\n",
       "4    0.03\n",
       "Name: ViolentCrimesPerPop, dtype: float64"
      ]
     },
     "execution_count": 426,
     "metadata": {},
     "output_type": "execute_result"
    }
   ],
   "source": [
    "target_ViolentCrimesPerPop = data['ViolentCrimesPerPop']\n",
    "\n",
    "target_ViolentCrimesPerPop.head()"
   ]
  },
  {
   "cell_type": "code",
   "execution_count": 427,
   "metadata": {},
   "outputs": [
    {
     "data": {
      "text/html": [
       "<div>\n",
       "<style scoped>\n",
       "    .dataframe tbody tr th:only-of-type {\n",
       "        vertical-align: middle;\n",
       "    }\n",
       "\n",
       "    .dataframe tbody tr th {\n",
       "        vertical-align: top;\n",
       "    }\n",
       "\n",
       "    .dataframe thead th {\n",
       "        text-align: right;\n",
       "    }\n",
       "</style>\n",
       "<table border=\"1\" class=\"dataframe\">\n",
       "  <thead>\n",
       "    <tr style=\"text-align: right;\">\n",
       "      <th></th>\n",
       "      <th>population</th>\n",
       "      <th>householdsize</th>\n",
       "      <th>racepctblack</th>\n",
       "      <th>racePctWhite</th>\n",
       "      <th>racePctAsian</th>\n",
       "      <th>racePctHisp</th>\n",
       "      <th>agePct12t21</th>\n",
       "      <th>agePct12t29</th>\n",
       "      <th>agePct16t24</th>\n",
       "      <th>agePct65up</th>\n",
       "      <th>...</th>\n",
       "      <th>NumInShelters</th>\n",
       "      <th>NumStreet</th>\n",
       "      <th>PctForeignBorn</th>\n",
       "      <th>PctBornSameState</th>\n",
       "      <th>PctSameHouse85</th>\n",
       "      <th>PctSameCity85</th>\n",
       "      <th>PctSameState85</th>\n",
       "      <th>LandArea</th>\n",
       "      <th>PopDens</th>\n",
       "      <th>PctUsePubTrans</th>\n",
       "    </tr>\n",
       "  </thead>\n",
       "  <tbody>\n",
       "    <tr>\n",
       "      <th>0</th>\n",
       "      <td>0.19</td>\n",
       "      <td>0.33</td>\n",
       "      <td>0.02</td>\n",
       "      <td>0.90</td>\n",
       "      <td>0.12</td>\n",
       "      <td>0.17</td>\n",
       "      <td>0.34</td>\n",
       "      <td>0.47</td>\n",
       "      <td>0.29</td>\n",
       "      <td>0.32</td>\n",
       "      <td>...</td>\n",
       "      <td>0.04</td>\n",
       "      <td>0.0</td>\n",
       "      <td>0.12</td>\n",
       "      <td>0.42</td>\n",
       "      <td>0.50</td>\n",
       "      <td>0.51</td>\n",
       "      <td>0.64</td>\n",
       "      <td>0.12</td>\n",
       "      <td>0.26</td>\n",
       "      <td>0.20</td>\n",
       "    </tr>\n",
       "    <tr>\n",
       "      <th>1</th>\n",
       "      <td>0.00</td>\n",
       "      <td>0.16</td>\n",
       "      <td>0.12</td>\n",
       "      <td>0.74</td>\n",
       "      <td>0.45</td>\n",
       "      <td>0.07</td>\n",
       "      <td>0.26</td>\n",
       "      <td>0.59</td>\n",
       "      <td>0.35</td>\n",
       "      <td>0.27</td>\n",
       "      <td>...</td>\n",
       "      <td>0.00</td>\n",
       "      <td>0.0</td>\n",
       "      <td>0.21</td>\n",
       "      <td>0.50</td>\n",
       "      <td>0.34</td>\n",
       "      <td>0.60</td>\n",
       "      <td>0.52</td>\n",
       "      <td>0.02</td>\n",
       "      <td>0.12</td>\n",
       "      <td>0.45</td>\n",
       "    </tr>\n",
       "    <tr>\n",
       "      <th>2</th>\n",
       "      <td>0.00</td>\n",
       "      <td>0.42</td>\n",
       "      <td>0.49</td>\n",
       "      <td>0.56</td>\n",
       "      <td>0.17</td>\n",
       "      <td>0.04</td>\n",
       "      <td>0.39</td>\n",
       "      <td>0.47</td>\n",
       "      <td>0.28</td>\n",
       "      <td>0.32</td>\n",
       "      <td>...</td>\n",
       "      <td>0.00</td>\n",
       "      <td>0.0</td>\n",
       "      <td>0.14</td>\n",
       "      <td>0.49</td>\n",
       "      <td>0.54</td>\n",
       "      <td>0.67</td>\n",
       "      <td>0.56</td>\n",
       "      <td>0.01</td>\n",
       "      <td>0.21</td>\n",
       "      <td>0.02</td>\n",
       "    </tr>\n",
       "    <tr>\n",
       "      <th>3</th>\n",
       "      <td>0.04</td>\n",
       "      <td>0.77</td>\n",
       "      <td>1.00</td>\n",
       "      <td>0.08</td>\n",
       "      <td>0.12</td>\n",
       "      <td>0.10</td>\n",
       "      <td>0.51</td>\n",
       "      <td>0.50</td>\n",
       "      <td>0.34</td>\n",
       "      <td>0.21</td>\n",
       "      <td>...</td>\n",
       "      <td>0.00</td>\n",
       "      <td>0.0</td>\n",
       "      <td>0.19</td>\n",
       "      <td>0.30</td>\n",
       "      <td>0.73</td>\n",
       "      <td>0.64</td>\n",
       "      <td>0.65</td>\n",
       "      <td>0.02</td>\n",
       "      <td>0.39</td>\n",
       "      <td>0.28</td>\n",
       "    </tr>\n",
       "    <tr>\n",
       "      <th>4</th>\n",
       "      <td>0.01</td>\n",
       "      <td>0.55</td>\n",
       "      <td>0.02</td>\n",
       "      <td>0.95</td>\n",
       "      <td>0.09</td>\n",
       "      <td>0.05</td>\n",
       "      <td>0.38</td>\n",
       "      <td>0.38</td>\n",
       "      <td>0.23</td>\n",
       "      <td>0.36</td>\n",
       "      <td>...</td>\n",
       "      <td>0.00</td>\n",
       "      <td>0.0</td>\n",
       "      <td>0.11</td>\n",
       "      <td>0.72</td>\n",
       "      <td>0.64</td>\n",
       "      <td>0.61</td>\n",
       "      <td>0.53</td>\n",
       "      <td>0.04</td>\n",
       "      <td>0.09</td>\n",
       "      <td>0.02</td>\n",
       "    </tr>\n",
       "  </tbody>\n",
       "</table>\n",
       "<p>5 rows × 97 columns</p>\n",
       "</div>"
      ],
      "text/plain": [
       "   population  householdsize  racepctblack  racePctWhite  racePctAsian  \\\n",
       "0        0.19           0.33          0.02          0.90          0.12   \n",
       "1        0.00           0.16          0.12          0.74          0.45   \n",
       "2        0.00           0.42          0.49          0.56          0.17   \n",
       "3        0.04           0.77          1.00          0.08          0.12   \n",
       "4        0.01           0.55          0.02          0.95          0.09   \n",
       "\n",
       "   racePctHisp  agePct12t21  agePct12t29  agePct16t24  agePct65up  ...  \\\n",
       "0         0.17         0.34         0.47         0.29        0.32  ...   \n",
       "1         0.07         0.26         0.59         0.35        0.27  ...   \n",
       "2         0.04         0.39         0.47         0.28        0.32  ...   \n",
       "3         0.10         0.51         0.50         0.34        0.21  ...   \n",
       "4         0.05         0.38         0.38         0.23        0.36  ...   \n",
       "\n",
       "   NumInShelters  NumStreet  PctForeignBorn  PctBornSameState  PctSameHouse85  \\\n",
       "0           0.04        0.0            0.12              0.42            0.50   \n",
       "1           0.00        0.0            0.21              0.50            0.34   \n",
       "2           0.00        0.0            0.14              0.49            0.54   \n",
       "3           0.00        0.0            0.19              0.30            0.73   \n",
       "4           0.00        0.0            0.11              0.72            0.64   \n",
       "\n",
       "   PctSameCity85  PctSameState85  LandArea  PopDens  PctUsePubTrans  \n",
       "0           0.51            0.64      0.12     0.26            0.20  \n",
       "1           0.60            0.52      0.02     0.12            0.45  \n",
       "2           0.67            0.56      0.01     0.21            0.02  \n",
       "3           0.64            0.65      0.02     0.39            0.28  \n",
       "4           0.61            0.53      0.04     0.09            0.02  \n",
       "\n",
       "[5 rows x 97 columns]"
      ]
     },
     "execution_count": 427,
     "metadata": {},
     "output_type": "execute_result"
    }
   ],
   "source": [
    "vs_matrix = data.drop(['state','communityname','ViolentCrimesPerPop'],axis=1,inplace=False)\n",
    "vs_matrix.head()"
   ]
  },
  {
   "cell_type": "code",
   "execution_count": 428,
   "metadata": {},
   "outputs": [
    {
     "data": {
      "text/plain": [
       "0    0.20\n",
       "1    0.67\n",
       "2    0.43\n",
       "3    0.12\n",
       "4    0.03\n",
       "Name: ViolentCrimesPerPop, dtype: float64"
      ]
     },
     "execution_count": 428,
     "metadata": {},
     "output_type": "execute_result"
    }
   ],
   "source": [
    "target_ViolentCrimesPerPop = data['ViolentCrimesPerPop']\n",
    "\n",
    "\n",
    "target_ViolentCrimesPerPop.head()"
   ]
  },
  {
   "cell_type": "code",
   "execution_count": 429,
   "metadata": {},
   "outputs": [
    {
     "name": "stdout",
     "output_type": "stream",
     "text": [
      "Input data shape  (1994, 100)\n",
      "Target Shape : (1994,)\n",
      " vs_matrix shape  (1994, 97)\n"
     ]
    }
   ],
   "source": [
    "print(\"Input data shape \",data.shape)\n",
    "print(\"Target Shape :\",target_ViolentCrimesPerPop.shape)\n",
    "print(\" vs_matrix shape \",vs_matrix.shape)"
   ]
  },
  {
   "cell_type": "code",
   "execution_count": 151,
   "metadata": {},
   "outputs": [
    {
     "name": "stdout",
     "output_type": "stream",
     "text": [
      " Test Shape (399, 97) \n",
      " Train Shape (1595, 97)\n"
     ]
    }
   ],
   "source": [
    "#Split the data into training and test sets (80%-20% split).\n",
    "from sklearn.model_selection import train_test_split\n",
    "vs_train, vs_test, vs_target_train, vs_target_test = train_test_split(vs_matrix, target_ViolentCrimesPerPop, test_size=0.2, random_state=33)\n",
    "\n",
    "print(\" Test Shape\",vs_test.shape,\"\\n Train Shape\",vs_train.shape)\n"
   ]
  },
  {
   "cell_type": "markdown",
   "metadata": {},
   "source": [
    "#### b. Perform standard linear regression on data using the closed form solution implementation (not the scikit-learn implementation). Compute the RMSE value on the full training data (the 80% partition). Also, plot the correlation between the predicted and actual values of the target attribute. Display the obtained regression coefficients (weights) and plot them using matplotlib. Finally, perform 10-fold cross-validation and compare the cross-validation RMSE to the training RMSE (for cross validation, you should use the KFold module from sklearn.model_selection)."
   ]
  },
  {
   "cell_type": "code",
   "execution_count": 152,
   "metadata": {},
   "outputs": [],
   "source": [
    "from sklearn.linear_model import LinearRegression"
   ]
  },
  {
   "cell_type": "code",
   "execution_count": 185,
   "metadata": {},
   "outputs": [],
   "source": [
    "x = np.array(vs_train)\n",
    "y = np.array(vs_target_train)\n",
    "\n",
    "# In order to do multiple regression we need to add a column of 1s as the coefficient for x0\n",
    "x = np.array([np.concatenate((v,[1])) for v in x])"
   ]
  },
  {
   "cell_type": "code",
   "execution_count": 186,
   "metadata": {},
   "outputs": [
    {
     "name": "stdout",
     "output_type": "stream",
     "text": [
      "x shape :  (1595, 98)\n",
      "y shape :  (1595,)\n"
     ]
    }
   ],
   "source": [
    "print(\"x shape : \",x.shape)\n",
    "print(\"y shape : \",y.shape)"
   ]
  },
  {
   "cell_type": "code",
   "execution_count": 187,
   "metadata": {},
   "outputs": [
    {
     "data": {
      "text/plain": [
       "array([[0.01, 0.54, 0.02, 0.91, 0.27, 0.04, 0.37, ..., 0.72, 0.74, 0.62, 0.01, 0.2 , 0.47, 1.  ],\n",
       "       [0.99, 0.42, 0.59, 0.44, 0.11, 0.11, 0.44, ..., 0.52, 0.79, 0.75, 0.28, 0.55, 0.62, 1.  ],\n",
       "       [0.01, 0.53, 0.02, 0.95, 0.15, 0.03, 0.27, ..., 0.38, 0.24, 0.51, 0.11, 0.03, 0.09, 1.  ],\n",
       "       [0.07, 0.41, 0.02, 0.97, 0.05, 0.02, 0.32, ..., 0.76, 0.74, 0.84, 0.05, 0.27, 0.4 , 1.  ],\n",
       "       [0.05, 0.41, 0.11, 0.85, 0.23, 0.03, 0.32, ..., 0.2 , 0.23, 0.05, 0.09, 0.12, 0.01, 1.  ],\n",
       "       [0.02, 0.71, 0.17, 0.41, 0.72, 0.64, 0.41, ..., 0.55, 0.84, 0.75, 0.02, 0.24, 0.18, 1.  ],\n",
       "       [0.11, 0.52, 1.  , 0.15, 0.02, 0.01, 0.58, ..., 0.5 , 0.69, 0.71, 0.16, 0.12, 0.1 , 1.  ],\n",
       "       ...,\n",
       "       [0.  , 0.34, 0.01, 0.95, 0.06, 0.06, 0.4 , ..., 0.42, 0.56, 0.64, 0.01, 0.17, 0.05, 1.  ],\n",
       "       [0.04, 0.52, 0.02, 0.86, 0.29, 0.32, 0.37, ..., 0.71, 0.7 , 0.72, 0.02, 0.32, 0.56, 1.  ],\n",
       "       [0.06, 0.43, 0.02, 0.57, 1.  , 0.2 , 0.41, ..., 0.55, 0.73, 0.61, 0.03, 0.37, 0.1 , 1.  ],\n",
       "       [0.05, 0.32, 0.04, 0.94, 0.06, 0.03, 0.37, ..., 0.51, 0.69, 0.7 , 0.04, 0.27, 0.1 , 1.  ],\n",
       "       [0.02, 0.48, 0.23, 0.76, 0.18, 0.06, 0.28, ..., 0.76, 0.65, 0.6 , 0.01, 0.47, 0.98, 1.  ],\n",
       "       [0.01, 0.56, 0.09, 0.77, 0.52, 0.1 , 0.4 , ..., 0.09, 0.  , 0.  , 0.02, 0.19, 0.01, 1.  ],\n",
       "       [0.96, 0.32, 1.  , 0.  , 0.11, 0.1 , 0.39, ..., 0.57, 0.61, 0.33, 0.18, 0.83, 1.  , 1.  ]])"
      ]
     },
     "execution_count": 187,
     "metadata": {},
     "output_type": "execute_result"
    }
   ],
   "source": [
    "x"
   ]
  },
  {
   "cell_type": "code",
   "execution_count": 188,
   "metadata": {},
   "outputs": [
    {
     "data": {
      "text/plain": [
       "array([0.08, 0.4 , 0.02, 0.18, 0.07, 0.33, 0.56, ..., 0.22, 0.18, 0.16, 0.08, 0.19, 0.04, 1.  ])"
      ]
     },
     "execution_count": 188,
     "metadata": {},
     "output_type": "execute_result"
    }
   ],
   "source": [
    "y"
   ]
  },
  {
   "cell_type": "code",
   "execution_count": 189,
   "metadata": {},
   "outputs": [],
   "source": [
    "np.set_printoptions(precision=2, linewidth=120, suppress=True, edgeitems=7)"
   ]
  },
  {
   "cell_type": "code",
   "execution_count": 279,
   "metadata": {},
   "outputs": [],
   "source": [
    "## closed form solution in linear regression\n",
    "## β^=(XTX)−1 * XTy\n",
    "def standReg(x_arr,y_arr):\n",
    "    xMat = np.mat(x_arr)\n",
    "    yMat = np.mat(y_arr).T\n",
    "    \n",
    "    xTx = xMat.T * xMat\n",
    "    \n",
    "    if(np.linalg.det(xTx) == 0.0):\n",
    "        print('This matrix is singular , cannot do inverse')\n",
    "        return\n",
    "    \n",
    "    ws = xTx.I * ( xMat.T * yMat )\n",
    "    \n",
    "    return ws\n",
    "    \n",
    "    "
   ]
  },
  {
   "cell_type": "code",
   "execution_count": 355,
   "metadata": {},
   "outputs": [
    {
     "name": "stdout",
     "output_type": "stream",
     "text": [
      "Regression weights/coefficients \n",
      " [[-0.01]\n",
      " [-0.05]\n",
      " [ 0.22]\n",
      " [-0.05]\n",
      " [-0.02]\n",
      " [ 0.05]\n",
      " [ 0.1 ]\n",
      " [-0.17]\n",
      " [-0.13]\n",
      " [ 0.07]\n",
      " [-0.13]\n",
      " [ 0.04]\n",
      " [-0.2 ]\n",
      " [-0.21]\n",
      " [ 0.04]\n",
      " [-0.07]\n",
      " [ 0.01]\n",
      " [ 0.02]\n",
      " [-0.1 ]\n",
      " [ 0.35]\n",
      " [ 0.08]\n",
      " [-0.35]\n",
      " [-0.03]\n",
      " [-0.04]\n",
      " [ 0.03]\n",
      " [ 0.05]\n",
      " [ 0.04]\n",
      " [ 0.3 ]\n",
      " [-0.24]\n",
      " [-0.01]\n",
      " [-0.05]\n",
      " [ 0.08]\n",
      " [ 0.02]\n",
      " [ 0.23]\n",
      " [-0.05]\n",
      " [-0.04]\n",
      " [ 0.35]\n",
      " [ 0.21]\n",
      " [ 0.08]\n",
      " [-0.36]\n",
      " [-0.16]\n",
      " [-0.02]\n",
      " [-0.26]\n",
      " [-0.05]\n",
      " [-0.01]\n",
      " [ 0.01]\n",
      " [-0.16]\n",
      " [-0.27]\n",
      " [ 0.14]\n",
      " [-0.12]\n",
      " [ 0.01]\n",
      " [ 0.05]\n",
      " [-0.19]\n",
      " [ 0.14]\n",
      " [-0.03]\n",
      " [-0.24]\n",
      " [ 0.64]\n",
      " [-0.38]\n",
      " [-0.  ]\n",
      " [-0.15]\n",
      " [ 0.05]\n",
      " [-0.22]\n",
      " [ 0.57]\n",
      " [ 0.02]\n",
      " [-0.22]\n",
      " [-0.73]\n",
      " [ 0.2 ]\n",
      " [ 0.15]\n",
      " [ 0.03]\n",
      " [ 0.15]\n",
      " [-0.04]\n",
      " [ 0.65]\n",
      " [ 0.07]\n",
      " [-0.08]\n",
      " [-0.03]\n",
      " [ 0.05]\n",
      " [-0.03]\n",
      " [-0.24]\n",
      " [ 0.1 ]\n",
      " [ 0.09]\n",
      " [-0.25]\n",
      " [-0.08]\n",
      " [-0.1 ]\n",
      " [ 0.39]\n",
      " [ 0.06]\n",
      " [-0.03]\n",
      " [-0.08]\n",
      " [ 0.14]\n",
      " [ 0.13]\n",
      " [ 0.17]\n",
      " [-0.01]\n",
      " [-0.03]\n",
      " [ 0.04]\n",
      " [ 0.02]\n",
      " [ 0.02]\n",
      " [ 0.  ]\n",
      " [-0.04]\n",
      " [ 0.52]]\n"
     ]
    }
   ],
   "source": [
    "np.set_printoptions(precision=2, linewidth=120, suppress=True, edgeitems=7)\n",
    "\n",
    "ws = standReg(x,y)\n",
    "print('Regression weights/coefficients \\n',ws)"
   ]
  },
  {
   "cell_type": "code",
   "execution_count": 340,
   "metadata": {},
   "outputs": [],
   "source": [
    "xMat = np.mat(x)\n",
    "yMat = np.mat(y)\n",
    "\n",
    "yHat = xMat * ws"
   ]
  },
  {
   "cell_type": "code",
   "execution_count": 341,
   "metadata": {},
   "outputs": [
    {
     "name": "stdout",
     "output_type": "stream",
     "text": [
      "yHat Shape (1595, 1)\n",
      "yMat shape (1, 1595)\n"
     ]
    }
   ],
   "source": [
    "print('yHat Shape',yHat.shape)\n",
    "print('yMat shape', yMat.shape)"
   ]
  },
  {
   "cell_type": "code",
   "execution_count": 377,
   "metadata": {},
   "outputs": [
    {
     "name": "stdout",
     "output_type": "stream",
     "text": [
      "RMSE :  [[0.13]]\n"
     ]
    }
   ],
   "source": [
    "# Compute the RMSE value on the full training data (the 80% partition)\n",
    "yHat = xMat * ws\n",
    "yHatT = yHat.T ## needed to make it a row vector\n",
    "err = abs(yHatT - yMat)\n",
    "\n",
    "# Dot product of error vector with itself gives us the sum of squared errors\n",
    "total_error = np.dot(err, err.T)\n",
    "\n",
    "rmse = np.sqrt(total_error/len(yHat))\n",
    "print(\"RMSE : \",rmse) "
   ]
  },
  {
   "cell_type": "code",
   "execution_count": 378,
   "metadata": {},
   "outputs": [
    {
     "data": {
      "image/png": "[encoded data removed]",
      "text/plain": [
       "<Figure size 432x288 with 1 Axes>"
      ]
     },
     "metadata": {
      "needs_background": "light"
     },
     "output_type": "display_data"
    }
   ],
   "source": [
    "# Plot the correlation between the predicted and actual values of the target attribute.\n",
    "plt.plot(yMat, yHatT,'bo')\n",
    "plt.plot([0,1.0,0.2],[0,1.0,0.2])\n",
    "plt.xlabel('Actual Values')\n",
    "plt.ylabel('Predicted Values(YHAT)')\n",
    "plt.show()"
   ]
  },
  {
   "cell_type": "code",
   "execution_count": 379,
   "metadata": {},
   "outputs": [
    {
     "data": {
      "text/plain": [
       "array([[1.  , 0.84],\n",
       "       [0.84, 1.  ]])"
      ]
     },
     "execution_count": 379,
     "metadata": {},
     "output_type": "execute_result"
    }
   ],
   "source": [
    "#### get correlation between different all possible pairs\n",
    "np.corrcoef(yHat.T,y)"
   ]
  },
  {
   "cell_type": "code",
   "execution_count": 380,
   "metadata": {},
   "outputs": [],
   "source": [
    "## Elements on the diagonal are 1 because yHat and yMat are perfectly correlated. \n",
    "## The correlation between yHat and yMat is  0.84 indicating they are highly correlated"
   ]
  },
  {
   "cell_type": "markdown",
   "metadata": {},
   "source": [
    "#### perform 10-fold cross-validation and compare the cross-validation RMSE to the training RMSE"
   ]
  },
  {
   "cell_type": "code",
   "execution_count": 381,
   "metadata": {},
   "outputs": [],
   "source": [
    "from sklearn.linear_model import LinearRegression\n",
    "from sklearn.model_selection import KFold"
   ]
  },
  {
   "cell_type": "code",
   "execution_count": 382,
   "metadata": {},
   "outputs": [],
   "source": [
    "# Create linear regression object\n",
    "linreg = LinearRegression()"
   ]
  },
  {
   "cell_type": "code",
   "execution_count": 383,
   "metadata": {},
   "outputs": [
    {
     "data": {
      "text/plain": [
       "LinearRegression()"
      ]
     },
     "execution_count": 383,
     "metadata": {},
     "output_type": "execute_result"
    }
   ],
   "source": [
    "# Train the model using the training set\n",
    "linreg.fit(x,y)"
   ]
  },
  {
   "cell_type": "code",
   "execution_count": 384,
   "metadata": {},
   "outputs": [
    {
     "name": "stdout",
     "output_type": "stream",
     "text": [
      "RMSE on Training Data:  0.1261959313342669\n"
     ]
    }
   ],
   "source": [
    "# First, let's compute errors on all training instances\n",
    "p = linreg.predict(x) # p is the array of predicted values\n",
    "\n",
    "# Now we can constuct an array of errors\n",
    "err = abs(p-y)\n",
    "\n",
    "# Dot product of error vector with itself gives us the sum of squared errors\n",
    "total_error = np.dot(err,err)\n",
    "\n",
    "# Finally compute RMSE\n",
    "rmse_train = np.sqrt(total_error/len(p))\n",
    "print(\"RMSE on Training Data: \", rmse_train)"
   ]
  },
  {
   "cell_type": "code",
   "execution_count": 385,
   "metadata": {},
   "outputs": [
    {
     "name": "stdout",
     "output_type": "stream",
     "text": [
      "Regression Coefficients: \n",
      " [-0.01 -0.05  0.22 -0.05 -0.02  0.05  0.1  -0.17 -0.13  0.07 -0.13  0.04 -0.2  -0.21  0.04 -0.07  0.01  0.02 -0.1\n",
      "  0.35  0.08 -0.35 -0.03 -0.04  0.03  0.05  0.04  0.3  -0.24 -0.01 -0.05  0.08  0.02  0.23 -0.05 -0.04  0.35  0.21\n",
      "  0.08 -0.36 -0.16 -0.02 -0.26 -0.05 -0.01  0.01 -0.16 -0.27  0.14 -0.12  0.01  0.05 -0.19  0.14 -0.03 -0.24  0.64\n",
      " -0.38 -0.   -0.15  0.05 -0.22  0.57  0.02 -0.22 -0.73  0.2   0.15  0.03  0.15 -0.04  0.65  0.07 -0.08 -0.03  0.05\n",
      " -0.03 -0.24  0.1   0.09 -0.25 -0.08 -0.1   0.39  0.06 -0.03 -0.08  0.14  0.13  0.17 -0.01 -0.03  0.04  0.02  0.02\n",
      "  0.   -0.04  0.  ]\n"
     ]
    }
   ],
   "source": [
    "# We can view the regression coefficients\n",
    "print('Regression Coefficients: \\n', linreg.coef_)"
   ]
  },
  {
   "cell_type": "code",
   "execution_count": 524,
   "metadata": {},
   "outputs": [],
   "source": [
    "## divide data into 10 folds\n",
    "kfold = KFold(n_splits=10)\n",
    "\n",
    "xval_err = 0;\n",
    "\n",
    "for train,test in kfold.split(x):\n",
    "    linreg.fit(x[train],y[train])\n",
    "    p = linreg.predict(x[test])\n",
    "    e = p-y[test]\n",
    "    xval_err += np.dot(e,e)\n",
    "    \n",
    "rmse_10cv = np.sqrt(xval_err/len(x))"
   ]
  },
  {
   "cell_type": "code",
   "execution_count": 525,
   "metadata": {},
   "outputs": [
    {
     "name": "stdout",
     "output_type": "stream",
     "text": [
      "rmse in closed form  0.12619593133426688  sklearn => Original rmse: 0.12619593      10 fold rmse: 0.13455333\n"
     ]
    }
   ],
   "source": [
    "print(\"rmse in closed form \",rmse.flatten().A[0][0],\" sklearn => Original rmse: {:.8f}\".format(rmse_train) , \"     10 fold rmse: {:.8f}\".format(rmse_10cv))"
   ]
  },
  {
   "cell_type": "markdown",
   "metadata": {},
   "source": [
    "### as we can see from above the RMSE increased after 10 Kfolds"
   ]
  },
  {
   "cell_type": "code",
   "execution_count": null,
   "metadata": {},
   "outputs": [],
   "source": []
  },
  {
   "cell_type": "markdown",
   "metadata": {},
   "source": [
    "## 1.c Feature Selection:  use the scikit-learn regression model from sklearn.linear_model with a subset of features to perform linear regression"
   ]
  },
  {
   "cell_type": "code",
   "execution_count": 468,
   "metadata": {},
   "outputs": [],
   "source": [
    "from sklearn import feature_selection"
   ]
  },
  {
   "cell_type": "code",
   "execution_count": 547,
   "metadata": {},
   "outputs": [
    {
     "data": {
      "text/plain": [
       "(1994, 100)"
      ]
     },
     "execution_count": 547,
     "metadata": {},
     "output_type": "execute_result"
    }
   ],
   "source": [
    "data.shape"
   ]
  },
  {
   "cell_type": "code",
   "execution_count": 548,
   "metadata": {},
   "outputs": [
    {
     "data": {
      "text/html": [
       "<div>\n",
       "<style scoped>\n",
       "    .dataframe tbody tr th:only-of-type {\n",
       "        vertical-align: middle;\n",
       "    }\n",
       "\n",
       "    .dataframe tbody tr th {\n",
       "        vertical-align: top;\n",
       "    }\n",
       "\n",
       "    .dataframe thead th {\n",
       "        text-align: right;\n",
       "    }\n",
       "</style>\n",
       "<table border=\"1\" class=\"dataframe\">\n",
       "  <thead>\n",
       "    <tr style=\"text-align: right;\">\n",
       "      <th></th>\n",
       "      <th>population</th>\n",
       "      <th>householdsize</th>\n",
       "      <th>racepctblack</th>\n",
       "      <th>racePctWhite</th>\n",
       "      <th>racePctAsian</th>\n",
       "      <th>racePctHisp</th>\n",
       "      <th>agePct12t21</th>\n",
       "      <th>agePct12t29</th>\n",
       "      <th>agePct16t24</th>\n",
       "      <th>agePct65up</th>\n",
       "      <th>...</th>\n",
       "      <th>NumInShelters</th>\n",
       "      <th>NumStreet</th>\n",
       "      <th>PctForeignBorn</th>\n",
       "      <th>PctBornSameState</th>\n",
       "      <th>PctSameHouse85</th>\n",
       "      <th>PctSameCity85</th>\n",
       "      <th>PctSameState85</th>\n",
       "      <th>LandArea</th>\n",
       "      <th>PopDens</th>\n",
       "      <th>PctUsePubTrans</th>\n",
       "    </tr>\n",
       "  </thead>\n",
       "  <tbody>\n",
       "    <tr>\n",
       "      <th>0</th>\n",
       "      <td>0.19</td>\n",
       "      <td>0.33</td>\n",
       "      <td>0.02</td>\n",
       "      <td>0.90</td>\n",
       "      <td>0.12</td>\n",
       "      <td>0.17</td>\n",
       "      <td>0.34</td>\n",
       "      <td>0.47</td>\n",
       "      <td>0.29</td>\n",
       "      <td>0.32</td>\n",
       "      <td>...</td>\n",
       "      <td>0.04</td>\n",
       "      <td>0.0</td>\n",
       "      <td>0.12</td>\n",
       "      <td>0.42</td>\n",
       "      <td>0.50</td>\n",
       "      <td>0.51</td>\n",
       "      <td>0.64</td>\n",
       "      <td>0.12</td>\n",
       "      <td>0.26</td>\n",
       "      <td>0.20</td>\n",
       "    </tr>\n",
       "    <tr>\n",
       "      <th>1</th>\n",
       "      <td>0.00</td>\n",
       "      <td>0.16</td>\n",
       "      <td>0.12</td>\n",
       "      <td>0.74</td>\n",
       "      <td>0.45</td>\n",
       "      <td>0.07</td>\n",
       "      <td>0.26</td>\n",
       "      <td>0.59</td>\n",
       "      <td>0.35</td>\n",
       "      <td>0.27</td>\n",
       "      <td>...</td>\n",
       "      <td>0.00</td>\n",
       "      <td>0.0</td>\n",
       "      <td>0.21</td>\n",
       "      <td>0.50</td>\n",
       "      <td>0.34</td>\n",
       "      <td>0.60</td>\n",
       "      <td>0.52</td>\n",
       "      <td>0.02</td>\n",
       "      <td>0.12</td>\n",
       "      <td>0.45</td>\n",
       "    </tr>\n",
       "    <tr>\n",
       "      <th>2</th>\n",
       "      <td>0.00</td>\n",
       "      <td>0.42</td>\n",
       "      <td>0.49</td>\n",
       "      <td>0.56</td>\n",
       "      <td>0.17</td>\n",
       "      <td>0.04</td>\n",
       "      <td>0.39</td>\n",
       "      <td>0.47</td>\n",
       "      <td>0.28</td>\n",
       "      <td>0.32</td>\n",
       "      <td>...</td>\n",
       "      <td>0.00</td>\n",
       "      <td>0.0</td>\n",
       "      <td>0.14</td>\n",
       "      <td>0.49</td>\n",
       "      <td>0.54</td>\n",
       "      <td>0.67</td>\n",
       "      <td>0.56</td>\n",
       "      <td>0.01</td>\n",
       "      <td>0.21</td>\n",
       "      <td>0.02</td>\n",
       "    </tr>\n",
       "    <tr>\n",
       "      <th>3</th>\n",
       "      <td>0.04</td>\n",
       "      <td>0.77</td>\n",
       "      <td>1.00</td>\n",
       "      <td>0.08</td>\n",
       "      <td>0.12</td>\n",
       "      <td>0.10</td>\n",
       "      <td>0.51</td>\n",
       "      <td>0.50</td>\n",
       "      <td>0.34</td>\n",
       "      <td>0.21</td>\n",
       "      <td>...</td>\n",
       "      <td>0.00</td>\n",
       "      <td>0.0</td>\n",
       "      <td>0.19</td>\n",
       "      <td>0.30</td>\n",
       "      <td>0.73</td>\n",
       "      <td>0.64</td>\n",
       "      <td>0.65</td>\n",
       "      <td>0.02</td>\n",
       "      <td>0.39</td>\n",
       "      <td>0.28</td>\n",
       "    </tr>\n",
       "    <tr>\n",
       "      <th>4</th>\n",
       "      <td>0.01</td>\n",
       "      <td>0.55</td>\n",
       "      <td>0.02</td>\n",
       "      <td>0.95</td>\n",
       "      <td>0.09</td>\n",
       "      <td>0.05</td>\n",
       "      <td>0.38</td>\n",
       "      <td>0.38</td>\n",
       "      <td>0.23</td>\n",
       "      <td>0.36</td>\n",
       "      <td>...</td>\n",
       "      <td>0.00</td>\n",
       "      <td>0.0</td>\n",
       "      <td>0.11</td>\n",
       "      <td>0.72</td>\n",
       "      <td>0.64</td>\n",
       "      <td>0.61</td>\n",
       "      <td>0.53</td>\n",
       "      <td>0.04</td>\n",
       "      <td>0.09</td>\n",
       "      <td>0.02</td>\n",
       "    </tr>\n",
       "  </tbody>\n",
       "</table>\n",
       "<p>5 rows × 97 columns</p>\n",
       "</div>"
      ],
      "text/plain": [
       "   population  householdsize  racepctblack  racePctWhite  racePctAsian  \\\n",
       "0        0.19           0.33          0.02          0.90          0.12   \n",
       "1        0.00           0.16          0.12          0.74          0.45   \n",
       "2        0.00           0.42          0.49          0.56          0.17   \n",
       "3        0.04           0.77          1.00          0.08          0.12   \n",
       "4        0.01           0.55          0.02          0.95          0.09   \n",
       "\n",
       "   racePctHisp  agePct12t21  agePct12t29  agePct16t24  agePct65up  ...  \\\n",
       "0         0.17         0.34         0.47         0.29        0.32  ...   \n",
       "1         0.07         0.26         0.59         0.35        0.27  ...   \n",
       "2         0.04         0.39         0.47         0.28        0.32  ...   \n",
       "3         0.10         0.51         0.50         0.34        0.21  ...   \n",
       "4         0.05         0.38         0.38         0.23        0.36  ...   \n",
       "\n",
       "   NumInShelters  NumStreet  PctForeignBorn  PctBornSameState  PctSameHouse85  \\\n",
       "0           0.04        0.0            0.12              0.42            0.50   \n",
       "1           0.00        0.0            0.21              0.50            0.34   \n",
       "2           0.00        0.0            0.14              0.49            0.54   \n",
       "3           0.00        0.0            0.19              0.30            0.73   \n",
       "4           0.00        0.0            0.11              0.72            0.64   \n",
       "\n",
       "   PctSameCity85  PctSameState85  LandArea  PopDens  PctUsePubTrans  \n",
       "0           0.51            0.64      0.12     0.26            0.20  \n",
       "1           0.60            0.52      0.02     0.12            0.45  \n",
       "2           0.67            0.56      0.01     0.21            0.02  \n",
       "3           0.64            0.65      0.02     0.39            0.28  \n",
       "4           0.61            0.53      0.04     0.09            0.02  \n",
       "\n",
       "[5 rows x 97 columns]"
      ]
     },
     "execution_count": 548,
     "metadata": {},
     "output_type": "execute_result"
    }
   ],
   "source": [
    "vs_matrix = data.drop(['state','communityname','ViolentCrimesPerPop'],axis=1,inplace=False)\n",
    "vs_matrix.head()"
   ]
  },
  {
   "cell_type": "code",
   "execution_count": 549,
   "metadata": {},
   "outputs": [],
   "source": [
    "vs_train, vs_test, vs_target_train, vs_target_test = train_test_split(vs_matrix, target_ViolentCrimesPerPop, test_size=0.2, random_state=33)\n"
   ]
  },
  {
   "cell_type": "code",
   "execution_count": 550,
   "metadata": {},
   "outputs": [
    {
     "name": "stdout",
     "output_type": "stream",
     "text": [
      "vs_train shape  (1595, 97)  test shape  (399, 97)\n",
      "train target shape  (1595,)  Test target shape  (399,)\n"
     ]
    }
   ],
   "source": [
    "print(\"vs_train shape \",vs_train.shape, \" test shape \",vs_test.shape)\n",
    "\n",
    "print(\"train target shape \",vs_target_train.shape,\" Test target shape \",vs_target_test.shape)\n",
    "\n",
    "x_train = np.array(vs_train)\n",
    "y_train = np.array(vs_target_train)\n",
    "\n",
    "x_test = np.array(vs_test)\n",
    "y_test = np.array(vs_target_test)"
   ]
  },
  {
   "cell_type": "code",
   "execution_count": 542,
   "metadata": {},
   "outputs": [
    {
     "data": {
      "text/plain": [
       "1184    0.08\n",
       "401     0.40\n",
       "1864    0.02\n",
       "1390    0.18\n",
       "1066    0.07\n",
       "        ... \n",
       "658     0.16\n",
       "578     0.08\n",
       "1752    0.19\n",
       "391     0.04\n",
       "1044    1.00\n",
       "Name: ViolentCrimesPerPop, Length: 1595, dtype: float64"
      ]
     },
     "execution_count": 542,
     "metadata": {},
     "output_type": "execute_result"
    }
   ],
   "source": [
    "vs_target_train"
   ]
  },
  {
   "cell_type": "code",
   "execution_count": 543,
   "metadata": {},
   "outputs": [],
   "source": [
    "linreg = LinearRegression()"
   ]
  },
  {
   "cell_type": "code",
   "execution_count": 569,
   "metadata": {},
   "outputs": [],
   "source": [
    "from sklearn.feature_selection import SelectPercentile, f_regression\n",
    "from sklearn.model_selection import cross_val_score\n",
    "import math"
   ]
  },
  {
   "cell_type": "code",
   "execution_count": 622,
   "metadata": {},
   "outputs": [
    {
     "name": "stdout",
     "output_type": "stream",
     "text": [
      "index \t  cv_score\n",
      "  1   \t 0.11287401163402822\n",
      "  6   \t 0.09943268475677307\n",
      "  11   \t 0.09900510519125442\n",
      "  16   \t 0.09909059079526808\n",
      "  21   \t 0.0975068622131086\n",
      "  26   \t 0.09608904536542377\n",
      "  31   \t 0.09478480270197638\n",
      "  36   \t 0.09474955355002232\n",
      "  41   \t 0.09435370428857699\n",
      "  46   \t 0.09466441760571027\n",
      "  51   \t 0.09498773346781053\n",
      "  56   \t 0.09532085164805941\n",
      "  61   \t 0.095749668892545\n",
      "  66   \t 0.09572089544915725\n",
      "  71   \t 0.09583132229767208\n",
      "  76   \t 0.09519157369784723\n",
      "  81   \t 0.0954256882753639\n",
      "  86   \t 0.09513624310358182\n",
      "  91   \t 0.09525366581598069\n",
      "  96   \t 0.0952762785288391\n",
      "\n",
      "Optimal percentile of features:41\n",
      "\n",
      "optimal_percent :  [8]  Optimal number of features:39 \n",
      "\n"
     ]
    }
   ],
   "source": [
    "percentiles = range(1,100,5)\n",
    "scorer='neg_mean_absolute_error'\n",
    "fold = 5\n",
    "\n",
    "def optimal_num_features(model , train_data , target , num_of_fold , percentile_range,scoring):\n",
    "    \n",
    "    results = []\n",
    "    \n",
    "    print(\"index \\t  cv_score\")\n",
    "    for i in percentile_range:\n",
    "        fs = SelectPercentile(f_regression,percentile=i)\n",
    "        X_train_fs = fs.fit_transform(train_data,target)\n",
    "\n",
    "        cv_scores = abs(cross_val_score(model, X_train_fs, target, cv=num_of_fold,scoring=scorer))\n",
    "\n",
    "        print (\" \",i,\"  \\t\",cv_scores.mean())\n",
    "\n",
    "        results = np.append(results,cv_scores.mean())\n",
    "\n",
    "    optimal_percent = np.where(results == results.min())[0]\n",
    "    print (\"\\nOptimal percentile of features:{0}\".format(percentiles[int(optimal_percent)]))\n",
    "    \n",
    "    return optimal_percent, results\n",
    "\n",
    "\n",
    "\n",
    "optimal_percent, results = optimal_num_features(linreg,x_train,y_train,fold,percentiles,scorer)\n",
    "\n",
    "optimal_num_features = int(math.floor(percentiles[int(optimal_percent)]*x_train.shape[1]/100))\n",
    "print (\"\\noptimal_percent : \",optimal_percent,\" Optimal number of features:{0}\".format(optimal_num_features), \"\\n\")"
   ]
  },
  {
   "cell_type": "code",
   "execution_count": 605,
   "metadata": {},
   "outputs": [
    {
     "data": {
      "text/plain": [
       "[<matplotlib.lines.Line2D at 0x1ad31738a60>]"
      ]
     },
     "execution_count": 605,
     "metadata": {},
     "output_type": "execute_result"
    },
    {
     "data": {
      "image/png": "[encoded data removed]",
      "text/plain": [
       "<Figure size 432x288 with 1 Axes>"
      ]
     },
     "metadata": {
      "needs_background": "light"
     },
     "output_type": "display_data"
    }
   ],
   "source": [
    "# Plot percentile of features VS. cross-validation scores\n",
    "import pylab as pl\n",
    "pl.figure()\n",
    "pl.xlabel(\"Percentage of features selected\")\n",
    "pl.ylabel(\"Cross validation accuracy\")\n",
    "pl.plot(percentiles,results,label=' Best Percentile Graph')"
   ]
  },
  {
   "cell_type": "markdown",
   "metadata": {},
   "source": [
    "#### Show the list of most informative variables and their weights"
   ]
  },
  {
   "cell_type": "code",
   "execution_count": 630,
   "metadata": {},
   "outputs": [
    {
     "name": "stdout",
     "output_type": "stream",
     "text": [
      "optimal_percent  41\n",
      "\n",
      "population \t 256.0323547372104\n",
      "racepctblack \t 1074.8895092675332\n",
      "racePctWhite \t 1412.507812392418\n",
      "numbUrban \t 247.77613854814712\n",
      "medIncome \t 341.6325375231915\n",
      "pctWWage \t 161.57075094157048\n",
      "pctWInvInc \t 756.0149723312642\n",
      "pctWPubAsst \t 784.5706408092445\n",
      "medFamInc \t 366.9004218440599\n",
      "perCapInc \t 214.9931579906875\n",
      "NumUnderPov \t 400.30785689079215\n",
      "PctPopUnderPov \t 578.8173652137692\n",
      "PctLess9thGrade \t 319.21810810192335\n",
      "PctNotHSGrad \t 472.1962078690574\n",
      "PctBSorMore \t 173.3668431842841\n",
      "PctUnemployed \t 533.9131521991873\n",
      "PctEmploy \t 190.46526246383505\n",
      "MalePctDivorce \t 602.7748935816096\n",
      "FemalePctDiv \t 704.7727390048349\n",
      "TotalPctDiv \t 693.1378303822019\n",
      "PctFam2Par \t 1657.8650169981222\n",
      "PctKids2Par \t 1972.8040638663977\n",
      "PctYoungKids2Par \t 1342.1736137875287\n",
      "PctTeen2Par \t 1299.5351058426954\n",
      "NumIlleg \t 431.63556026914017\n",
      "PctIlleg \t 1936.1208737826912\n",
      "PctLargHouseFam \t 241.2338163602986\n",
      "PctPersOwnOccup \t 630.760339373983\n",
      "PctPersDenseHous \t 375.64590187612174\n",
      "PctHousLess3BR \t 487.9616808423965\n",
      "MedNumBR \t 242.06642994789578\n",
      "HousVacant \t 339.968618162094\n",
      "PctHousOccup \t 173.73941701732582\n",
      "PctHousOwnOcc \t 478.53042971844854\n",
      "PctVacantBoarded \t 507.63640854199105\n",
      "PctHousNoPhone \t 505.86265274688\n",
      "PctWOFullPlumb \t 209.11490495589555\n",
      "MedRentPctHousInc \t 178.68419423618568\n",
      "NumInShelters \t 265.8459418752538\n",
      "NumStreet \t 169.53426122290423\n"
     ]
    }
   ],
   "source": [
    "print(\"optimal_percent \",percentiles[int(optimal_percent)])\n",
    "print()\n",
    "fs = SelectPercentile(f_regression,percentile=percentiles[int(optimal_percent)])\n",
    "X_train_fs = fs.fit_transform(x_train,y_train)\n",
    "\n",
    "for i in range(len(vs_matrix.columns.values)):\n",
    "    if fs.get_support()[i]:\n",
    "        print (vs_train.columns.values[i],'\\t', fs.scores_[i])"
   ]
  },
  {
   "cell_type": "markdown",
   "metadata": {},
   "source": [
    "#### As a final step, train your model on the full 80% training data and evaluate it using the set-aside 20% test partition"
   ]
  },
  {
   "cell_type": "code",
   "execution_count": 762,
   "metadata": {},
   "outputs": [
    {
     "name": "stdout",
     "output_type": "stream",
     "text": [
      "Test Data Shape  (399, 97)  \n",
      "x_train shape  (1595, 97)  y_train shape  (1595,)\n",
      "optimal_percent  41\n",
      "\n",
      "Mean absolute Error (MAE) of the testing data is 0.02115297\n"
     ]
    }
   ],
   "source": [
    "from sklearn.metrics import mean_squared_error, mean_absolute_error\n",
    "\n",
    "# Calculating Mean absolute Error on the testing using 39 informatic features\n",
    "print('Test Data Shape ',x_test.shape, ' \\nx_train shape ',x_train.shape,' y_train shape ',y_train.shape)\n",
    "print(\"optimal_percent \",percentiles[int(optimal_percent)])\n",
    "print()\n",
    "fs = SelectPercentile(f_regression,percentile=percentiles[int(optimal_percent)])\n",
    "x_train_fs = fs.fit_transform(x_train,y_train)\n",
    "\n",
    "##print('x_train_fs Data Shape ',x_train_fs.shape)\n",
    "\n",
    "## train model\n",
    "linreg = LinearRegression()\n",
    "linreg.fit(x_train_fs, y_train)\n",
    "\n",
    "## predict test \n",
    "x_test_fs = fs.transform(x_test)\n",
    "##print('x_test_fs Data Shape ',x_test_fs.shape)\n",
    "lr_pred = linreg.predict(x_test_fs)\n",
    "\n",
    "lr_mae = mean_squared_error(y_test, lr_pred)\n",
    "\n",
    "print ('Mean absolute Error (MAE) of the testing data is %0.8f' % lr_mae)"
   ]
  },
  {
   "cell_type": "markdown",
   "metadata": {},
   "source": [
    "#### using the best set of features the model gives MAE of 0.02 on test data"
   ]
  },
  {
   "cell_type": "markdown",
   "metadata": {},
   "source": [
    "### 1.d Next, perform Ridge Regression and Lasso Regression using the modules from sklearn.linear_model. In each case, perform systematic model selection to identify the optimal alpha parameter"
   ]
  },
  {
   "cell_type": "code",
   "execution_count": 763,
   "metadata": {},
   "outputs": [],
   "source": [
    "from sklearn.linear_model import Ridge, Lasso"
   ]
  },
  {
   "cell_type": "code",
   "execution_count": 764,
   "metadata": {},
   "outputs": [
    {
     "name": "stdout",
     "output_type": "stream",
     "text": [
      "input data Shape (1994, 100)\n",
      "vs_train shape  (1595, 97)  test shape  (399, 97)\n",
      "train target shape  (1595,)  Test target shape  (399,)\n"
     ]
    }
   ],
   "source": [
    "\n",
    "print('input data Shape',data.shape)\n",
    "\n",
    "vs_matrix = np.array(data.drop(['state','communityname','ViolentCrimesPerPop'],axis=1,inplace=False))\n",
    "\n",
    "\n",
    "vs_train, vs_test, vs_target_train, vs_target_test = train_test_split(vs_matrix, target_ViolentCrimesPerPop, test_size=0.2, random_state=33)\n",
    "\n",
    "print(\"vs_train shape \",vs_train.shape, \" test shape \",vs_test.shape)\n",
    "\n",
    "print(\"train target shape \",vs_target_train.shape,\" Test target shape \",vs_target_test.shape)\n",
    "\n",
    "x_train = np.array(vs_train)\n",
    "y_train = np.array(vs_target_train)\n",
    "\n",
    "x_test = np.array(vs_test)\n",
    "y_test = np.array(vs_target_test)"
   ]
  },
  {
   "cell_type": "code",
   "execution_count": 822,
   "metadata": {},
   "outputs": [],
   "source": [
    "def calc_params(D, y, model, param_values, param_name, K, verbose, model_name):\n",
    "    \n",
    "    # Convert input to Numpy arrays\n",
    "    D = np.array(D)\n",
    "    y = np.array(y)\n",
    "\n",
    "#     print(\" param_values \",param_values)\n",
    "#     print(\" param_name \",param_name)\n",
    "    # initialize training and testing score arrays with zeros\n",
    "    train_scores = np.zeros(len(param_values))\n",
    "    test_scores = np.zeros(len(param_values))\n",
    "    \n",
    "   \n",
    "    # iterate over the different parameter values\n",
    "    for i, param_value in enumerate(param_values):\n",
    "        \n",
    "        \n",
    "        # set classifier parameters\n",
    "        model.set_params(**{param_name:param_value})\n",
    "        \n",
    "        # initialize the K scores obtained for each fold\n",
    "        k_train_scores = np.zeros(K)\n",
    "        k_test_scores = np.zeros(K)\n",
    "        \n",
    "        # create KFold cross validation\n",
    "        cv = KFold(n_splits=K, shuffle=True, random_state=0)\n",
    "        \n",
    "        # iterate over the K folds\n",
    "        j = 0\n",
    "        for train, test in cv.split(D):\n",
    "            # fit the classifier in the corresponding fold\n",
    "            # and obtain the corresponding accuracy scores on train and test sets\n",
    "            model.fit(D[train], y[train])\n",
    "            k_train_scores[j] = model.score(D[train], y[train])\n",
    "            k_test_scores[j] = model.score(D[test], y[test])\n",
    "            j += 1\n",
    "            \n",
    "        # store the mean of the K fold scores\n",
    "        train_scores[i] = np.mean(k_train_scores)\n",
    "        test_scores[i] = np.mean(k_test_scores)\n",
    "        if(verbose):\n",
    "            print(param_name, ' = ', param_value,\" => i :: \",i,\" train_scores[i] \",train_scores[i],\" test_scores[i] \",test_scores[i])\n",
    "    \n",
    "    # plot the training and testing scores in a log scale\n",
    "    fig = plt.figure(figsize=(15,10))\n",
    "    \n",
    "    plt.plot(param_values, train_scores, label='Train', alpha=0.4, lw=2, c='b')\n",
    "    plt.plot(param_values, test_scores, label='Test', alpha=0.4, lw=2, c='g')\n",
    "    plt.title(model_name)\n",
    "    plt.legend(loc=7)\n",
    "    plt.xlabel(param_name + \" values\")\n",
    "    plt.ylabel(\"Mean cross validation accuracy\")\n",
    "\n",
    "    min_err_idx = np.where(test_scores == test_scores.min())\n",
    "    min_err_alpha = param_values[min_err_idx]\n",
    "    \n",
    "    ##print ('The minimum MAE using cross validation is:', test_scores[min_err_idx][0],'with', param_name,':', min_err_alpha[0])\n",
    "    \n",
    "    # return the training and testing scores on each parameter value\n",
    "    return train_scores, test_scores, min_err_alpha,min_err_idx\n",
    "    "
   ]
  },
  {
   "cell_type": "code",
   "execution_count": 823,
   "metadata": {},
   "outputs": [
    {
     "name": "stdout",
     "output_type": "stream",
     "text": [
      " train shape  (1595, 97)  y-train shape  (1595,)\n",
      "\n",
      "\n",
      " The minimum MAE for \" Ridge \" using cross validation is: 0.6480669282849396 with alpha : 0.01\n",
      "\n",
      "\n",
      " The minimum MAE for \" Lasso \" using cross validation is: -0.004835803679869022 with alpha : 0.41795918367346935\n"
     ]
    },
    {
     "data": {
      "image/png": "[encoded data removed]",
      "text/plain": [
       "<Figure size 1080x720 with 1 Axes>"
      ]
     },
     "metadata": {
      "needs_background": "light"
     },
     "output_type": "display_data"
    },
    {
     "data": {
      "image/png": "[encoded data removed]",
      "text/plain": [
       "<Figure size 1080x720 with 1 Axes>"
      ]
     },
     "metadata": {
      "needs_background": "light"
     },
     "output_type": "display_data"
    }
   ],
   "source": [
    "print(' train shape ',x_train.shape,' y-train shape ',y_train.shape)\n",
    "alpha = np.linspace(.01,20,50)\n",
    "alpha = np.array([float(e) for e in alpha])\n",
    "\n",
    "number_of_fold = 5\n",
    "param_name = 'alpha'\n",
    "param_values = alpha\n",
    "verbose = False\n",
    "\n",
    "models = {'Ridge': Ridge(),'Lasso':Lasso()}\n",
    "min_alpha = {}\n",
    "for key in models.keys():\n",
    "    \n",
    "    train_scores, test_scores, min_err_alpha,min_err_idx = calc_params(x_train, y_train, models.get(key), param_values, param_name, number_of_fold,verbose,key)\n",
    "    \n",
    "    print ('\\n\\n The minimum MAE for \\\"',key,'\\\" using cross validation is:', test_scores[min_err_idx][0],'with', param_name,':', min_err_alpha[0])\n",
    "    min_alpha[key]=min_err_alpha[0]\n",
    "\n"
   ]
  },
  {
   "cell_type": "code",
   "execution_count": 824,
   "metadata": {},
   "outputs": [
    {
     "name": "stdout",
     "output_type": "stream",
     "text": [
      "############################### running the models on Test #######################################\n",
      "Ridge  => Mean absolute error on test data: 0.10099847 using alpha = 0.01\n",
      "Lasso  => Mean absolute error on test data: 0.18074394 using alpha = 0.41795918367346935\n"
     ]
    }
   ],
   "source": [
    "    \n",
    "print(\"############################### running the models on Test #######################################\")\n",
    "model = None\n",
    "for key in min_alpha.keys():\n",
    "    if(key=='Ridge'):\n",
    "        model = Ridge(fit_intercept=True, alpha=min_alpha.get(key))\n",
    "        model.fit(x_train, y_train)    \n",
    "       \n",
    "    else :\n",
    "        model = Lasso(fit_intercept=True, alpha=min_alpha.get(key))\n",
    "        model.fit(x_train, y_train)    \n",
    "        \n",
    "      \n",
    "    pred = model.predict(x_test)\n",
    "    MAE = mean_absolute_error(y_test, pred)\n",
    "    print(key,' => Mean absolute error on test data: %0.8f' % MAE, 'using alpha =',min_alpha.get(key))\n"
   ]
  },
  {
   "cell_type": "markdown",
   "metadata": {},
   "source": [
    "# Analysis is Pending - sharmaji\n"
   ]
  },
  {
   "cell_type": "markdown",
   "metadata": {},
   "source": [
    "## 1.e Next, perform regression using Stochastic Gradient Descent for regression"
   ]
  },
  {
   "cell_type": "code",
   "execution_count": 825,
   "metadata": {},
   "outputs": [],
   "source": [
    "from sklearn.linear_model import SGDRegressor\n",
    "from sklearn.preprocessing import StandardScaler\n",
    "from sklearn.model_selection import GridSearchCV"
   ]
  },
  {
   "cell_type": "code",
   "execution_count": 826,
   "metadata": {},
   "outputs": [
    {
     "name": "stdout",
     "output_type": "stream",
     "text": [
      "input data Shape (1994, 100)\n",
      "vs_train shape  (1595, 97)  test shape  (399, 97)\n",
      "train target shape  (1595,)  Test target shape  (399,)\n"
     ]
    }
   ],
   "source": [
    "\n",
    "print('input data Shape',data.shape)\n",
    "\n",
    "vs_matrix = np.array(data.drop(['state','communityname','ViolentCrimesPerPop'],axis=1,inplace=False))\n",
    "\n",
    "# Standardize the data\n",
    "scaler = StandardScaler()\n",
    "scaler.fit(vs_matrix)\n",
    "vs_matrix = scaler.transform(vs_matrix)\n",
    "\n",
    "\n",
    "vs_train, vs_test, vs_target_train, vs_target_test = train_test_split(vs_matrix, target_ViolentCrimesPerPop, test_size=0.2, random_state=33)\n",
    "\n",
    "print(\"vs_train shape \",vs_train.shape, \" test shape \",vs_test.shape)\n",
    "\n",
    "print(\"train target shape \",vs_target_train.shape,\" Test target shape \",vs_target_test.shape)\n",
    "\n",
    "x_train = np.array(vs_train)\n",
    "y_train = np.array(vs_target_train)\n",
    "\n",
    "x_test = np.array(vs_test)\n",
    "y_test = np.array(vs_target_test)"
   ]
  },
  {
   "cell_type": "code",
   "execution_count": 827,
   "metadata": {},
   "outputs": [],
   "source": [
    "sgdreg = SGDRegressor();\n",
    "\n",
    "alpha = np.linspace(.01,20,50)\n",
    "alpha = np.array([float(e) for e in alpha])\n",
    "\n",
    "parameters = {\n",
    "    'penalty':[\"l2\",\"l1\"], 'alpha':alpha, 'max_iter':[300]\n",
    "}\n",
    "gs = GridSearchCV(sgdreg, parameters, verbose=1, cv=5)"
   ]
  },
  {
   "cell_type": "code",
   "execution_count": 828,
   "metadata": {},
   "outputs": [
    {
     "name": "stdout",
     "output_type": "stream",
     "text": [
      "Fitting 5 folds for each of 100 candidates, totalling 500 fits\n"
     ]
    },
    {
     "name": "stderr",
     "output_type": "stream",
     "text": [
      "[Parallel(n_jobs=1)]: Using backend SequentialBackend with 1 concurrent workers.\n"
     ]
    },
    {
     "name": "stdout",
     "output_type": "stream",
     "text": [
      "Wall time: 4.17 s\n"
     ]
    },
    {
     "name": "stderr",
     "output_type": "stream",
     "text": [
      "[Parallel(n_jobs=1)]: Done 500 out of 500 | elapsed:    4.1s finished\n"
     ]
    },
    {
     "data": {
      "text/plain": [
       "({'alpha': 0.01, 'max_iter': 300, 'penalty': 'l2'}, 0.6496054871707952)"
      ]
     },
     "execution_count": 828,
     "metadata": {},
     "output_type": "execute_result"
    }
   ],
   "source": [
    "%time _ = gs.fit(x_train, y_train)\n",
    "\n",
    "gs.best_params_, gs.best_score_"
   ]
  },
  {
   "cell_type": "code",
   "execution_count": 829,
   "metadata": {},
   "outputs": [
    {
     "name": "stdout",
     "output_type": "stream",
     "text": [
      "The optimum value of alpha is estimated as 0.01\n",
      "\n",
      "\n",
      "The optimum value of max_iter is estimated as 300\n",
      "\n",
      "\n",
      "The optimum value of penalty is estimated as l2\n",
      "\n",
      "\n",
      "MAE on set-aside test data set: 0.10313620 with alpha=0.01 max_iter=300 penalty=l2 \n"
     ]
    }
   ],
   "source": [
    "# Using the best parameters, apply the model to the set-aside test data\n",
    "sgd = SGDRegressor()\n",
    "\n",
    "val = \"\"\n",
    "for (i, j) in gs.best_params_.items():\n",
    "    sgd.set_params(**{i:j})\n",
    "    print (\"The optimum value of\", i, \"is estimated as\", j)\n",
    "    val += str(i) + \"=\" + str(j) + \" \"\n",
    "    print(\"\\n\")\n",
    "    \n",
    "sgd.fit(x_train, y_train)\n",
    "pred = sgd.predict(x_test)\n",
    "MAE = mean_absolute_error(y_test, pred)\n",
    "\n",
    "print ('MAE on set-aside test data set: %0.8f' % MAE, \"with\",val)"
   ]
  },
  {
   "cell_type": "markdown",
   "metadata": {},
   "source": [
    "#### Model selection (similar to question d, above) to find the best \"l1_ratio\" parameter using SGDRegressor with the \"elasticnet\" penalty parameter. The calc_params function can take any models and any paramters so use the same function to do the model selection to find the best value for \"l1_ratio\" when penalty=\"elasticnet\"."
   ]
  },
  {
   "cell_type": "code",
   "execution_count": 831,
   "metadata": {},
   "outputs": [
    {
     "name": "stdout",
     "output_type": "stream",
     "text": [
      "\n",
      "\n",
      " The minimum MAE for \"SGDRegressor\" using cross validation is: 0.6193764571967846 with l1_ratio : 0.19198080808080809\n"
     ]
    },
    {
     "data": {
      "image/png": "[encoded data removed]",
      "text/plain": [
       "<Figure size 1080x720 with 1 Axes>"
      ]
     },
     "metadata": {
      "needs_background": "light"
     },
     "output_type": "display_data"
    }
   ],
   "source": [
    "l1_ratio_range = np.linspace(0.0001,0.9999, 100)\n",
    "param_name = \"l1_ratio\" \n",
    "param_value = l1_ratio_range\n",
    "verbose=False\n",
    "\n",
    "model = SGDRegressor(penalty='elasticnet')\n",
    "\n",
    "train_scores, test_scores, min_err_alpha,min_err_idx = calc_params(x_train, y_train,model, param_value, param_name, 5, verbose, \"SGDRegressor\")\n",
    "    \n",
    "print ('\\n\\n The minimum MAE for \\\"SGDRegressor\\\" using cross validation is:', test_scores[min_err_idx][0],'with', param_name,':', min_err_alpha[0])\n"
   ]
  },
  {
   "cell_type": "markdown",
   "metadata": {},
   "source": [
    "#### From above output,  we can say that the l1_ratio value of 0.19198080808080809 gives the lowest MAE on training data  (0.6193764571967846). So, we will use that to run the model on set aside test data with \"elasticnet\" as the penalty parameter."
   ]
  },
  {
   "cell_type": "code",
   "execution_count": 787,
   "metadata": {},
   "outputs": [
    {
     "name": "stdout",
     "output_type": "stream",
     "text": [
      "Fold  1 RMSE: 0.1409\n",
      "Fold  2 RMSE: 0.1410\n",
      "Fold  3 RMSE: 0.1344\n",
      "Fold  4 RMSE: 0.1435\n",
      "Fold  5 RMSE: 0.1389\n",
      "Fold  6 RMSE: 0.1383\n",
      "Fold  7 RMSE: 0.1232\n",
      "Fold  8 RMSE: 0.1265\n",
      "Fold  9 RMSE: 0.1483\n",
      "Fold 10 RMSE: 0.1471\n",
      "Method: Stochastic Gradient Descent Regression\n",
      "RMSE on training: 0.1262\n",
      "RMSE on 10-fold CV: 0.1382\n"
     ]
    },
    {
     "name": "stderr",
     "output_type": "stream",
     "text": [
      "M:\\apps\\Anaconda3\\lib\\site-packages\\sklearn\\model_selection\\_split.py:293: FutureWarning: Setting a random_state has no effect since shuffle is False. This will raise an error in 0.24. You should leave random_state to its default (None), or set shuffle=True.\n",
      "  warnings.warn(\n"
     ]
    }
   ],
   "source": []
  },
  {
   "cell_type": "code",
   "execution_count": null,
   "metadata": {},
   "outputs": [],
   "source": []
  }
 ],
 "metadata": {
  "kernelspec": {
   "display_name": "Python 3",
   "language": "python",
   "name": "python3"
  },
  "language_info": {
   "codemirror_mode": {
    "name": "ipython",
    "version": 3
   },
   "file_extension": ".py",
   "mimetype": "text/x-python",
   "name": "python",
   "nbconvert_exporter": "python",
   "pygments_lexer": "ipython3",
   "version": "3.8.3"
  }
 },
 "nbformat": 4,
 "nbformat_minor": 4
}
