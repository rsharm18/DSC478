{
 "cells": [
  {
   "cell_type": "code",
   "execution_count": 1,
   "metadata": {},
   "outputs": [],
   "source": [
    "import pandas as pd\n",
    "import numpy as np\n",
    "import matplotlib.pyplot as plt\n",
    "%matplotlib inline"
   ]
  },
  {
   "cell_type": "code",
   "execution_count": 2,
   "metadata": {},
   "outputs": [],
   "source": [
    "matrix = pd.read_table('data/newsgroups5/matrix.txt',delimiter=',',header=None)\n",
    "terms = pd.read_table('data/newsgroups5/terms.txt',delimiter=',',header=None)\n",
    "\n",
    "classes = pd.read_table('data/newsgroups5/classes.txt',delimiter=',',header=None)\n"
   ]
  },
  {
   "cell_type": "code",
   "execution_count": 3,
   "metadata": {},
   "outputs": [
    {
     "name": "stdout",
     "output_type": "stream",
     "text": [
      "\n",
      " matrix  (9328, 2500) \n",
      " terms  (9328, 1) \n",
      " classes  (2501, 5)\n"
     ]
    }
   ],
   "source": [
    "print('\\n matrix ',matrix.shape,'\\n terms ',terms.shape,'\\n classes ',classes.shape)"
   ]
  },
  {
   "cell_type": "code",
   "execution_count": 4,
   "metadata": {},
   "outputs": [
    {
     "name": "stdout",
     "output_type": "stream",
     "text": [
      "dict_values(['windows', 'crypt', 'christian', 'hockey', 'forsale'])\n"
     ]
    }
   ],
   "source": [
    "cat_name_classes= {0:'windows',1:'crypt',2:'christian', 3:'hockey',4:'forsale'}\n",
    "print(cat_name_classes.values())"
   ]
  },
  {
   "cell_type": "code",
   "execution_count": 5,
   "metadata": {},
   "outputs": [
    {
     "data": {
      "text/html": [
       "<div>\n",
       "<style scoped>\n",
       "    .dataframe tbody tr th:only-of-type {\n",
       "        vertical-align: middle;\n",
       "    }\n",
       "\n",
       "    .dataframe tbody tr th {\n",
       "        vertical-align: top;\n",
       "    }\n",
       "\n",
       "    .dataframe thead th {\n",
       "        text-align: right;\n",
       "    }\n",
       "</style>\n",
       "<table border=\"1\" class=\"dataframe\">\n",
       "  <thead>\n",
       "    <tr style=\"text-align: right;\">\n",
       "      <th></th>\n",
       "      <th>0</th>\n",
       "      <th>1</th>\n",
       "      <th>2</th>\n",
       "      <th>3</th>\n",
       "      <th>4</th>\n",
       "    </tr>\n",
       "  </thead>\n",
       "  <tbody>\n",
       "    <tr>\n",
       "      <th>0</th>\n",
       "      <td>% Five Categories: windows (0)</td>\n",
       "      <td>crypt (1)</td>\n",
       "      <td>christian (2)</td>\n",
       "      <td>hockey (3)</td>\n",
       "      <td>forsale (4)</td>\n",
       "    </tr>\n",
       "    <tr>\n",
       "      <th>1</th>\n",
       "      <td>0 0</td>\n",
       "      <td>NaN</td>\n",
       "      <td>NaN</td>\n",
       "      <td>NaN</td>\n",
       "      <td>NaN</td>\n",
       "    </tr>\n",
       "    <tr>\n",
       "      <th>2</th>\n",
       "      <td>1 1</td>\n",
       "      <td>NaN</td>\n",
       "      <td>NaN</td>\n",
       "      <td>NaN</td>\n",
       "      <td>NaN</td>\n",
       "    </tr>\n",
       "    <tr>\n",
       "      <th>3</th>\n",
       "      <td>2 1</td>\n",
       "      <td>NaN</td>\n",
       "      <td>NaN</td>\n",
       "      <td>NaN</td>\n",
       "      <td>NaN</td>\n",
       "    </tr>\n",
       "    <tr>\n",
       "      <th>4</th>\n",
       "      <td>3 1</td>\n",
       "      <td>NaN</td>\n",
       "      <td>NaN</td>\n",
       "      <td>NaN</td>\n",
       "      <td>NaN</td>\n",
       "    </tr>\n",
       "  </tbody>\n",
       "</table>\n",
       "</div>"
      ],
      "text/plain": [
       "                                0           1               2            3  \\\n",
       "0  % Five Categories: windows (0)   crypt (1)   christian (2)   hockey (3)   \n",
       "1                             0 0         NaN             NaN          NaN   \n",
       "2                             1 1         NaN             NaN          NaN   \n",
       "3                             2 1         NaN             NaN          NaN   \n",
       "4                             3 1         NaN             NaN          NaN   \n",
       "\n",
       "              4  \n",
       "0   forsale (4)  \n",
       "1           NaN  \n",
       "2           NaN  \n",
       "3           NaN  \n",
       "4           NaN  "
      ]
     },
     "execution_count": 5,
     "metadata": {},
     "output_type": "execute_result"
    }
   ],
   "source": [
    "classes.head()"
   ]
  },
  {
   "cell_type": "code",
   "execution_count": 6,
   "metadata": {},
   "outputs": [
    {
     "data": {
      "text/plain": [
       "(2500, 9328)"
      ]
     },
     "execution_count": 6,
     "metadata": {},
     "output_type": "execute_result"
    }
   ],
   "source": [
    "dataMat = np.mat(matrix.T)\n",
    "dataMat.shape"
   ]
  },
  {
   "cell_type": "markdown",
   "metadata": {},
   "source": [
    "### a. Create your own distance function that, instead of using Euclidean distance, uses Cosine similarity. This is the distance function you will use to pass to the kMeans function."
   ]
  },
  {
   "cell_type": "code",
   "execution_count": 7,
   "metadata": {},
   "outputs": [],
   "source": [
    "def calculateEuclideanDistance(x,D):\n",
    "    dist = np.sqrt((D -x)**2).sum(axis=1)\n",
    "    return dist\n",
    "\n",
    "def calculateCosineSimilarityDistance(x,D):\n",
    "    D_norm = np.array([np.linalg.norm(D[i]) for i in range(len(D))])\n",
    "    x_norm = np.linalg.norm(x)\n",
    "    sims = np.dot(D,x)/(D_norm * x_norm)\n",
    "    # The distance measure will be the inverse of Cosine similarity\n",
    "    dist = 1 - sims\n",
    "    \n",
    "    return dist\n",
    "\n"
   ]
  },
  {
   "cell_type": "markdown",
   "metadata": {},
   "source": [
    "### b. Load the data set [Note: the data matrix provided has terms as rows and documents as columns. Since you will be clustering documents, you'll need to take the transpose of this matrix so that your main data matrix is a document x term matrix. In Numpy, you may use the \".T\" operation to obtain the transpose.] Then, split the data set (the document x term matrix) and set aside 20% for later use (see below). Use the 80% segment for clustering in the next part. The 20% portion must be a random subset."
   ]
  },
  {
   "cell_type": "code",
   "execution_count": 109,
   "metadata": {},
   "outputs": [],
   "source": [
    "matrix = pd.read_table('data/newsgroups5/matrix.txt',delimiter=',',header=None).T\n",
    "terms = pd.read_table('data/newsgroups5/terms.txt',delimiter=',',header=None)\n",
    "classes = np.genfromtxt('data/newsgroups5/classes.txt',delimiter=' ', dtype=int, skip_header=1, usecols=(1))\n"
   ]
  },
  {
   "cell_type": "code",
   "execution_count": 110,
   "metadata": {},
   "outputs": [
    {
     "name": "stdout",
     "output_type": "stream",
     "text": [
      "\n",
      " matrix  (2500, 9328) \n",
      " terms  (9328, 1) \n",
      " classes  (2500,)\n"
     ]
    }
   ],
   "source": [
    "print('\\n matrix ',matrix.shape,'\\n terms ',terms.shape,'\\n classes ',classes.shape)"
   ]
  },
  {
   "cell_type": "code",
   "execution_count": 111,
   "metadata": {},
   "outputs": [
    {
     "data": {
      "text/html": [
       "<div>\n",
       "<style scoped>\n",
       "    .dataframe tbody tr th:only-of-type {\n",
       "        vertical-align: middle;\n",
       "    }\n",
       "\n",
       "    .dataframe tbody tr th {\n",
       "        vertical-align: top;\n",
       "    }\n",
       "\n",
       "    .dataframe thead th {\n",
       "        text-align: right;\n",
       "    }\n",
       "</style>\n",
       "<table border=\"1\" class=\"dataframe\">\n",
       "  <thead>\n",
       "    <tr style=\"text-align: right;\">\n",
       "      <th></th>\n",
       "      <th>0</th>\n",
       "      <th>1</th>\n",
       "      <th>2</th>\n",
       "      <th>3</th>\n",
       "      <th>4</th>\n",
       "      <th>5</th>\n",
       "      <th>6</th>\n",
       "      <th>7</th>\n",
       "      <th>8</th>\n",
       "      <th>9</th>\n",
       "      <th>...</th>\n",
       "      <th>9318</th>\n",
       "      <th>9319</th>\n",
       "      <th>9320</th>\n",
       "      <th>9321</th>\n",
       "      <th>9322</th>\n",
       "      <th>9323</th>\n",
       "      <th>9324</th>\n",
       "      <th>9325</th>\n",
       "      <th>9326</th>\n",
       "      <th>9327</th>\n",
       "    </tr>\n",
       "  </thead>\n",
       "  <tbody>\n",
       "    <tr>\n",
       "      <th>count</th>\n",
       "      <td>2500.000000</td>\n",
       "      <td>2500.000000</td>\n",
       "      <td>2500.000000</td>\n",
       "      <td>2500.000000</td>\n",
       "      <td>2500.000000</td>\n",
       "      <td>2500.00000</td>\n",
       "      <td>2500.000000</td>\n",
       "      <td>2500.000000</td>\n",
       "      <td>2500.000000</td>\n",
       "      <td>2500.000000</td>\n",
       "      <td>...</td>\n",
       "      <td>2500.000000</td>\n",
       "      <td>2500.000000</td>\n",
       "      <td>2500.000000</td>\n",
       "      <td>2500.000000</td>\n",
       "      <td>2500.00000</td>\n",
       "      <td>2500.000000</td>\n",
       "      <td>2500.000000</td>\n",
       "      <td>2500.000000</td>\n",
       "      <td>2500.000000</td>\n",
       "      <td>2500.000000</td>\n",
       "    </tr>\n",
       "    <tr>\n",
       "      <th>mean</th>\n",
       "      <td>0.006400</td>\n",
       "      <td>0.002400</td>\n",
       "      <td>0.032800</td>\n",
       "      <td>0.004800</td>\n",
       "      <td>0.012000</td>\n",
       "      <td>0.00400</td>\n",
       "      <td>0.022400</td>\n",
       "      <td>0.001600</td>\n",
       "      <td>0.031200</td>\n",
       "      <td>0.084800</td>\n",
       "      <td>...</td>\n",
       "      <td>0.005200</td>\n",
       "      <td>0.006400</td>\n",
       "      <td>0.001600</td>\n",
       "      <td>0.007600</td>\n",
       "      <td>0.00280</td>\n",
       "      <td>0.003200</td>\n",
       "      <td>0.020000</td>\n",
       "      <td>0.004400</td>\n",
       "      <td>0.002400</td>\n",
       "      <td>0.006000</td>\n",
       "    </tr>\n",
       "    <tr>\n",
       "      <th>std</th>\n",
       "      <td>0.138444</td>\n",
       "      <td>0.048941</td>\n",
       "      <td>0.954195</td>\n",
       "      <td>0.084734</td>\n",
       "      <td>0.227765</td>\n",
       "      <td>0.06918</td>\n",
       "      <td>0.248843</td>\n",
       "      <td>0.048973</td>\n",
       "      <td>0.244644</td>\n",
       "      <td>0.345336</td>\n",
       "      <td>...</td>\n",
       "      <td>0.103814</td>\n",
       "      <td>0.187545</td>\n",
       "      <td>0.048973</td>\n",
       "      <td>0.194827</td>\n",
       "      <td>0.08715</td>\n",
       "      <td>0.069222</td>\n",
       "      <td>0.523555</td>\n",
       "      <td>0.166107</td>\n",
       "      <td>0.084836</td>\n",
       "      <td>0.156121</td>\n",
       "    </tr>\n",
       "    <tr>\n",
       "      <th>min</th>\n",
       "      <td>0.000000</td>\n",
       "      <td>0.000000</td>\n",
       "      <td>0.000000</td>\n",
       "      <td>0.000000</td>\n",
       "      <td>0.000000</td>\n",
       "      <td>0.00000</td>\n",
       "      <td>0.000000</td>\n",
       "      <td>0.000000</td>\n",
       "      <td>0.000000</td>\n",
       "      <td>0.000000</td>\n",
       "      <td>...</td>\n",
       "      <td>0.000000</td>\n",
       "      <td>0.000000</td>\n",
       "      <td>0.000000</td>\n",
       "      <td>0.000000</td>\n",
       "      <td>0.00000</td>\n",
       "      <td>0.000000</td>\n",
       "      <td>0.000000</td>\n",
       "      <td>0.000000</td>\n",
       "      <td>0.000000</td>\n",
       "      <td>0.000000</td>\n",
       "    </tr>\n",
       "    <tr>\n",
       "      <th>25%</th>\n",
       "      <td>0.000000</td>\n",
       "      <td>0.000000</td>\n",
       "      <td>0.000000</td>\n",
       "      <td>0.000000</td>\n",
       "      <td>0.000000</td>\n",
       "      <td>0.00000</td>\n",
       "      <td>0.000000</td>\n",
       "      <td>0.000000</td>\n",
       "      <td>0.000000</td>\n",
       "      <td>0.000000</td>\n",
       "      <td>...</td>\n",
       "      <td>0.000000</td>\n",
       "      <td>0.000000</td>\n",
       "      <td>0.000000</td>\n",
       "      <td>0.000000</td>\n",
       "      <td>0.00000</td>\n",
       "      <td>0.000000</td>\n",
       "      <td>0.000000</td>\n",
       "      <td>0.000000</td>\n",
       "      <td>0.000000</td>\n",
       "      <td>0.000000</td>\n",
       "    </tr>\n",
       "    <tr>\n",
       "      <th>50%</th>\n",
       "      <td>0.000000</td>\n",
       "      <td>0.000000</td>\n",
       "      <td>0.000000</td>\n",
       "      <td>0.000000</td>\n",
       "      <td>0.000000</td>\n",
       "      <td>0.00000</td>\n",
       "      <td>0.000000</td>\n",
       "      <td>0.000000</td>\n",
       "      <td>0.000000</td>\n",
       "      <td>0.000000</td>\n",
       "      <td>...</td>\n",
       "      <td>0.000000</td>\n",
       "      <td>0.000000</td>\n",
       "      <td>0.000000</td>\n",
       "      <td>0.000000</td>\n",
       "      <td>0.00000</td>\n",
       "      <td>0.000000</td>\n",
       "      <td>0.000000</td>\n",
       "      <td>0.000000</td>\n",
       "      <td>0.000000</td>\n",
       "      <td>0.000000</td>\n",
       "    </tr>\n",
       "    <tr>\n",
       "      <th>75%</th>\n",
       "      <td>0.000000</td>\n",
       "      <td>0.000000</td>\n",
       "      <td>0.000000</td>\n",
       "      <td>0.000000</td>\n",
       "      <td>0.000000</td>\n",
       "      <td>0.00000</td>\n",
       "      <td>0.000000</td>\n",
       "      <td>0.000000</td>\n",
       "      <td>0.000000</td>\n",
       "      <td>0.000000</td>\n",
       "      <td>...</td>\n",
       "      <td>0.000000</td>\n",
       "      <td>0.000000</td>\n",
       "      <td>0.000000</td>\n",
       "      <td>0.000000</td>\n",
       "      <td>0.00000</td>\n",
       "      <td>0.000000</td>\n",
       "      <td>0.000000</td>\n",
       "      <td>0.000000</td>\n",
       "      <td>0.000000</td>\n",
       "      <td>0.000000</td>\n",
       "    </tr>\n",
       "    <tr>\n",
       "      <th>max</th>\n",
       "      <td>6.000000</td>\n",
       "      <td>1.000000</td>\n",
       "      <td>47.000000</td>\n",
       "      <td>2.000000</td>\n",
       "      <td>9.000000</td>\n",
       "      <td>2.00000</td>\n",
       "      <td>7.000000</td>\n",
       "      <td>2.000000</td>\n",
       "      <td>6.000000</td>\n",
       "      <td>4.000000</td>\n",
       "      <td>...</td>\n",
       "      <td>3.000000</td>\n",
       "      <td>7.000000</td>\n",
       "      <td>2.000000</td>\n",
       "      <td>8.000000</td>\n",
       "      <td>3.00000</td>\n",
       "      <td>2.000000</td>\n",
       "      <td>20.000000</td>\n",
       "      <td>8.000000</td>\n",
       "      <td>4.000000</td>\n",
       "      <td>5.000000</td>\n",
       "    </tr>\n",
       "  </tbody>\n",
       "</table>\n",
       "<p>8 rows × 9328 columns</p>\n",
       "</div>"
      ],
      "text/plain": [
       "              0            1            2            3            4     \\\n",
       "count  2500.000000  2500.000000  2500.000000  2500.000000  2500.000000   \n",
       "mean      0.006400     0.002400     0.032800     0.004800     0.012000   \n",
       "std       0.138444     0.048941     0.954195     0.084734     0.227765   \n",
       "min       0.000000     0.000000     0.000000     0.000000     0.000000   \n",
       "25%       0.000000     0.000000     0.000000     0.000000     0.000000   \n",
       "50%       0.000000     0.000000     0.000000     0.000000     0.000000   \n",
       "75%       0.000000     0.000000     0.000000     0.000000     0.000000   \n",
       "max       6.000000     1.000000    47.000000     2.000000     9.000000   \n",
       "\n",
       "             5            6            7            8            9     ...  \\\n",
       "count  2500.00000  2500.000000  2500.000000  2500.000000  2500.000000  ...   \n",
       "mean      0.00400     0.022400     0.001600     0.031200     0.084800  ...   \n",
       "std       0.06918     0.248843     0.048973     0.244644     0.345336  ...   \n",
       "min       0.00000     0.000000     0.000000     0.000000     0.000000  ...   \n",
       "25%       0.00000     0.000000     0.000000     0.000000     0.000000  ...   \n",
       "50%       0.00000     0.000000     0.000000     0.000000     0.000000  ...   \n",
       "75%       0.00000     0.000000     0.000000     0.000000     0.000000  ...   \n",
       "max       2.00000     7.000000     2.000000     6.000000     4.000000  ...   \n",
       "\n",
       "              9318         9319         9320         9321        9322  \\\n",
       "count  2500.000000  2500.000000  2500.000000  2500.000000  2500.00000   \n",
       "mean      0.005200     0.006400     0.001600     0.007600     0.00280   \n",
       "std       0.103814     0.187545     0.048973     0.194827     0.08715   \n",
       "min       0.000000     0.000000     0.000000     0.000000     0.00000   \n",
       "25%       0.000000     0.000000     0.000000     0.000000     0.00000   \n",
       "50%       0.000000     0.000000     0.000000     0.000000     0.00000   \n",
       "75%       0.000000     0.000000     0.000000     0.000000     0.00000   \n",
       "max       3.000000     7.000000     2.000000     8.000000     3.00000   \n",
       "\n",
       "              9323         9324         9325         9326         9327  \n",
       "count  2500.000000  2500.000000  2500.000000  2500.000000  2500.000000  \n",
       "mean      0.003200     0.020000     0.004400     0.002400     0.006000  \n",
       "std       0.069222     0.523555     0.166107     0.084836     0.156121  \n",
       "min       0.000000     0.000000     0.000000     0.000000     0.000000  \n",
       "25%       0.000000     0.000000     0.000000     0.000000     0.000000  \n",
       "50%       0.000000     0.000000     0.000000     0.000000     0.000000  \n",
       "75%       0.000000     0.000000     0.000000     0.000000     0.000000  \n",
       "max       2.000000    20.000000     8.000000     4.000000     5.000000  \n",
       "\n",
       "[8 rows x 9328 columns]"
      ]
     },
     "execution_count": 111,
     "metadata": {},
     "output_type": "execute_result"
    }
   ],
   "source": [
    "matrix.describe()"
   ]
  },
  {
   "cell_type": "code",
   "execution_count": 112,
   "metadata": {},
   "outputs": [
    {
     "name": "stdout",
     "output_type": "stream",
     "text": [
      "<class 'pandas.core.frame.DataFrame'>\n",
      "Int64Index: 2500 entries, 0 to 2499\n",
      "Columns: 9328 entries, 0 to 9327\n",
      "dtypes: int64(9328)\n",
      "memory usage: 177.9 MB\n"
     ]
    }
   ],
   "source": [
    " matrix.info()"
   ]
  },
  {
   "cell_type": "code",
   "execution_count": 17,
   "metadata": {},
   "outputs": [
    {
     "data": {
      "text/plain": [
       "(2500, 9328)"
      ]
     },
     "execution_count": 17,
     "metadata": {},
     "output_type": "execute_result"
    }
   ],
   "source": [
    "vs_matrix = np.mat(matrix)\n",
    "vs_matrix.shape"
   ]
  },
  {
   "cell_type": "code",
   "execution_count": 115,
   "metadata": {},
   "outputs": [],
   "source": [
    "from sklearn.model_selection import train_test_split\n",
    "vs_train, vs_test, vs_target_train, vs_target_test = train_test_split(vs_matrix, classes, test_size=0.2, random_state=33)\n"
   ]
  },
  {
   "cell_type": "code",
   "execution_count": 157,
   "metadata": {},
   "outputs": [
    {
     "name": "stdout",
     "output_type": "stream",
     "text": [
      "train :  (2000, 9328)\n",
      "Test :  (500, 9328)\n"
     ]
    }
   ],
   "source": [
    "print(\"train : \",vs_train.shape)\n",
    "print(\"Test : \",vs_test.shape)"
   ]
  },
  {
   "cell_type": "markdown",
   "metadata": {},
   "source": [
    "#### 2.c Perform Kmeans clustering on the training data"
   ]
  },
  {
   "cell_type": "code",
   "execution_count": 117,
   "metadata": {},
   "outputs": [],
   "source": [
    "# def distEuclid(vecA, vecB):\n",
    "#     return sqrt(sum(power(vecA - vecB, 2))) #la.norm(vecA-vecB)\n",
    "\n",
    "## get random centroids\n",
    "def randCent(dataSet, k):\n",
    "    n = np.shape(dataSet)[1]\n",
    "    centroids = np.zeros((k,n), dtype=float)\n",
    "    for j in range(n): #create random cluster centers\n",
    "        minJ = min(dataSet[:,j])\n",
    "        rangeJ = float(max(dataSet[:,j]) - minJ)\n",
    "        centroids[:,j] = minJ + rangeJ * np.random.rand(k)\n",
    "    return centroids"
   ]
  },
  {
   "cell_type": "code",
   "execution_count": 118,
   "metadata": {},
   "outputs": [
    {
     "name": "stdout",
     "output_type": "stream",
     "text": [
      "max =  [[7]] min =  [[0]]\n"
     ]
    }
   ],
   "source": [
    "print('max = ',max(dataMat[:,2499]),'min = ',min(dataMat[:,2499]))"
   ]
  },
  {
   "cell_type": "code",
   "execution_count": 24,
   "metadata": {},
   "outputs": [
    {
     "name": "stdout",
     "output_type": "stream",
     "text": [
      "Wall time: 4min 15s\n"
     ]
    }
   ],
   "source": [
    "%%time\n",
    "centroids = randCent(dataMat,2)"
   ]
  },
  {
   "cell_type": "code",
   "execution_count": 119,
   "metadata": {},
   "outputs": [
    {
     "data": {
      "text/plain": [
       "array([[0.        , 0.00990099, 0.00247525, ..., 0.        , 0.        ,\n",
       "        0.        ],\n",
       "       [       nan,        nan,        nan, ...,        nan,        nan,\n",
       "               nan],\n",
       "       [0.00440252, 0.        , 0.04528302, ..., 0.00125786, 0.00062893,\n",
       "        0.00377358],\n",
       "       [0.        , 0.        , 0.        , ..., 0.16666667, 0.        ,\n",
       "        0.        ],\n",
       "       [       nan,        nan,        nan, ...,        nan,        nan,\n",
       "               nan]])"
      ]
     },
     "execution_count": 119,
     "metadata": {},
     "output_type": "execute_result"
    }
   ],
   "source": [
    "centroids"
   ]
  },
  {
   "cell_type": "code",
   "execution_count": null,
   "metadata": {},
   "outputs": [],
   "source": []
  },
  {
   "cell_type": "code",
   "execution_count": 120,
   "metadata": {},
   "outputs": [],
   "source": [
    "def kmeans(D,k,distMeas=calculateCosineSimilarityDistance,createCentroid = randCent):\n",
    "    m = np.shape(D)[0]\n",
    "    \n",
    "    ## cluster assignment matrix with 2 cols. one for cluster index and 2nd one for cluster error (distance from cluster centroid to the current point)\n",
    "    clusterAssment = np.mat(np.zeros((m,2)))\n",
    "    \n",
    "    print('calculating centroids : Start')\n",
    "    centroids = createCentroid(D,k)\n",
    "    print('calculating centroids : End','\\n centroids are :: \\n',centroids)\n",
    "    clusterChanged = True\n",
    "    while clusterChanged:\n",
    "        clusterChanged = False\n",
    "        ## loop over data points and assign assign it to the closest centroid\n",
    "        for i in range(m):\n",
    "            minDIst = np.inf;\n",
    "            minIndex = -1;\n",
    "            for j in range(k):\n",
    "                distJI = distMeas(centroids[j,:],D[i,:])\n",
    "                ##print('Distance ',distJI)\n",
    "                if(distJI < minDIst):\n",
    "                    minDIst = distJI;\n",
    "                    minIndex = j;\n",
    "            if clusterAssment[i,0] !=minIndex : clusterChanged = True\n",
    "            clusterAssment[i,:] = minIndex, minDIst**2\n",
    "        #print(\" centroids : \",centroids)\n",
    "        \n",
    "        ## update the centroid\n",
    "        for cent in range(k):\n",
    "            ptsInClust = D[np.nonzero(clusterAssment[:,0] == cent)[0]]\n",
    "            centroids[cent,:] = np.mean(ptsInClust,axis=0)\n",
    "    return centroids, clusterAssment"
   ]
  },
  {
   "cell_type": "code",
   "execution_count": 121,
   "metadata": {},
   "outputs": [
    {
     "data": {
      "text/plain": [
       "2500"
      ]
     },
     "execution_count": 121,
     "metadata": {},
     "output_type": "execute_result"
    }
   ],
   "source": [
    "np.shape(dataMat)[0]"
   ]
  },
  {
   "cell_type": "code",
   "execution_count": 122,
   "metadata": {},
   "outputs": [
    {
     "data": {
      "text/plain": [
       "array([[0., 0.],\n",
       "       [0., 0.],\n",
       "       [0., 0.],\n",
       "       ...,\n",
       "       [0., 0.],\n",
       "       [0., 0.],\n",
       "       [0., 0.]])"
      ]
     },
     "execution_count": 122,
     "metadata": {},
     "output_type": "execute_result"
    }
   ],
   "source": [
    "np.zeros((9328,2))"
   ]
  },
  {
   "cell_type": "code",
   "execution_count": 123,
   "metadata": {},
   "outputs": [
    {
     "name": "stdout",
     "output_type": "stream",
     "text": [
      "calculating centroids : Start\n",
      "calculating centroids : End \n",
      " centroids are :: \n",
      " [[ 0.87576481  0.83924234 17.25375415 ...  1.9828995   0.99346734\n",
      "   3.9044213 ]\n",
      " [ 0.43286733  0.71050652 22.16624865 ...  0.49760771  0.67370249\n",
      "   1.38507032]\n",
      " [ 0.35554373  0.446494   14.12931283 ...  0.05726546  0.28993401\n",
      "   2.06636939]\n",
      " [ 0.84502585  0.36845934 46.44965933 ...  1.58061292  0.18807721\n",
      "   0.99625068]\n",
      " [ 0.92128585  0.42422509 27.5323093  ...  1.00610969  0.20254243\n",
      "   1.701208  ]]\n",
      "Wall time: 3min 48s\n"
     ]
    }
   ],
   "source": [
    "%%time\n",
    "centroids, clusterAssment = kmeans(vs_train,5)"
   ]
  },
  {
   "cell_type": "code",
   "execution_count": 124,
   "metadata": {},
   "outputs": [
    {
     "data": {
      "text/plain": [
       "(5, 9328)"
      ]
     },
     "execution_count": 124,
     "metadata": {},
     "output_type": "execute_result"
    }
   ],
   "source": [
    "centroids.shape"
   ]
  },
  {
   "cell_type": "code",
   "execution_count": 125,
   "metadata": {},
   "outputs": [
    {
     "data": {
      "text/plain": [
       "array([[0.2       , 0.        , 0.        , ..., 0.        , 0.        ,\n",
       "        0.        ],\n",
       "       [0.        , 0.        , 0.        , ..., 0.16666667, 0.        ,\n",
       "        0.        ],\n",
       "       [0.00296736, 0.        , 0.19287834, ..., 0.        , 0.        ,\n",
       "        0.        ],\n",
       "       [0.14285714, 0.        , 0.        , ..., 0.14285714, 0.07142857,\n",
       "        0.42857143],\n",
       "       [0.0018315 , 0.002442  , 0.004884  , ..., 0.        , 0.        ,\n",
       "        0.        ]])"
      ]
     },
     "execution_count": 125,
     "metadata": {},
     "output_type": "execute_result"
    }
   ],
   "source": [
    "centroids"
   ]
  },
  {
   "cell_type": "code",
   "execution_count": 126,
   "metadata": {},
   "outputs": [
    {
     "data": {
      "text/plain": [
       "matrix([[4.        , 0.78477557],\n",
       "        [4.        , 0.72171818],\n",
       "        [4.        , 0.71806336],\n",
       "        [4.        , 0.73483166],\n",
       "        [4.        , 0.63579767],\n",
       "        [4.        , 0.65164049],\n",
       "        [4.        , 0.45891466],\n",
       "        [2.        , 0.52808895],\n",
       "        [4.        , 0.7550924 ],\n",
       "        [4.        , 0.60151329]])"
      ]
     },
     "execution_count": 126,
     "metadata": {},
     "output_type": "execute_result"
    }
   ],
   "source": [
    "clusterAssment[:10]"
   ]
  },
  {
   "cell_type": "code",
   "execution_count": 127,
   "metadata": {},
   "outputs": [
    {
     "data": {
      "text/plain": [
       "(9328,)"
      ]
     },
     "execution_count": 127,
     "metadata": {},
     "output_type": "execute_result"
    }
   ],
   "source": [
    "term_list = pd.Series(terms[0], name='Term')\n",
    "\n",
    "term_list.shape"
   ]
  },
  {
   "cell_type": "code",
   "execution_count": 128,
   "metadata": {},
   "outputs": [
    {
     "data": {
      "text/plain": [
       "0       0.2\n",
       "1       0.0\n",
       "2       0.0\n",
       "3       0.0\n",
       "4       0.0\n",
       "       ... \n",
       "9323    0.0\n",
       "9324    0.0\n",
       "9325    0.0\n",
       "9326    0.0\n",
       "9327    0.0\n",
       "Name: Centroid_value, Length: 9328, dtype: float64"
      ]
     },
     "execution_count": 128,
     "metadata": {},
     "output_type": "execute_result"
    }
   ],
   "source": [
    "centroid = pd.Series(centroids[0], name='Centroid_value')\n",
    "centroid"
   ]
  },
  {
   "cell_type": "code",
   "execution_count": 129,
   "metadata": {},
   "outputs": [
    {
     "data": {
      "text/html": [
       "<div>\n",
       "<style scoped>\n",
       "    .dataframe tbody tr th:only-of-type {\n",
       "        vertical-align: middle;\n",
       "    }\n",
       "\n",
       "    .dataframe tbody tr th {\n",
       "        vertical-align: top;\n",
       "    }\n",
       "\n",
       "    .dataframe thead th {\n",
       "        text-align: right;\n",
       "    }\n",
       "</style>\n",
       "<table border=\"1\" class=\"dataframe\">\n",
       "  <thead>\n",
       "    <tr style=\"text-align: right;\">\n",
       "      <th></th>\n",
       "      <th>Term</th>\n",
       "      <th>Centroid_value</th>\n",
       "    </tr>\n",
       "  </thead>\n",
       "  <tbody>\n",
       "    <tr>\n",
       "      <th>0</th>\n",
       "      <td>aa</td>\n",
       "      <td>0.2</td>\n",
       "    </tr>\n",
       "    <tr>\n",
       "      <th>1</th>\n",
       "      <td>aargh</td>\n",
       "      <td>0.0</td>\n",
       "    </tr>\n",
       "    <tr>\n",
       "      <th>2</th>\n",
       "      <td>aaron</td>\n",
       "      <td>0.0</td>\n",
       "    </tr>\n",
       "    <tr>\n",
       "      <th>3</th>\n",
       "      <td>aaronc</td>\n",
       "      <td>0.0</td>\n",
       "    </tr>\n",
       "    <tr>\n",
       "      <th>4</th>\n",
       "      <td>ab</td>\n",
       "      <td>0.0</td>\n",
       "    </tr>\n",
       "    <tr>\n",
       "      <th>...</th>\n",
       "      <td>...</td>\n",
       "      <td>...</td>\n",
       "    </tr>\n",
       "    <tr>\n",
       "      <th>9323</th>\n",
       "      <td>zubov</td>\n",
       "      <td>0.0</td>\n",
       "    </tr>\n",
       "    <tr>\n",
       "      <th>9324</th>\n",
       "      <td>zv</td>\n",
       "      <td>0.0</td>\n",
       "    </tr>\n",
       "    <tr>\n",
       "      <th>9325</th>\n",
       "      <td>zw</td>\n",
       "      <td>0.0</td>\n",
       "    </tr>\n",
       "    <tr>\n",
       "      <th>9326</th>\n",
       "      <td>zx</td>\n",
       "      <td>0.0</td>\n",
       "    </tr>\n",
       "    <tr>\n",
       "      <th>9327</th>\n",
       "      <td>zz</td>\n",
       "      <td>0.0</td>\n",
       "    </tr>\n",
       "  </tbody>\n",
       "</table>\n",
       "<p>9328 rows × 2 columns</p>\n",
       "</div>"
      ],
      "text/plain": [
       "        Term  Centroid_value\n",
       "0         aa             0.2\n",
       "1      aargh             0.0\n",
       "2      aaron             0.0\n",
       "3     aaronc             0.0\n",
       "4         ab             0.0\n",
       "...      ...             ...\n",
       "9323   zubov             0.0\n",
       "9324      zv             0.0\n",
       "9325      zw             0.0\n",
       "9326      zx             0.0\n",
       "9327      zz             0.0\n",
       "\n",
       "[9328 rows x 2 columns]"
      ]
     },
     "execution_count": 129,
     "metadata": {},
     "output_type": "execute_result"
    }
   ],
   "source": [
    "clust = pd.concat([term_list, centroid],axis=1)\n",
    "clust"
   ]
  },
  {
   "cell_type": "code",
   "execution_count": 130,
   "metadata": {},
   "outputs": [
    {
     "name": "stdout",
     "output_type": "stream",
     "text": [
      "(2000, 2)\n",
      "Int64Index([316, 787, 1124, 1515, 1658], dtype='int64')\n"
     ]
    },
    {
     "data": {
      "text/plain": [
       "array([ 316,  787, 1124, 1515, 1658], dtype=int64)"
      ]
     },
     "execution_count": 130,
     "metadata": {},
     "output_type": "execute_result"
    }
   ],
   "source": [
    "clusters = pd.DataFrame(clusterAssment)\n",
    "print(clusters.shape)\n",
    "print(clusters.index[clusters.iloc[:,0]==0])\n",
    "cl_index = np.array(clusters.index[clusters.iloc[:,0]==0])\n",
    "cl_index"
   ]
  },
  {
   "cell_type": "code",
   "execution_count": 92,
   "metadata": {},
   "outputs": [
    {
     "name": "stderr",
     "output_type": "stream",
     "text": [
      "<ipython-input-92-d49903f3e538>:3: SettingWithCopyWarning: \n",
      "A value is trying to be set on a copy of a slice from a DataFrame\n",
      "\n",
      "See the caveats in the documentation: https://pandas.pydata.org/pandas-docs/stable/user_guide/indexing.html#returning-a-view-versus-a-copy\n",
      "  clust_df.sort_values(by='Centroid_value', axis=0, ascending=False, inplace=True)\n"
     ]
    },
    {
     "data": {
      "text/html": [
       "<div>\n",
       "<style scoped>\n",
       "    .dataframe tbody tr th:only-of-type {\n",
       "        vertical-align: middle;\n",
       "    }\n",
       "\n",
       "    .dataframe tbody tr th {\n",
       "        vertical-align: top;\n",
       "    }\n",
       "\n",
       "    .dataframe thead th {\n",
       "        text-align: right;\n",
       "    }\n",
       "</style>\n",
       "<table border=\"1\" class=\"dataframe\">\n",
       "  <thead>\n",
       "    <tr style=\"text-align: right;\">\n",
       "      <th></th>\n",
       "      <th>Term</th>\n",
       "      <th>Centroid_value</th>\n",
       "    </tr>\n",
       "  </thead>\n",
       "  <tbody>\n",
       "    <tr>\n",
       "      <th>1894</th>\n",
       "      <td>cup</td>\n",
       "      <td>0.336634</td>\n",
       "    </tr>\n",
       "    <tr>\n",
       "      <th>977</th>\n",
       "      <td>bruin</td>\n",
       "      <td>0.222772</td>\n",
       "    </tr>\n",
       "    <tr>\n",
       "      <th>887</th>\n",
       "      <td>boston</td>\n",
       "      <td>0.220297</td>\n",
       "    </tr>\n",
       "    <tr>\n",
       "      <th>1451</th>\n",
       "      <td>coach</td>\n",
       "      <td>0.190594</td>\n",
       "    </tr>\n",
       "    <tr>\n",
       "      <th>1977</th>\n",
       "      <td>david</td>\n",
       "      <td>0.118812</td>\n",
       "    </tr>\n",
       "  </tbody>\n",
       "</table>\n",
       "</div>"
      ],
      "text/plain": [
       "        Term  Centroid_value\n",
       "1894     cup        0.336634\n",
       "977    bruin        0.222772\n",
       "887   boston        0.220297\n",
       "1451   coach        0.190594\n",
       "1977   david        0.118812"
      ]
     },
     "execution_count": 92,
     "metadata": {},
     "output_type": "execute_result"
    }
   ],
   "source": [
    "clust_df = clust.iloc[cl_index]\n",
    "        #.head()\n",
    "clust_df.sort_values(by='Centroid_value', axis=0, ascending=False, inplace=True)\n",
    "clust_df.head(5)"
   ]
  },
  {
   "cell_type": "code",
   "execution_count": 145,
   "metadata": {},
   "outputs": [],
   "source": [
    "def top_terms(N, centroids, clusters,range_val):\n",
    "    term_list = pd.Series(terms[0], name='Term')\n",
    "    clusters = pd.DataFrame(clusters)\n",
    "    for i in range(range_val):\n",
    "        cl_index = np.array(clusters.index[clusters.iloc[:,0]==i])\n",
    "        centroid = pd.Series(centroids[i], name='Centroid_value')\n",
    "        clust = pd.concat([term_list, centroid],axis=1)\n",
    "        clust_docs = len(cl_index)\n",
    "        print('\\nCluster: ',i,' results')\n",
    "        print('Number of docuemnts in cluster',str(clust_docs))\n",
    "        print(\"\\tword\\tfrequency\\tDF\\tPercentOfDocs\")\n",
    "        clust_df = clust.iloc[cl_index]\n",
    "        #.head()\n",
    "        clust_df.sort_values(by='Centroid_value', axis=0, ascending=False, inplace=True)\n",
    "        top_n = clust_df.head(N)\n",
    "        for t in top_n.itertuples():\n",
    "            doc_freq = t.Centroid_value * clust_docs\n",
    "            mean_freq = np.mean(t.Centroid_value)\n",
    "            PercentOfDocs = t.Centroid_value * 100\n",
    "            print(term_list[term_list == t.Term].index[0],'\\t',t.Term,'\\t',mean_freq,'\\t',doc_freq,'\\t',PercentOfDocs)\n",
    "              #print(\"%s\\t%10s\\t\\t%.0f\\t%.6f\" %(term_list[term_list == t.Term].index[0],t.Term, doc_freq, PercentOfDocs))"
   ]
  },
  {
   "cell_type": "code",
   "execution_count": 146,
   "metadata": {},
   "outputs": [
    {
     "name": "stdout",
     "output_type": "stream",
     "text": [
      "\n",
      "Cluster:  0  results\n",
      "Number of docuemnts in cluster 5\n",
      "\tword\tfrequency\tDF\tPercentOfDocs\n",
      "316 \t annual \t 3.2 \t 16.0 \t 320.0\n",
      "787 \t birth \t 0.0 \t 0.0 \t 0.0\n",
      "1124 \t caralvautotrolcom \t 0.0 \t 0.0 \t 0.0\n",
      "1515 \t commision \t 0.0 \t 0.0 \t 0.0\n",
      "1658 \t content \t 0.0 \t 0.0 \t 0.0\n",
      "\n",
      "Cluster:  1  results\n",
      "Number of docuemnts in cluster 6\n",
      "\tword\tfrequency\tDF\tPercentOfDocs\n",
      "434 \t ashton \t 0.0 \t 0.0 \t 0.0\n",
      "482 \t atlanta \t 0.0 \t 0.0 \t 0.0\n",
      "843 \t bo \t 0.0 \t 0.0 \t 0.0\n",
      "968 \t broken \t 0.0 \t 0.0 \t 0.0\n",
      "1925 \t cypherpunk \t 0.0 \t 0.0 \t 0.0\n",
      "1990 \t dcsedacuk \t 0.0 \t 0.0 \t 0.0\n",
      "\n",
      "Cluster:  2  results\n",
      "Number of docuemnts in cluster 337\n",
      "\tword\tfrequency\tDF\tPercentOfDocs\n",
      "1333 \t christ \t 0.7388724035608308 \t 249.0 \t 73.88724035608308\n",
      "1176 \t cathol \t 0.39465875370919884 \t 133.0 \t 39.46587537091988\n",
      "31 \t accept \t 0.3827893175074184 \t 129.0 \t 38.27893175074184\n",
      "604 \t baptism \t 0.22255192878338279 \t 75.0 \t 22.255192878338278\n",
      "131 \t against \t 0.20178041543026706 \t 68.0 \t 20.178041543026705\n",
      "1524 \t commun \t 0.17210682492581603 \t 58.0 \t 17.210682492581604\n",
      "356 \t appli \t 0.1661721068249258 \t 56.0 \t 16.61721068249258\n",
      "626 \t base \t 0.1572700296735905 \t 53.0 \t 15.727002967359049\n",
      "1255 \t chang \t 0.1572700296735905 \t 53.0 \t 15.727002967359049\n",
      "1109 \t canon \t 0.142433234421365 \t 48.0 \t 14.243323442136498\n",
      "\n",
      "Cluster:  3  results\n",
      "Number of docuemnts in cluster 14\n",
      "\tword\tfrequency\tDF\tPercentOfDocs\n",
      "260 \t american \t 0.21428571428571427 \t 3.0 \t 21.428571428571427\n",
      "532 \t avail \t 0.14285714285714285 \t 2.0 \t 14.285714285714285\n",
      "382 \t archiv \t 0.07142857142857142 \t 1.0 \t 7.142857142857142\n",
      "331 \t anul \t 0.0 \t 0.0 \t 0.0\n",
      "522 \t autoansw \t 0.0 \t 0.0 \t 0.0\n",
      "573 \t backup \t 0.0 \t 0.0 \t 0.0\n",
      "757 \t biblic \t 0.0 \t 0.0 \t 0.0\n",
      "854 \t boil \t 0.0 \t 0.0 \t 0.0\n",
      "985 \t bryan \t 0.0 \t 0.0 \t 0.0\n",
      "1043 \t butt \t 0.0 \t 0.0 \t 0.0\n",
      "\n",
      "Cluster:  4  results\n",
      "Number of docuemnts in cluster 1638\n",
      "\tword\tfrequency\tDF\tPercentOfDocs\n",
      "417 \t articl \t 0.4255189255189255 \t 697.0 \t 42.55189255189255\n",
      "1317 \t chip \t 0.27228327228327226 \t 445.99999999999994 \t 27.228327228327228\n",
      "1567 \t comput \t 0.22039072039072038 \t 361.0 \t 22.03907203907204\n",
      "1084 \t call \t 0.2039072039072039 \t 334.0 \t 20.39072039072039\n",
      "1977 \t david \t 0.15384615384615385 \t 252.0 \t 15.384615384615385\n",
      "439 \t ask \t 0.14407814407814407 \t 235.99999999999997 \t 14.407814407814406\n",
      "676 \t befor \t 0.1398046398046398 \t 229.0 \t 13.98046398046398\n",
      "1157 \t case \t 0.13675213675213677 \t 224.00000000000003 \t 13.675213675213676\n",
      "563 \t back \t 0.1330891330891331 \t 218.0 \t 13.30891330891331\n",
      "195 \t algorithm \t 0.12942612942612944 \t 212.00000000000003 \t 12.942612942612945\n",
      "Wall time: 108 ms\n"
     ]
    },
    {
     "name": "stderr",
     "output_type": "stream",
     "text": [
      "<ipython-input-145-99eae0a1cde9>:14: SettingWithCopyWarning: \n",
      "A value is trying to be set on a copy of a slice from a DataFrame\n",
      "\n",
      "See the caveats in the documentation: https://pandas.pydata.org/pandas-docs/stable/user_guide/indexing.html#returning-a-view-versus-a-copy\n",
      "  clust_df.sort_values(by='Centroid_value', axis=0, ascending=False, inplace=True)\n"
     ]
    }
   ],
   "source": [
    "%%time\n",
    "range_val = 5\n",
    "top_terms(10, centroids, clusterAssment,range_val)"
   ]
  },
  {
   "cell_type": "markdown",
   "metadata": {},
   "source": [
    "### Using the cluster assignments from Kmeans clustering, compare your 5 clusters to the 5 pre-assigned classes by computing the Completeness and Homogeneity values."
   ]
  },
  {
   "cell_type": "code",
   "execution_count": 152,
   "metadata": {},
   "outputs": [
    {
     "data": {
      "text/plain": [
       "array([4, 0, 4, ..., 2, 0, 1])"
      ]
     },
     "execution_count": 152,
     "metadata": {},
     "output_type": "execute_result"
    }
   ],
   "source": [
    "vs_target_train"
   ]
  },
  {
   "cell_type": "code",
   "execution_count": 155,
   "metadata": {},
   "outputs": [
    {
     "name": "stdout",
     "output_type": "stream",
     "text": [
      "completeness_score =  0.684620979720857\n",
      "homogeneity_score =  0.22579135963730823\n"
     ]
    }
   ],
   "source": [
    "from sklearn.metrics import completeness_score, homogeneity_score\n",
    "\n",
    "#NOTE: this generates a random score every time you run the cluster\n",
    "print(\"completeness_score = \",completeness_score(vs_target_train,np.ravel(clusterAssment.T[0])))\n",
    "print(\"homogeneity_score = \",homogeneity_score(vs_target_train,np.ravel(clusterAssment.T[0])))"
   ]
  },
  {
   "cell_type": "markdown",
   "metadata": {},
   "source": [
    "### Finally, using your cluster assignments as class labels, categorize each of the documents in the 20% set-aside data into each of the appropriate cluster. Your categorization should be based on Cosine similarity between each test document and cluster centroids. For each test document show the predicted class label as well as Cosine similarity to the corresponding cluster."
   ]
  },
  {
   "cell_type": "code",
   "execution_count": 219,
   "metadata": {},
   "outputs": [],
   "source": [
    "\n",
    "results = []\n",
    "\n",
    "for doc in vs_test:\n",
    "    dic = {}\n",
    "    sim = []\n",
    "    cluster = 0\n",
    "    for centroid in centroids:\n",
    "        cluster += 1\n",
    "        val = np.ravel(calculateCosineSimilarityDistance(centroid,doc))[0]\n",
    "        #print(\"val \",val)\n",
    "        centroid_doc_sim = 1 - val #Need to subtract from 1 as our function returns distance and not similarity\n",
    "        #print(\"centroid_doc_sim \",centroid_doc_sim)\n",
    "        sim.append(centroid_doc_sim) \n",
    "        dic['Cosine Similarity to Cluster '+str(cluster)] = str(np.ravel(centroid_doc_sim)[0])\n",
    "    dic['Predicted Cluster'] = sim.index(max(sim))+1\n",
    "    results.append(dic)\n",
    "\n",
    "test_cluster = pd.DataFrame(results)"
   ]
  },
  {
   "cell_type": "code",
   "execution_count": 220,
   "metadata": {},
   "outputs": [
    {
     "data": {
      "text/html": [
       "<div>\n",
       "<style scoped>\n",
       "    .dataframe tbody tr th:only-of-type {\n",
       "        vertical-align: middle;\n",
       "    }\n",
       "\n",
       "    .dataframe tbody tr th {\n",
       "        vertical-align: top;\n",
       "    }\n",
       "\n",
       "    .dataframe thead th {\n",
       "        text-align: right;\n",
       "    }\n",
       "</style>\n",
       "<table border=\"1\" class=\"dataframe\">\n",
       "  <thead>\n",
       "    <tr style=\"text-align: right;\">\n",
       "      <th></th>\n",
       "      <th>Cosine Similarity to Cluster 1</th>\n",
       "      <th>Cosine Similarity to Cluster 2</th>\n",
       "      <th>Cosine Similarity to Cluster 3</th>\n",
       "      <th>Cosine Similarity to Cluster 4</th>\n",
       "      <th>Cosine Similarity to Cluster 5</th>\n",
       "      <th>Predicted Cluster</th>\n",
       "    </tr>\n",
       "  </thead>\n",
       "  <tbody>\n",
       "    <tr>\n",
       "      <th>0</th>\n",
       "      <td>0.010368102191173012</td>\n",
       "      <td>2.343730792664367e-05</td>\n",
       "      <td>0.20697149600801568</td>\n",
       "      <td>0.00887803631030848</td>\n",
       "      <td>0.16697281596113767</td>\n",
       "      <td>3</td>\n",
       "    </tr>\n",
       "    <tr>\n",
       "      <th>1</th>\n",
       "      <td>0.024122819646888116</td>\n",
       "      <td>6.536352890607056e-06</td>\n",
       "      <td>0.19230997935094207</td>\n",
       "      <td>0.007018954756392248</td>\n",
       "      <td>0.16871804941603252</td>\n",
       "      <td>3</td>\n",
       "    </tr>\n",
       "    <tr>\n",
       "      <th>2</th>\n",
       "      <td>0.014172900315532977</td>\n",
       "      <td>3.100464408734016e-05</td>\n",
       "      <td>0.11021237054146171</td>\n",
       "      <td>0.037074650014280564</td>\n",
       "      <td>0.1633919460161013</td>\n",
       "      <td>5</td>\n",
       "    </tr>\n",
       "    <tr>\n",
       "      <th>3</th>\n",
       "      <td>0.022366955566112234</td>\n",
       "      <td>2.7167084271306763e-05</td>\n",
       "      <td>0.21383908807818708</td>\n",
       "      <td>0.017429586794587726</td>\n",
       "      <td>0.3709520576683851</td>\n",
       "      <td>5</td>\n",
       "    </tr>\n",
       "    <tr>\n",
       "      <th>4</th>\n",
       "      <td>0.012403444013234122</td>\n",
       "      <td>1.8186966430633333e-05</td>\n",
       "      <td>0.06211178414194618</td>\n",
       "      <td>0.013964615920429635</td>\n",
       "      <td>0.161929696659889</td>\n",
       "      <td>5</td>\n",
       "    </tr>\n",
       "    <tr>\n",
       "      <th>...</th>\n",
       "      <td>...</td>\n",
       "      <td>...</td>\n",
       "      <td>...</td>\n",
       "      <td>...</td>\n",
       "      <td>...</td>\n",
       "      <td>...</td>\n",
       "    </tr>\n",
       "    <tr>\n",
       "      <th>495</th>\n",
       "      <td>0.01085124986077024</td>\n",
       "      <td>1.3208177853107905e-05</td>\n",
       "      <td>0.1500705859337812</td>\n",
       "      <td>0.030599019639553138</td>\n",
       "      <td>0.3220987774599666</td>\n",
       "      <td>5</td>\n",
       "    </tr>\n",
       "    <tr>\n",
       "      <th>496</th>\n",
       "      <td>0.027802285074474575</td>\n",
       "      <td>2.8500672307196773e-05</td>\n",
       "      <td>0.08935738126955872</td>\n",
       "      <td>0.017955983859736846</td>\n",
       "      <td>0.19274233344094494</td>\n",
       "      <td>5</td>\n",
       "    </tr>\n",
       "    <tr>\n",
       "      <th>497</th>\n",
       "      <td>0.012438027307374089</td>\n",
       "      <td>1.5745193049920836e-05</td>\n",
       "      <td>0.16839844671236115</td>\n",
       "      <td>0.008842776350630577</td>\n",
       "      <td>0.1126000649175869</td>\n",
       "      <td>3</td>\n",
       "    </tr>\n",
       "    <tr>\n",
       "      <th>498</th>\n",
       "      <td>0.014380594559384341</td>\n",
       "      <td>3.0475902494164764e-05</td>\n",
       "      <td>0.24217844182931147</td>\n",
       "      <td>0.013104285086659617</td>\n",
       "      <td>0.2955659667568775</td>\n",
       "      <td>5</td>\n",
       "    </tr>\n",
       "    <tr>\n",
       "      <th>499</th>\n",
       "      <td>0.006857854991386914</td>\n",
       "      <td>6.200928817468032e-05</td>\n",
       "      <td>0.0495392949279182</td>\n",
       "      <td>0.007618078770057601</td>\n",
       "      <td>0.10883549545045346</td>\n",
       "      <td>5</td>\n",
       "    </tr>\n",
       "  </tbody>\n",
       "</table>\n",
       "<p>500 rows × 6 columns</p>\n",
       "</div>"
      ],
      "text/plain": [
       "    Cosine Similarity to Cluster 1 Cosine Similarity to Cluster 2  \\\n",
       "0             0.010368102191173012          2.343730792664367e-05   \n",
       "1             0.024122819646888116          6.536352890607056e-06   \n",
       "2             0.014172900315532977          3.100464408734016e-05   \n",
       "3             0.022366955566112234         2.7167084271306763e-05   \n",
       "4             0.012403444013234122         1.8186966430633333e-05   \n",
       "..                             ...                            ...   \n",
       "495            0.01085124986077024         1.3208177853107905e-05   \n",
       "496           0.027802285074474575         2.8500672307196773e-05   \n",
       "497           0.012438027307374089         1.5745193049920836e-05   \n",
       "498           0.014380594559384341         3.0475902494164764e-05   \n",
       "499           0.006857854991386914          6.200928817468032e-05   \n",
       "\n",
       "    Cosine Similarity to Cluster 3 Cosine Similarity to Cluster 4  \\\n",
       "0              0.20697149600801568            0.00887803631030848   \n",
       "1              0.19230997935094207           0.007018954756392248   \n",
       "2              0.11021237054146171           0.037074650014280564   \n",
       "3              0.21383908807818708           0.017429586794587726   \n",
       "4              0.06211178414194618           0.013964615920429635   \n",
       "..                             ...                            ...   \n",
       "495             0.1500705859337812           0.030599019639553138   \n",
       "496            0.08935738126955872           0.017955983859736846   \n",
       "497            0.16839844671236115           0.008842776350630577   \n",
       "498            0.24217844182931147           0.013104285086659617   \n",
       "499             0.0495392949279182           0.007618078770057601   \n",
       "\n",
       "    Cosine Similarity to Cluster 5  Predicted Cluster  \n",
       "0              0.16697281596113767                  3  \n",
       "1              0.16871804941603252                  3  \n",
       "2               0.1633919460161013                  5  \n",
       "3               0.3709520576683851                  5  \n",
       "4                0.161929696659889                  5  \n",
       "..                             ...                ...  \n",
       "495             0.3220987774599666                  5  \n",
       "496            0.19274233344094494                  5  \n",
       "497             0.1126000649175869                  3  \n",
       "498             0.2955659667568775                  5  \n",
       "499            0.10883549545045346                  5  \n",
       "\n",
       "[500 rows x 6 columns]"
      ]
     },
     "execution_count": 220,
     "metadata": {},
     "output_type": "execute_result"
    }
   ],
   "source": [
    "test_cluster"
   ]
  },
  {
   "cell_type": "code",
   "execution_count": null,
   "metadata": {},
   "outputs": [],
   "source": []
  }
 ],
 "metadata": {
  "kernelspec": {
   "display_name": "Python 3",
   "language": "python",
   "name": "python3"
  },
  "language_info": {
   "codemirror_mode": {
    "name": "ipython",
    "version": 3
   },
   "file_extension": ".py",
   "mimetype": "text/x-python",
   "name": "python",
   "nbconvert_exporter": "python",
   "pygments_lexer": "ipython3",
   "version": "3.8.3"
  }
 },
 "nbformat": 4,
 "nbformat_minor": 4
}
