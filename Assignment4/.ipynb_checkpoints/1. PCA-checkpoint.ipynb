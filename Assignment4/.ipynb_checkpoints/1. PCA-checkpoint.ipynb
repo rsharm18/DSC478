{
 "cells": [
  {
   "cell_type": "code",
   "execution_count": 6,
   "metadata": {},
   "outputs": [],
   "source": [
    "import pandas as pd\n",
    "import numpy as np\n",
    "import matplotlib.pyplot as plt\n",
    "%matplotlib inline"
   ]
  },
  {
   "cell_type": "markdown",
   "metadata": {},
   "source": [
    "## 1.a  Load in the image data matrix (with rows as images and columns as features). Also load in the numeric class labels from the segmentation class file. Using your favorite method (e.g., sklearn's min-max scaler), perform min-max normalization on the data matrix so that each feature is scaled to [0,1] range."
   ]
  },
  {
   "cell_type": "code",
   "execution_count": 138,
   "metadata": {},
   "outputs": [],
   "source": [
    "data = pd.read_table('data/segmentation_data/segmentation_data.txt',na_values=['?'],delimiter=\",\",header=None)\n",
    "classes = pd.read_table('data/segmentation_data/segmentation_classes.txt',na_values=['?'],header=None)\n",
    "names = pd.read_table('data/segmentation_data/segmentation_names.txt',na_values=['?'],header=None)"
   ]
  },
  {
   "cell_type": "code",
   "execution_count": 139,
   "metadata": {},
   "outputs": [
    {
     "name": "stdout",
     "output_type": "stream",
     "text": [
      "Data Shape  (2100, 19)\n",
      "Data - head\n",
      "       0      1   2    3    4    5    6    7    8     9     10    11    12  \\\n",
      "0 110.00 189.00   9 0.00 0.00 1.00 0.67 1.22 1.19 12.93 10.89  9.22 18.67   \n",
      "1  86.00 187.00   9 0.00 0.00 1.11 0.72 1.44 0.75 13.74 11.67 10.33 19.22   \n",
      "2 225.00 244.00   9 0.00 0.00 3.39 2.20 3.00 1.52 12.26 10.33  9.33 17.11   \n",
      "3  47.00 232.00   9 0.00 0.00 1.28 1.25 1.00 0.89 12.70 11.00  9.00 18.11   \n",
      "4  97.00 186.00   9 0.00 0.00 1.17 0.69 1.17 1.01 15.59 13.89 11.78 21.11   \n",
      "\n",
      "     13     14    15    16   17   18  \n",
      "0 -6.11 -11.11 17.22 18.67 0.51 1.91  \n",
      "1 -6.22 -10.22 16.44 19.22 0.46 1.94  \n",
      "2 -5.78  -8.78 14.56 17.11 0.48 1.99  \n",
      "3 -5.11 -11.11 16.22 18.11 0.50 1.88  \n",
      "4 -5.11 -11.44 16.56 21.11 0.44 1.86  \n"
     ]
    }
   ],
   "source": [
    "print(\"Data Shape \",data.shape)\n",
    "print(\"Data - head\\n\",data.head())\n",
    "\n",
    "## data is already in image x features format)"
   ]
  },
  {
   "cell_type": "code",
   "execution_count": 140,
   "metadata": {},
   "outputs": [
    {
     "name": "stdout",
     "output_type": "stream",
     "text": [
      "classes Shape  (2100, 2)\n",
      "classes - head\n",
      "        0  1\n",
      "0  GRASS  0\n",
      "1  GRASS  0\n",
      "2  GRASS  0\n",
      "3  GRASS  0\n",
      "4  GRASS  0\n"
     ]
    }
   ],
   "source": [
    "print(\"classes Shape \",classes.shape)\n",
    "print(\"classes - head\\n\",classes.head())\n"
   ]
  },
  {
   "cell_type": "code",
   "execution_count": 141,
   "metadata": {},
   "outputs": [
    {
     "name": "stdout",
     "output_type": "stream",
     "text": [
      "names Shape  (19, 1)\n",
      "names\n",
      "                       0\n",
      "0   REGION-CENTROID-COL\n",
      "1   REGION-CENTROID-ROW\n",
      "2    REGION-PIXEL-COUNT\n",
      "3  SHORT-LINE-DENSITY-5\n",
      "4  SHORT-LINE-DENSITY-2\n"
     ]
    }
   ],
   "source": [
    "print(\"names Shape \",names.shape)\n",
    "print(\"names\\n\",names.head())\n"
   ]
  },
  {
   "cell_type": "code",
   "execution_count": 142,
   "metadata": {},
   "outputs": [],
   "source": [
    "## apply sklearn min-max\n",
    "\n",
    "from sklearn.preprocessing import MinMaxScaler"
   ]
  },
  {
   "cell_type": "code",
   "execution_count": 143,
   "metadata": {},
   "outputs": [],
   "source": [
    "scaler = MinMaxScaler()"
   ]
  },
  {
   "cell_type": "code",
   "execution_count": 144,
   "metadata": {},
   "outputs": [],
   "source": [
    "scaled_data = scaler.fit_transform(data)"
   ]
  },
  {
   "cell_type": "code",
   "execution_count": 145,
   "metadata": {},
   "outputs": [
    {
     "data": {
      "text/plain": [
       "array([[0.43, 0.74, 0.  , ..., 0.12, 0.51, 0.83],\n",
       "       [0.34, 0.73, 0.  , ..., 0.13, 0.46, 0.84],\n",
       "       [0.89, 0.97, 0.  , ..., 0.11, 0.48, 0.84],\n",
       "       ...,\n",
       "       [0.5 , 0.62, 0.  , ..., 0.07, 0.54, 0.18],\n",
       "       [0.59, 0.61, 0.  , ..., 0.08, 0.5 , 0.18],\n",
       "       [0.49, 0.63, 0.  , ..., 0.1 , 0.48, 0.17]])"
      ]
     },
     "execution_count": 145,
     "metadata": {},
     "output_type": "execute_result"
    }
   ],
   "source": [
    "scaled_data"
   ]
  },
  {
   "cell_type": "markdown",
   "metadata": {},
   "source": [
    "## 1.b Using the Kmeans implementation in scikit-learn, perform clustering on the image data (use K = 7 in your clustering so that later we can compare the clusters to the 7 pre-assigned image classes). Print the cluster centroids (use some formatting so that they are visually understandable). To evaluate your clusters, first perform Silhouette analysis on the clusters (compute Silhouette values for all instances in the data, and then compute the overall mean Silhouette value; optionally, you can provide a visaulization of the Silhouettes). Next, compare your 7 clusters to the 7 pre-assigned classes by computing the Completeness and Homogeneity values of the generated clusters."
   ]
  },
  {
   "cell_type": "code",
   "execution_count": 146,
   "metadata": {},
   "outputs": [],
   "source": [
    "from sklearn.cluster import KMeans"
   ]
  },
  {
   "cell_type": "code",
   "execution_count": 147,
   "metadata": {},
   "outputs": [],
   "source": [
    "K = 7;\n",
    "kmean = KMeans(n_clusters=K);"
   ]
  },
  {
   "cell_type": "code",
   "execution_count": 148,
   "metadata": {},
   "outputs": [
    {
     "data": {
      "text/plain": [
       "KMeans(n_clusters=7)"
      ]
     },
     "execution_count": 148,
     "metadata": {},
     "output_type": "execute_result"
    }
   ],
   "source": [
    "kmean.fit(scaled_data)"
   ]
  },
  {
   "cell_type": "code",
   "execution_count": 149,
   "metadata": {},
   "outputs": [],
   "source": [
    "clusters = kmean.predict(scaled_data)"
   ]
  },
  {
   "cell_type": "code",
   "execution_count": 150,
   "metadata": {},
   "outputs": [],
   "source": [
    "clust_df = pd.DataFrame(clusters, columns=[\"Cluster\"])"
   ]
  },
  {
   "cell_type": "code",
   "execution_count": 151,
   "metadata": {},
   "outputs": [
    {
     "data": {
      "text/html": [
       "<div>\n",
       "<style scoped>\n",
       "    .dataframe tbody tr th:only-of-type {\n",
       "        vertical-align: middle;\n",
       "    }\n",
       "\n",
       "    .dataframe tbody tr th {\n",
       "        vertical-align: top;\n",
       "    }\n",
       "\n",
       "    .dataframe thead th {\n",
       "        text-align: right;\n",
       "    }\n",
       "</style>\n",
       "<table border=\"1\" class=\"dataframe\">\n",
       "  <thead>\n",
       "    <tr style=\"text-align: right;\">\n",
       "      <th></th>\n",
       "      <th>Cluster</th>\n",
       "    </tr>\n",
       "  </thead>\n",
       "  <tbody>\n",
       "    <tr>\n",
       "      <th>0</th>\n",
       "      <td>0</td>\n",
       "    </tr>\n",
       "    <tr>\n",
       "      <th>1</th>\n",
       "      <td>0</td>\n",
       "    </tr>\n",
       "    <tr>\n",
       "      <th>2</th>\n",
       "      <td>0</td>\n",
       "    </tr>\n",
       "    <tr>\n",
       "      <th>3</th>\n",
       "      <td>0</td>\n",
       "    </tr>\n",
       "    <tr>\n",
       "      <th>4</th>\n",
       "      <td>0</td>\n",
       "    </tr>\n",
       "    <tr>\n",
       "      <th>...</th>\n",
       "      <td>...</td>\n",
       "    </tr>\n",
       "    <tr>\n",
       "      <th>2095</th>\n",
       "      <td>5</td>\n",
       "    </tr>\n",
       "    <tr>\n",
       "      <th>2096</th>\n",
       "      <td>3</td>\n",
       "    </tr>\n",
       "    <tr>\n",
       "      <th>2097</th>\n",
       "      <td>4</td>\n",
       "    </tr>\n",
       "    <tr>\n",
       "      <th>2098</th>\n",
       "      <td>4</td>\n",
       "    </tr>\n",
       "    <tr>\n",
       "      <th>2099</th>\n",
       "      <td>3</td>\n",
       "    </tr>\n",
       "  </tbody>\n",
       "</table>\n",
       "<p>2100 rows × 1 columns</p>\n",
       "</div>"
      ],
      "text/plain": [
       "      Cluster\n",
       "0           0\n",
       "1           0\n",
       "2           0\n",
       "3           0\n",
       "4           0\n",
       "...       ...\n",
       "2095        5\n",
       "2096        3\n",
       "2097        4\n",
       "2098        4\n",
       "2099        3\n",
       "\n",
       "[2100 rows x 1 columns]"
      ]
     },
     "execution_count": 151,
     "metadata": {},
     "output_type": "execute_result"
    }
   ],
   "source": [
    "clust_df"
   ]
  },
  {
   "cell_type": "markdown",
   "metadata": {},
   "source": [
    "### Print the cluster centroids"
   ]
  },
  {
   "cell_type": "code",
   "execution_count": 152,
   "metadata": {},
   "outputs": [
    {
     "data": {
      "text/html": [
       "<div>\n",
       "<style scoped>\n",
       "    .dataframe tbody tr th:only-of-type {\n",
       "        vertical-align: middle;\n",
       "    }\n",
       "\n",
       "    .dataframe tbody tr th {\n",
       "        vertical-align: top;\n",
       "    }\n",
       "\n",
       "    .dataframe thead th {\n",
       "        text-align: right;\n",
       "    }\n",
       "</style>\n",
       "<table border=\"1\" class=\"dataframe\">\n",
       "  <thead>\n",
       "    <tr style=\"text-align: right;\">\n",
       "      <th></th>\n",
       "      <th>(REGION-CENTROID-COL,)</th>\n",
       "      <th>(REGION-CENTROID-ROW,)</th>\n",
       "      <th>(REGION-PIXEL-COUNT,)</th>\n",
       "      <th>(SHORT-LINE-DENSITY-5,)</th>\n",
       "      <th>(SHORT-LINE-DENSITY-2,)</th>\n",
       "      <th>(VEDGE-MEAN,)</th>\n",
       "      <th>(VEDGE-SD,)</th>\n",
       "      <th>(HEDGE-MEAN,)</th>\n",
       "      <th>(HEDGE-SD,)</th>\n",
       "      <th>(INTENSITY-MEAN,)</th>\n",
       "      <th>(RAWRED-MEAN,)</th>\n",
       "      <th>(RAWBLUE-MEAN,)</th>\n",
       "      <th>(RAWGREEN-MEAN,)</th>\n",
       "      <th>(EXRED-MEAN,)</th>\n",
       "      <th>(EXBLUE-MEAN,)</th>\n",
       "      <th>(EXGREEN-MEAN,)</th>\n",
       "      <th>(VALUE-MEAN,)</th>\n",
       "      <th>(SATURATION-MEAN,)</th>\n",
       "      <th>(HUE-MEAN,)</th>\n",
       "    </tr>\n",
       "  </thead>\n",
       "  <tbody>\n",
       "    <tr>\n",
       "      <th>0</th>\n",
       "      <td>0.51</td>\n",
       "      <td>0.81</td>\n",
       "      <td>0.00</td>\n",
       "      <td>0.08</td>\n",
       "      <td>0.01</td>\n",
       "      <td>0.05</td>\n",
       "      <td>0.00</td>\n",
       "      <td>0.05</td>\n",
       "      <td>0.00</td>\n",
       "      <td>0.11</td>\n",
       "      <td>0.09</td>\n",
       "      <td>0.09</td>\n",
       "      <td>0.14</td>\n",
       "      <td>0.68</td>\n",
       "      <td>0.08</td>\n",
       "      <td>0.82</td>\n",
       "      <td>0.13</td>\n",
       "      <td>0.41</td>\n",
       "      <td>0.89</td>\n",
       "    </tr>\n",
       "    <tr>\n",
       "      <th>1</th>\n",
       "      <td>0.75</td>\n",
       "      <td>0.53</td>\n",
       "      <td>0.00</td>\n",
       "      <td>0.04</td>\n",
       "      <td>0.04</td>\n",
       "      <td>0.11</td>\n",
       "      <td>0.02</td>\n",
       "      <td>0.11</td>\n",
       "      <td>0.02</td>\n",
       "      <td>0.30</td>\n",
       "      <td>0.28</td>\n",
       "      <td>0.35</td>\n",
       "      <td>0.27</td>\n",
       "      <td>0.59</td>\n",
       "      <td>0.45</td>\n",
       "      <td>0.31</td>\n",
       "      <td>0.35</td>\n",
       "      <td>0.30</td>\n",
       "      <td>0.16</td>\n",
       "    </tr>\n",
       "    <tr>\n",
       "      <th>2</th>\n",
       "      <td>0.54</td>\n",
       "      <td>0.15</td>\n",
       "      <td>0.00</td>\n",
       "      <td>0.03</td>\n",
       "      <td>0.00</td>\n",
       "      <td>0.03</td>\n",
       "      <td>0.00</td>\n",
       "      <td>0.03</td>\n",
       "      <td>0.00</td>\n",
       "      <td>0.82</td>\n",
       "      <td>0.78</td>\n",
       "      <td>0.89</td>\n",
       "      <td>0.79</td>\n",
       "      <td>0.27</td>\n",
       "      <td>0.67</td>\n",
       "      <td>0.29</td>\n",
       "      <td>0.89</td>\n",
       "      <td>0.21</td>\n",
       "      <td>0.13</td>\n",
       "    </tr>\n",
       "    <tr>\n",
       "      <th>3</th>\n",
       "      <td>0.26</td>\n",
       "      <td>0.39</td>\n",
       "      <td>0.00</td>\n",
       "      <td>0.07</td>\n",
       "      <td>0.02</td>\n",
       "      <td>0.08</td>\n",
       "      <td>0.00</td>\n",
       "      <td>0.06</td>\n",
       "      <td>0.00</td>\n",
       "      <td>0.15</td>\n",
       "      <td>0.14</td>\n",
       "      <td>0.19</td>\n",
       "      <td>0.12</td>\n",
       "      <td>0.72</td>\n",
       "      <td>0.34</td>\n",
       "      <td>0.36</td>\n",
       "      <td>0.19</td>\n",
       "      <td>0.41</td>\n",
       "      <td>0.20</td>\n",
       "    </tr>\n",
       "    <tr>\n",
       "      <th>4</th>\n",
       "      <td>0.77</td>\n",
       "      <td>0.43</td>\n",
       "      <td>0.00</td>\n",
       "      <td>0.01</td>\n",
       "      <td>0.02</td>\n",
       "      <td>0.04</td>\n",
       "      <td>0.00</td>\n",
       "      <td>0.02</td>\n",
       "      <td>0.00</td>\n",
       "      <td>0.04</td>\n",
       "      <td>0.04</td>\n",
       "      <td>0.06</td>\n",
       "      <td>0.03</td>\n",
       "      <td>0.78</td>\n",
       "      <td>0.22</td>\n",
       "      <td>0.49</td>\n",
       "      <td>0.06</td>\n",
       "      <td>0.54</td>\n",
       "      <td>0.24</td>\n",
       "    </tr>\n",
       "    <tr>\n",
       "      <th>5</th>\n",
       "      <td>0.25</td>\n",
       "      <td>0.46</td>\n",
       "      <td>0.00</td>\n",
       "      <td>0.03</td>\n",
       "      <td>0.01</td>\n",
       "      <td>0.04</td>\n",
       "      <td>0.00</td>\n",
       "      <td>0.03</td>\n",
       "      <td>0.00</td>\n",
       "      <td>0.03</td>\n",
       "      <td>0.02</td>\n",
       "      <td>0.04</td>\n",
       "      <td>0.02</td>\n",
       "      <td>0.77</td>\n",
       "      <td>0.22</td>\n",
       "      <td>0.51</td>\n",
       "      <td>0.04</td>\n",
       "      <td>0.80</td>\n",
       "      <td>0.18</td>\n",
       "    </tr>\n",
       "    <tr>\n",
       "      <th>6</th>\n",
       "      <td>0.30</td>\n",
       "      <td>0.53</td>\n",
       "      <td>0.00</td>\n",
       "      <td>0.05</td>\n",
       "      <td>0.05</td>\n",
       "      <td>0.10</td>\n",
       "      <td>0.01</td>\n",
       "      <td>0.08</td>\n",
       "      <td>0.01</td>\n",
       "      <td>0.40</td>\n",
       "      <td>0.37</td>\n",
       "      <td>0.47</td>\n",
       "      <td>0.35</td>\n",
       "      <td>0.50</td>\n",
       "      <td>0.57</td>\n",
       "      <td>0.21</td>\n",
       "      <td>0.47</td>\n",
       "      <td>0.30</td>\n",
       "      <td>0.16</td>\n",
       "    </tr>\n",
       "  </tbody>\n",
       "</table>\n",
       "</div>"
      ],
      "text/plain": [
       "   (REGION-CENTROID-COL,)  (REGION-CENTROID-ROW,)  (REGION-PIXEL-COUNT,)  \\\n",
       "0                    0.51                    0.81                   0.00   \n",
       "1                    0.75                    0.53                   0.00   \n",
       "2                    0.54                    0.15                   0.00   \n",
       "3                    0.26                    0.39                   0.00   \n",
       "4                    0.77                    0.43                   0.00   \n",
       "5                    0.25                    0.46                   0.00   \n",
       "6                    0.30                    0.53                   0.00   \n",
       "\n",
       "   (SHORT-LINE-DENSITY-5,)  (SHORT-LINE-DENSITY-2,)  (VEDGE-MEAN,)  \\\n",
       "0                     0.08                     0.01           0.05   \n",
       "1                     0.04                     0.04           0.11   \n",
       "2                     0.03                     0.00           0.03   \n",
       "3                     0.07                     0.02           0.08   \n",
       "4                     0.01                     0.02           0.04   \n",
       "5                     0.03                     0.01           0.04   \n",
       "6                     0.05                     0.05           0.10   \n",
       "\n",
       "   (VEDGE-SD,)  (HEDGE-MEAN,)  (HEDGE-SD,)  (INTENSITY-MEAN,)  (RAWRED-MEAN,)  \\\n",
       "0         0.00           0.05         0.00               0.11            0.09   \n",
       "1         0.02           0.11         0.02               0.30            0.28   \n",
       "2         0.00           0.03         0.00               0.82            0.78   \n",
       "3         0.00           0.06         0.00               0.15            0.14   \n",
       "4         0.00           0.02         0.00               0.04            0.04   \n",
       "5         0.00           0.03         0.00               0.03            0.02   \n",
       "6         0.01           0.08         0.01               0.40            0.37   \n",
       "\n",
       "   (RAWBLUE-MEAN,)  (RAWGREEN-MEAN,)  (EXRED-MEAN,)  (EXBLUE-MEAN,)  \\\n",
       "0             0.09              0.14           0.68            0.08   \n",
       "1             0.35              0.27           0.59            0.45   \n",
       "2             0.89              0.79           0.27            0.67   \n",
       "3             0.19              0.12           0.72            0.34   \n",
       "4             0.06              0.03           0.78            0.22   \n",
       "5             0.04              0.02           0.77            0.22   \n",
       "6             0.47              0.35           0.50            0.57   \n",
       "\n",
       "   (EXGREEN-MEAN,)  (VALUE-MEAN,)  (SATURATION-MEAN,)  (HUE-MEAN,)  \n",
       "0             0.82           0.13                0.41         0.89  \n",
       "1             0.31           0.35                0.30         0.16  \n",
       "2             0.29           0.89                0.21         0.13  \n",
       "3             0.36           0.19                0.41         0.20  \n",
       "4             0.49           0.06                0.54         0.24  \n",
       "5             0.51           0.04                0.80         0.18  \n",
       "6             0.21           0.47                0.30         0.16  "
      ]
     },
     "execution_count": 152,
     "metadata": {},
     "output_type": "execute_result"
    }
   ],
   "source": [
    "pd.options.display.float_format='{:,.2f}'.format\n",
    "\n",
    "centroids = pd.DataFrame(kmean.cluster_centers_, columns=names)\n",
    "centroids"
   ]
  },
  {
   "cell_type": "markdown",
   "metadata": {},
   "source": [
    "### To evaluate your clusters, first perform Silhouette analysis on the clusters (compute Silhouette values for all instances in the data, and then compute the overall mean Silhouette value; optionally, you can provide a visaulization of the Silhouettes)"
   ]
  },
  {
   "cell_type": "code",
   "execution_count": 153,
   "metadata": {},
   "outputs": [],
   "source": [
    "from sklearn.metrics import *"
   ]
  },
  {
   "cell_type": "code",
   "execution_count": 154,
   "metadata": {},
   "outputs": [],
   "source": [
    "silhouettes = silhouette_samples(scaled_data,clusters)"
   ]
  },
  {
   "cell_type": "code",
   "execution_count": 155,
   "metadata": {},
   "outputs": [
    {
     "name": "stdout",
     "output_type": "stream",
     "text": [
      "[0.57 0.56 0.47 0.5  0.57 0.56 0.54 0.41 0.52 0.47 0.49 0.49 0.58 0.56\n",
      " 0.38 0.53 0.55 0.42 0.42 0.4 ]\n"
     ]
    }
   ],
   "source": [
    "print(silhouettes[:20])"
   ]
  },
  {
   "cell_type": "code",
   "execution_count": 156,
   "metadata": {},
   "outputs": [
    {
     "name": "stdout",
     "output_type": "stream",
     "text": [
      " silhouettes.mean :  0.332066475286672\n"
     ]
    }
   ],
   "source": [
    "## silhouettes mean\n",
    "sl_mean = silhouettes.mean()\n",
    "print(\" silhouettes.mean : \",sl_mean)"
   ]
  },
  {
   "cell_type": "code",
   "execution_count": 157,
   "metadata": {},
   "outputs": [],
   "source": [
    "## plot the silhouette\n",
    "import pylab as pl\n",
    "\n",
    "def plot_silhouettes(data, clusters, metric='euclidean'):\n",
    "    \n",
    "    from matplotlib import cm\n",
    "    \n",
    "    cluster_labels = np.unique(clusters)\n",
    "    n_clusters = cluster_labels.shape[0]\n",
    "    silhouette_vals = silhouette_samples(data, clusters, metric='euclidean')\n",
    "    c_ax_lower, c_ax_upper = 0, 0\n",
    "    cticks = []\n",
    "    for i, k in enumerate(cluster_labels):\n",
    "        c_silhouette_vals = silhouette_vals[clusters == k]\n",
    "        c_silhouette_vals.sort()\n",
    "        c_ax_upper += len(c_silhouette_vals)\n",
    "        color = cm.jet(float(i) / n_clusters)\n",
    "        pl.barh(range(c_ax_lower, c_ax_upper), c_silhouette_vals, height=1.0, \n",
    "                      edgecolor='none', color=color)\n",
    "\n",
    "        cticks.append((c_ax_lower + c_ax_upper) / 2)\n",
    "        c_ax_lower += len(c_silhouette_vals)\n",
    "    \n",
    "    silhouette_avg = np.mean(silhouette_vals)\n",
    "    pl.axvline(silhouette_avg, color=\"red\", linestyle=\"--\") \n",
    "\n",
    "    pl.yticks(cticks, cluster_labels)\n",
    "    pl.ylabel('Cluster')\n",
    "    pl.xlabel('Silhouette coefficient')\n",
    "\n",
    "    pl.tight_layout()\n",
    "    #pl.savefig('images/11_04.png', dpi=300)\n",
    "    pl.show()\n",
    "    \n",
    "    return"
   ]
  },
  {
   "cell_type": "code",
   "execution_count": 158,
   "metadata": {},
   "outputs": [
    {
     "data": {
      "image/png": "[encoded data removed]",
      "text/plain": [
       "<Figure size 432x288 with 1 Axes>"
      ]
     },
     "metadata": {
      "needs_background": "light"
     },
     "output_type": "display_data"
    }
   ],
   "source": [
    "plot_silhouettes(scaled_data,clusters)"
   ]
  },
  {
   "cell_type": "code",
   "execution_count": 159,
   "metadata": {},
   "outputs": [],
   "source": [
    "from sklearn.metrics import completeness_score, homogeneity_score"
   ]
  },
  {
   "cell_type": "markdown",
   "metadata": {},
   "source": [
    "### Next, compare your 7 clusters to the 7 pre-assigned classes by computing the Completeness and Homogeneity values of the generated clusters"
   ]
  },
  {
   "cell_type": "code",
   "execution_count": 160,
   "metadata": {},
   "outputs": [
    {
     "name": "stdout",
     "output_type": "stream",
     "text": [
      " classes_arr :  [0 0 0 ... 3 3 3]\n",
      " clusters    :  [0 0 0 ... 4 4 3]\n"
     ]
    }
   ],
   "source": [
    "classes_arr = np.array(classes[1])\n",
    "print(\" classes_arr : \",classes_arr)\n",
    "print(\" clusters    : \",clusters)"
   ]
  },
  {
   "cell_type": "code",
   "execution_count": 161,
   "metadata": {},
   "outputs": [
    {
     "name": "stdout",
     "output_type": "stream",
     "text": [
      "completeness_score :  0.6131870124853009\n",
      "homogeneity_score :  0.6115021163370862\n"
     ]
    }
   ],
   "source": [
    "print(\"completeness_score : \",completeness_score(classes_arr,clusters))\n",
    "print(\"homogeneity_score : \",homogeneity_score(classes_arr,clusters))"
   ]
  },
  {
   "cell_type": "markdown",
   "metadata": {},
   "source": [
    "## 1.c Perform PCA on the normalized image data matrix. You may use the linear algebra package in Numpy or the Decomposition module in scikit-learn (the latter is much more efficient). Analyze the principal components to determine the number, r, of PCs needed to capture at least 95% of variance in the data. Provide a plot of PC variances. Then use these r components as features to transform the data into a reduced dimension space."
   ]
  },
  {
   "cell_type": "code",
   "execution_count": 162,
   "metadata": {},
   "outputs": [],
   "source": [
    "from sklearn import decomposition"
   ]
  },
  {
   "cell_type": "code",
   "execution_count": 163,
   "metadata": {},
   "outputs": [],
   "source": [
    "pca = decomposition.PCA(n_components=5)"
   ]
  },
  {
   "cell_type": "code",
   "execution_count": 164,
   "metadata": {},
   "outputs": [
    {
     "name": "stdout",
     "output_type": "stream",
     "text": [
      "transformed_data\n",
      " [[-0.69  0.53  0.25 -0.2  -0.08]\n",
      " [-0.67  0.51  0.34 -0.17 -0.04]\n",
      " [-0.71  0.77 -0.16 -0.01 -0.17]\n",
      " ...\n",
      " [-0.51 -0.13 -0.08  0.1  -0.03]\n",
      " [-0.48 -0.09 -0.16  0.11  0.  ]\n",
      " [-0.44 -0.11 -0.05  0.15  0.02]]\n"
     ]
    }
   ],
   "source": [
    "np.set_printoptions(precision=2,suppress=True)\n",
    "transformed_data = pca.fit_transform(scaled_data)\n",
    "print(\"transformed_data\\n\",transformed_data)"
   ]
  },
  {
   "cell_type": "code",
   "execution_count": 165,
   "metadata": {},
   "outputs": [
    {
     "name": "stdout",
     "output_type": "stream",
     "text": [
      "[0.61 0.13 0.1  0.05 0.04]\n",
      " explained_variance_ratio - sum  0.9212588648109566\n"
     ]
    }
   ],
   "source": [
    "explained_variance_ratio = pca.explained_variance_ratio_\n",
    "print(explained_variance_ratio)\n",
    "print(\" explained_variance_ratio - sum \",sum(explained_variance_ratio))"
   ]
  },
  {
   "cell_type": "code",
   "execution_count": 166,
   "metadata": {},
   "outputs": [],
   "source": [
    "def getPCAData(D,k):\n",
    "    r = 0\n",
    "    pca_data = []\n",
    "    for i in range(k):\n",
    "        pca = decomposition.PCA(n_components=i)\n",
    "        transformed_data = pca.fit_transform(D)\n",
    "        #print(\"transformed_data\\n\",transformed_data)\n",
    "        explained_variance_ratio = pca.explained_variance_ratio_\n",
    "        sum_of_ratio = sum(explained_variance_ratio)\n",
    "        #print(\" 1. sum_of_ratio : \",sum_of_ratio)\n",
    "        \n",
    "        ## number, r, of PCs needed to capture at least 95% of variance in the data\n",
    "        if(sum(explained_variance_ratio) >= 0.95):\n",
    "            #print(\" 2. sum_of_ratio : \",sum_of_ratio, \" r=\",i)\n",
    "            r = i\n",
    "            pca_data = transformed_data;\n",
    "            break;\n",
    "    return r, pca_data\n",
    "        \n",
    "    "
   ]
  },
  {
   "cell_type": "code",
   "execution_count": 167,
   "metadata": {},
   "outputs": [],
   "source": [
    "r, pca_data = getPCAData(scaled_data,names.shape[0])"
   ]
  },
  {
   "cell_type": "code",
   "execution_count": 168,
   "metadata": {},
   "outputs": [
    {
     "name": "stdout",
     "output_type": "stream",
     "text": [
      " the number of PCA components needed for atleat 95% variance is  7\n",
      " transformed data set \n",
      "       (REGION-CENTROID-COL,)  (REGION-CENTROID-ROW,)  (REGION-PIXEL-COUNT,)  \\\n",
      "0                      -0.69                    0.53                   0.25   \n",
      "1                      -0.67                    0.51                   0.34   \n",
      "2                      -0.71                    0.77                  -0.16   \n",
      "3                      -0.73                    0.51                   0.50   \n",
      "4                      -0.64                    0.53                   0.30   \n",
      "...                      ...                     ...                    ...   \n",
      "2095                   -0.50                   -0.26                   0.27   \n",
      "2096                   -0.50                   -0.26                   0.38   \n",
      "2097                   -0.51                   -0.13                  -0.08   \n",
      "2098                   -0.48                   -0.09                  -0.16   \n",
      "2099                   -0.44                   -0.11                  -0.05   \n",
      "\n",
      "      (SHORT-LINE-DENSITY-5,)  (SHORT-LINE-DENSITY-2,)  (VEDGE-MEAN,)  \\\n",
      "0                       -0.20                    -0.08           0.05   \n",
      "1                       -0.17                    -0.04           0.06   \n",
      "2                       -0.01                    -0.17           0.04   \n",
      "3                       -0.06                    -0.14           0.03   \n",
      "4                       -0.18                    -0.02           0.05   \n",
      "...                       ...                      ...            ...   \n",
      "2095                     0.11                    -0.01          -0.01   \n",
      "2096                     0.15                     0.03          -0.20   \n",
      "2097                     0.10                    -0.03          -0.03   \n",
      "2098                     0.11                     0.00          -0.00   \n",
      "2099                     0.15                     0.02          -0.21   \n",
      "\n",
      "      (VEDGE-SD,)  \n",
      "0           -0.05  \n",
      "1           -0.04  \n",
      "2           -0.06  \n",
      "3           -0.10  \n",
      "4           -0.06  \n",
      "...           ...  \n",
      "2095        -0.10  \n",
      "2096         0.14  \n",
      "2097        -0.11  \n",
      "2098        -0.09  \n",
      "2099         0.15  \n",
      "\n",
      "[2100 rows x 7 columns]\n"
     ]
    }
   ],
   "source": [
    "print(\" the number of PCA components needed for atleat 95% variance is \",r)\n",
    "\n",
    "pca_data_df = pd.DataFrame(pca_data,columns=names[0:r])\n",
    "print(\" transformed data set \\n\", pca_data_df)\n"
   ]
  },
  {
   "cell_type": "markdown",
   "metadata": {},
   "source": [
    "### plotting the variance and reduced dimension space"
   ]
  },
  {
   "cell_type": "code",
   "execution_count": 169,
   "metadata": {},
   "outputs": [
    {
     "name": "stdout",
     "output_type": "stream",
     "text": [
      "transformed_data\n",
      " [[-0.69  0.53  0.25 ... -0.08  0.05 -0.05]\n",
      " [-0.67  0.51  0.34 ... -0.04  0.06 -0.04]\n",
      " [-0.71  0.77 -0.16 ... -0.17  0.04 -0.06]\n",
      " ...\n",
      " [-0.51 -0.13 -0.08 ... -0.03 -0.03 -0.11]\n",
      " [-0.48 -0.09 -0.16 ...  0.   -0.   -0.09]\n",
      " [-0.44 -0.11 -0.05 ...  0.02 -0.21  0.15]]\n",
      "\n",
      " explained_variance_ratio  [0.63 0.14 0.11 0.05 0.04 0.02 0.02]\n"
     ]
    }
   ],
   "source": [
    "np.set_printoptions(precision=2,suppress=True)\n",
    "\n",
    "pca = decomposition.PCA(n_components=r)\n",
    "transformed_data = pca.fit_transform(pca_data)\n",
    "print(\"transformed_data\\n\",transformed_data)\n",
    "explained_variance_ratio = pca.explained_variance_ratio_\n",
    "print(\"\\n explained_variance_ratio \",explained_variance_ratio)"
   ]
  },
  {
   "cell_type": "code",
   "execution_count": 170,
   "metadata": {},
   "outputs": [
    {
     "data": {
      "image/png": "[encoded data removed]",
      "text/plain": [
       "<Figure size 432x288 with 1 Axes>"
      ]
     },
     "metadata": {
      "needs_background": "light"
     },
     "output_type": "display_data"
    }
   ],
   "source": [
    "fig = plt.figure()\n",
    "ax = fig.add_subplot(111)\n",
    "ax.plot(range(0, r), explained_variance_ratio  , marker='^')\n",
    "plt.xlabel('Principal Component Number')\n",
    "plt.ylabel('Percentage of Variance')\n",
    "plt.show()"
   ]
  },
  {
   "cell_type": "markdown",
   "metadata": {},
   "source": [
    "## 1d Perform Kmeans again, but this time on the lower dimensional transformed data. Then compare Silhouette values as well as completeness and Homogeneity values of the new clusters. Compare these results with those obtained on the full data in part b."
   ]
  },
  {
   "cell_type": "code",
   "execution_count": 171,
   "metadata": {},
   "outputs": [
    {
     "name": "stdout",
     "output_type": "stream",
     "text": [
      " clusters_reduced_dim  [2 2 2 ... 4 4 5]\n",
      " centroids_reduced_dim     (REGION-CENTROID-COL,)  (REGION-CENTROID-ROW,)  (REGION-PIXEL-COUNT,)  \\\n",
      "0                   -0.60                   -0.36                   0.11   \n",
      "1                    1.41                    0.09                   0.04   \n",
      "2                   -0.62                    0.64                   0.20   \n",
      "3                    0.18                    0.04                  -0.26   \n",
      "4                   -0.51                   -0.06                  -0.34   \n",
      "5                   -0.21                   -0.25                   0.15   \n",
      "6                    0.44                   -0.11                   0.17   \n",
      "\n",
      "   (SHORT-LINE-DENSITY-5,)  (SHORT-LINE-DENSITY-2,)  (VEDGE-MEAN,)  \\\n",
      "0                    -0.13                    -0.13          -0.02   \n",
      "1                    -0.17                    -0.03          -0.01   \n",
      "2                    -0.09                    -0.07           0.01   \n",
      "3                     0.18                     0.03           0.02   \n",
      "4                    -0.07                     0.08           0.01   \n",
      "5                     0.06                     0.13          -0.01   \n",
      "6                     0.23                    -0.05          -0.01   \n",
      "\n",
      "   (VEDGE-SD,)  \n",
      "0        -0.04  \n",
      "1        -0.02  \n",
      "2         0.04  \n",
      "3         0.00  \n",
      "4        -0.03  \n",
      "5         0.03  \n",
      "6         0.02  \n"
     ]
    }
   ],
   "source": [
    "K =7\n",
    "kmean = KMeans(n_clusters=K);\n",
    "kmean.fit(pca_data)\n",
    "clusters_reduced_dim = kmean.predict(pca_data)\n",
    "centroids_reduced_dim = pd.DataFrame(kmean.cluster_centers_, columns=names[0:r])\n",
    "\n",
    "print(\" clusters_reduced_dim \",clusters_reduced_dim)\n",
    "print(\" centroids_reduced_dim \",centroids_reduced_dim)\n"
   ]
  },
  {
   "cell_type": "code",
   "execution_count": 183,
   "metadata": {},
   "outputs": [
    {
     "name": "stdout",
     "output_type": "stream",
     "text": [
      " silhouettes_reduced_dim  [0.59 0.57 0.48 0.51 0.59]\n"
     ]
    },
    {
     "data": {
      "image/png": "[encoded data removed]",
      "text/plain": [
       "<Figure size 432x288 with 1 Axes>"
      ]
     },
     "metadata": {
      "needs_background": "light"
     },
     "output_type": "display_data"
    }
   ],
   "source": [
    "silhouettes_reduced_dim = silhouette_samples(pca_data,clusters_reduced_dim)\n",
    "print(\" silhouettes_reduced_dim \",silhouettes_reduced_dim[:5])\n",
    "\n",
    "plot_silhouettes(pca_data,clusters_reduced_dim)   \n",
    "    "
   ]
  },
  {
   "cell_type": "code",
   "execution_count": 184,
   "metadata": {},
   "outputs": [
    {
     "name": "stdout",
     "output_type": "stream",
     "text": [
      "reduced dim - completeness_score :  0.6115749269916771\n",
      "reduced dim - homogeneity_score :  0.6099736092174177\n"
     ]
    }
   ],
   "source": [
    "print(\"reduced dim - completeness_score : \",completeness_score(classes_arr,clusters_reduced_dim))\n",
    "print(\"reduced dim - homogeneity_score : \",homogeneity_score(classes_arr,clusters_reduced_dim))"
   ]
  },
  {
   "cell_type": "markdown",
   "metadata": {},
   "source": [
    "## comparing result with partb\n"
   ]
  },
  {
   "cell_type": "code",
   "execution_count": 180,
   "metadata": {},
   "outputs": [
    {
     "data": {
      "image/png": "[encoded data removed]",
      "text/plain": [
       "<Figure size 432x288 with 1 Axes>"
      ]
     },
     "metadata": {
      "needs_background": "light"
     },
     "output_type": "display_data"
    },
    {
     "name": "stdout",
     "output_type": "stream",
     "text": [
      "full dim - completeness_score :  0.6131870124853009\n",
      "full dim - homogeneity_score :  0.6115021163370862\n"
     ]
    }
   ],
   "source": [
    "## output with full dimension\n",
    "plot_silhouettes(scaled_data,clusters)\n",
    "print(\"full dim - completeness_score : \",completeness_score(classes_arr,clusters))\n",
    "print(\"full dim - homogeneity_score : \",homogeneity_score(classes_arr,clusters))"
   ]
  },
  {
   "cell_type": "code",
   "execution_count": 186,
   "metadata": {},
   "outputs": [
    {
     "data": {
      "image/png": "[encoded data removed]",
      "text/plain": [
       "<Figure size 432x288 with 1 Axes>"
      ]
     },
     "metadata": {
      "needs_background": "light"
     },
     "output_type": "display_data"
    },
    {
     "name": "stdout",
     "output_type": "stream",
     "text": [
      "full dim - completeness_score :  0.6115749269916771\n",
      "full dim - homogeneity_score :  0.6099736092174177\n"
     ]
    }
   ],
   "source": [
    "## output with reduced dimension\n",
    "plot_silhouettes(pca_data,clusters_reduced_dim)\n",
    "print(\"full dim - completeness_score : \",completeness_score(classes_arr,clusters_reduced_dim))\n",
    "print(\"full dim - homogeneity_score : \",homogeneity_score(classes_arr,clusters_reduced_dim))"
   ]
  },
  {
   "cell_type": "markdown",
   "metadata": {},
   "source": [
    "### As we can see from above, the completeness stayed almost the same but the homgeneity score is slightly better with full dimension compared to the reduced dimension data set.\n",
    "\n",
    "### The completeness score approaches 1 when most of the data points that are members of a given class are elements of the same cluster while the homogeneity score approaches 1 when all the clusters contain almost only data points that are member of a single class.\n",
    "\n",
    "### So from above we can see that each cluster  hold a mix of data (data from different classes)"
   ]
  },
  {
   "cell_type": "code",
   "execution_count": null,
   "metadata": {},
   "outputs": [],
   "source": []
  }
 ],
 "metadata": {
  "kernelspec": {
   "display_name": "Python 3",
   "language": "python",
   "name": "python3"
  },
  "language_info": {
   "codemirror_mode": {
    "name": "ipython",
    "version": 3
   },
   "file_extension": ".py",
   "mimetype": "text/x-python",
   "name": "python",
   "nbconvert_exporter": "python",
   "pygments_lexer": "ipython3",
   "version": "3.8.3"
  }
 },
 "nbformat": 4,
 "nbformat_minor": 4
}
