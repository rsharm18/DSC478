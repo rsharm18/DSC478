{
 "cells": [
  {
   "cell_type": "code",
   "execution_count": 6,
   "metadata": {},
   "outputs": [],
   "source": [
    "import pandas as pd\n",
    "import numpy as np\n",
    "import matplotlib.pyplot as plt\n",
    "%matplotlib inline"
   ]
  },
  {
   "cell_type": "code",
   "execution_count": 10,
   "metadata": {},
   "outputs": [],
   "source": [
    "data = pd.read_table('data/segmentation_data/segmentation_data.txt',na_values=['?'],delimiter=\",\",header=None)\n",
    "classes = pd.read_table('data/segmentation_data/segmentation_classes.txt',na_values=['?'],header=None)\n",
    "names = pd.read_table('data/segmentation_data/segmentation_names.txt',na_values=['?'],header=None)"
   ]
  },
  {
   "cell_type": "code",
   "execution_count": 11,
   "metadata": {},
   "outputs": [
    {
     "name": "stdout",
     "output_type": "stream",
     "text": [
      "Data Shape  (2100, 19)\n",
      "Data - head\n",
      "       0      1   2    3    4         5         6         7         8   \\\n",
      "0  110.0  189.0   9  0.0  0.0  1.000000  0.666667  1.222222  1.186342   \n",
      "1   86.0  187.0   9  0.0  0.0  1.111111  0.720082  1.444444  0.750309   \n",
      "2  225.0  244.0   9  0.0  0.0  3.388889  2.195113  3.000000  1.520234   \n",
      "3   47.0  232.0   9  0.0  0.0  1.277778  1.254621  1.000000  0.894427   \n",
      "4   97.0  186.0   9  0.0  0.0  1.166667  0.691215  1.166667  1.005540   \n",
      "\n",
      "          9          10         11         12        13         14         15  \\\n",
      "0  12.925926  10.888889   9.222222  18.666668 -6.111111 -11.111111  17.222221   \n",
      "1  13.740741  11.666667  10.333334  19.222221 -6.222222 -10.222222  16.444445   \n",
      "2  12.259259  10.333334   9.333334  17.111110 -5.777778  -8.777778  14.555555   \n",
      "3  12.703704  11.000000   9.000000  18.111110 -5.111111 -11.111111  16.222221   \n",
      "4  15.592592  13.888889  11.777778  21.111110 -5.111111 -11.444445  16.555555   \n",
      "\n",
      "          16        17        18  \n",
      "0  18.666668  0.508139  1.910864  \n",
      "1  19.222221  0.463329  1.941465  \n",
      "2  17.111110  0.480149  1.987902  \n",
      "3  18.111110  0.500966  1.875362  \n",
      "4  21.111110  0.442661  1.863654  \n"
     ]
    }
   ],
   "source": [
    "print(\"Data Shape \",data.shape)\n",
    "print(\"Data - head\\n\",data.head())\n"
   ]
  },
  {
   "cell_type": "code",
   "execution_count": 12,
   "metadata": {},
   "outputs": [
    {
     "name": "stdout",
     "output_type": "stream",
     "text": [
      "classes Shape  (2100, 2)\n",
      "classes - head\n",
      "        0  1\n",
      "0  GRASS  0\n",
      "1  GRASS  0\n",
      "2  GRASS  0\n",
      "3  GRASS  0\n",
      "4  GRASS  0\n"
     ]
    }
   ],
   "source": [
    "print(\"classes Shape \",classes.shape)\n",
    "print(\"classes - head\\n\",classes.head())\n"
   ]
  },
  {
   "cell_type": "code",
   "execution_count": 19,
   "metadata": {},
   "outputs": [
    {
     "name": "stdout",
     "output_type": "stream",
     "text": [
      "names Shape  (19, 1)\n",
      "names - head\n",
      " [['REGION-CENTROID-COL']\n",
      " ['REGION-CENTROID-ROW']\n",
      " ['REGION-PIXEL-COUNT']\n",
      " ['SHORT-LINE-DENSITY-5']\n",
      " ['SHORT-LINE-DENSITY-2']\n",
      " ['VEDGE-MEAN']\n",
      " ['VEDGE-SD']\n",
      " ['HEDGE-MEAN']\n",
      " ['HEDGE-SD']\n",
      " ['INTENSITY-MEAN']\n",
      " ['RAWRED-MEAN']\n",
      " ['RAWBLUE-MEAN']\n",
      " ['RAWGREEN-MEAN']\n",
      " ['EXRED-MEAN']\n",
      " ['EXBLUE-MEAN']\n",
      " ['EXGREEN-MEAN']\n",
      " ['VALUE-MEAN']\n",
      " ['SATURATION-MEAN']\n",
      " ['HUE-MEAN']]\n"
     ]
    }
   ],
   "source": [
    "print(\"names Shape \",names.shape)\n",
    "print(\"names\\n\",names.values)\n"
   ]
  },
  {
   "cell_type": "code",
   "execution_count": 5,
   "metadata": {},
   "outputs": [
    {
     "data": {
      "text/html": [
       "<div>\n",
       "<style scoped>\n",
       "    .dataframe tbody tr th:only-of-type {\n",
       "        vertical-align: middle;\n",
       "    }\n",
       "\n",
       "    .dataframe tbody tr th {\n",
       "        vertical-align: top;\n",
       "    }\n",
       "\n",
       "    .dataframe thead th {\n",
       "        text-align: right;\n",
       "    }\n",
       "</style>\n",
       "<table border=\"1\" class=\"dataframe\">\n",
       "  <thead>\n",
       "    <tr style=\"text-align: right;\">\n",
       "      <th></th>\n",
       "      <th>110.0,189.0,9,0.0,0.0,1.0000004,0.66666675,1.2222223,1.1863422,12.925926,10.888889,9.222222,18.666668,-6.111111,-11.111111,17.222221,18.666668,0.50813884,1.9108642</th>\n",
       "    </tr>\n",
       "  </thead>\n",
       "  <tbody>\n",
       "    <tr>\n",
       "      <th>0</th>\n",
       "      <td>86.0,187.0,9,0.0,0.0,1.1111108,0.7200825,1.444...</td>\n",
       "    </tr>\n",
       "    <tr>\n",
       "      <th>1</th>\n",
       "      <td>225.0,244.0,9,0.0,0.0,3.3888886,2.1951127,2.99...</td>\n",
       "    </tr>\n",
       "    <tr>\n",
       "      <th>2</th>\n",
       "      <td>47.0,232.0,9,0.0,0.0,1.2777778,1.254621,1.0,0....</td>\n",
       "    </tr>\n",
       "    <tr>\n",
       "      <th>3</th>\n",
       "      <td>97.0,186.0,9,0.0,0.0,1.1666671,0.6912147,1.166...</td>\n",
       "    </tr>\n",
       "    <tr>\n",
       "      <th>4</th>\n",
       "      <td>157.0,221.0,9,0.0,0.0,1.0555555,0.6469299,1.22...</td>\n",
       "    </tr>\n",
       "    <tr>\n",
       "      <th>...</th>\n",
       "      <td>...</td>\n",
       "    </tr>\n",
       "    <tr>\n",
       "      <th>2094</th>\n",
       "      <td>32.0,158.0,9,0.0,0.0,0.9444445,0.8629626,0.833...</td>\n",
       "    </tr>\n",
       "    <tr>\n",
       "      <th>2095</th>\n",
       "      <td>8.0,162.0,9,0.11111111,0.0,1.611111,2.0629625,...</td>\n",
       "    </tr>\n",
       "    <tr>\n",
       "      <th>2096</th>\n",
       "      <td>128.0,161.0,9,0.0,0.0,0.55555534,0.25185192,0....</td>\n",
       "    </tr>\n",
       "    <tr>\n",
       "      <th>2097</th>\n",
       "      <td>150.0,158.0,9,0.0,0.0,2.166667,1.6333338,1.388...</td>\n",
       "    </tr>\n",
       "    <tr>\n",
       "      <th>2098</th>\n",
       "      <td>124.0,162.0,9,0.11111111,0.0,1.3888888,1.12962...</td>\n",
       "    </tr>\n",
       "  </tbody>\n",
       "</table>\n",
       "<p>2099 rows × 1 columns</p>\n",
       "</div>"
      ],
      "text/plain": [
       "     110.0,189.0,9,0.0,0.0,1.0000004,0.66666675,1.2222223,1.1863422,12.925926,10.888889,9.222222,18.666668,-6.111111,-11.111111,17.222221,18.666668,0.50813884,1.9108642\n",
       "0     86.0,187.0,9,0.0,0.0,1.1111108,0.7200825,1.444...                                                                                                                 \n",
       "1     225.0,244.0,9,0.0,0.0,3.3888886,2.1951127,2.99...                                                                                                                 \n",
       "2     47.0,232.0,9,0.0,0.0,1.2777778,1.254621,1.0,0....                                                                                                                 \n",
       "3     97.0,186.0,9,0.0,0.0,1.1666671,0.6912147,1.166...                                                                                                                 \n",
       "4     157.0,221.0,9,0.0,0.0,1.0555555,0.6469299,1.22...                                                                                                                 \n",
       "...                                                 ...                                                                                                                 \n",
       "2094  32.0,158.0,9,0.0,0.0,0.9444445,0.8629626,0.833...                                                                                                                 \n",
       "2095  8.0,162.0,9,0.11111111,0.0,1.611111,2.0629625,...                                                                                                                 \n",
       "2096  128.0,161.0,9,0.0,0.0,0.55555534,0.25185192,0....                                                                                                                 \n",
       "2097  150.0,158.0,9,0.0,0.0,2.166667,1.6333338,1.388...                                                                                                                 \n",
       "2098  124.0,162.0,9,0.11111111,0.0,1.3888888,1.12962...                                                                                                                 \n",
       "\n",
       "[2099 rows x 1 columns]"
      ]
     },
     "execution_count": 5,
     "metadata": {},
     "output_type": "execute_result"
    }
   ],
   "source": [
    "data"
   ]
  },
  {
   "cell_type": "code",
   "execution_count": null,
   "metadata": {},
   "outputs": [],
   "source": []
  }
 ],
 "metadata": {
  "kernelspec": {
   "display_name": "Python 3",
   "language": "python",
   "name": "python3"
  },
  "language_info": {
   "codemirror_mode": {
    "name": "ipython",
    "version": 3
   },
   "file_extension": ".py",
   "mimetype": "text/x-python",
   "name": "python",
   "nbconvert_exporter": "python",
   "pygments_lexer": "ipython3",
   "version": "3.8.3"
  }
 },
 "nbformat": 4,
 "nbformat_minor": 4
}
