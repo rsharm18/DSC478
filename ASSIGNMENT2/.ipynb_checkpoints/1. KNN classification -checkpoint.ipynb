{
 "cells": [
  {
   "cell_type": "code",
   "execution_count": 2,
   "metadata": {},
   "outputs": [],
   "source": [
    "import pandas as pd\n",
    "import numpy as np\n",
    "import matplotlib.pyplot as plt\n",
    "%matplotlib inline"
   ]
  },
  {
   "cell_type": "code",
   "execution_count": 3,
   "metadata": {},
   "outputs": [],
   "source": [
    "dataPath='input_files/newsgroups/'"
   ]
  },
  {
   "cell_type": "code",
   "execution_count": 4,
   "metadata": {},
   "outputs": [],
   "source": [
    "training_table = pd.read_table(dataPath+'trainMatrixModified.txt',delimiter='\\t',header=None)\n",
    "train_label_table = pd.read_table(dataPath+'trainClasses.txt',index_col=0,header=None)\n",
    "\n",
    "test_table = pd.read_table(dataPath+'testMatrixModified.txt',delimiter='\\t',header=None)\n",
    "test_label_table = pd.read_table(dataPath+'testClasses.txt', index_col=0,header=None)\n",
    "\n",
    "DF_training_table = np.array(training_table.T)\n",
    "DF_test_table = np.array(test_table.T)\n",
    "train_label = np.array(train_label_table).flatten()\n",
    "test_label = np.array(test_label_table).flatten()"
   ]
  },
  {
   "cell_type": "code",
   "execution_count": 5,
   "metadata": {},
   "outputs": [],
   "source": [
    "terms = pd.read_table(dataPath+'modifiedterms.txt', index_col=0,header=None)"
   ]
  },
  {
   "cell_type": "code",
   "execution_count": 38,
   "metadata": {},
   "outputs": [
    {
     "name": "stdout",
     "output_type": "stream",
     "text": [
      "training_table.shape =  (5500, 800)\n",
      "train_label_table.shape =  (800, 1)\n",
      "test_table.shape =  (5500, 200)\n",
      "test_label_table.shape =  (200, 1)\n",
      "terms.shape =  (5500, 0)\n",
      "[0. 0. 0. ... 0. 0. 0.]\n"
     ]
    }
   ],
   "source": [
    "print('training_table.shape = ',training_table.shape)\n",
    "print('train_label_table.shape = ',train_label_table.shape)\n",
    "\n",
    "print('test_table.shape = ',test_table.shape)\n",
    "print('test_label_table.shape = ',test_label_table.shape)\n",
    "\n",
    "print('terms.shape = ',terms.shape)\n",
    "\n",
    "print(DF_test_table[0])"
   ]
  },
  {
   "cell_type": "code",
   "execution_count": 7,
   "metadata": {},
   "outputs": [
    {
     "name": "stdout",
     "output_type": "stream",
     "text": [
      "terms\n",
      " Empty DataFrame\n",
      "Columns: []\n",
      "Index: [david, rex, wood, subject, call]\n",
      "\n",
      "train_label_table\n",
      "\n"
     ]
    },
    {
     "data": {
      "text/html": [
       "<div>\n",
       "<style scoped>\n",
       "    .dataframe tbody tr th:only-of-type {\n",
       "        vertical-align: middle;\n",
       "    }\n",
       "\n",
       "    .dataframe tbody tr th {\n",
       "        vertical-align: top;\n",
       "    }\n",
       "\n",
       "    .dataframe thead th {\n",
       "        text-align: right;\n",
       "    }\n",
       "</style>\n",
       "<table border=\"1\" class=\"dataframe\">\n",
       "  <thead>\n",
       "    <tr style=\"text-align: right;\">\n",
       "      <th></th>\n",
       "      <th>1</th>\n",
       "    </tr>\n",
       "    <tr>\n",
       "      <th>0</th>\n",
       "      <th></th>\n",
       "    </tr>\n",
       "  </thead>\n",
       "  <tbody>\n",
       "    <tr>\n",
       "      <th>0</th>\n",
       "      <td>0</td>\n",
       "    </tr>\n",
       "    <tr>\n",
       "      <th>1</th>\n",
       "      <td>1</td>\n",
       "    </tr>\n",
       "    <tr>\n",
       "      <th>2</th>\n",
       "      <td>0</td>\n",
       "    </tr>\n",
       "    <tr>\n",
       "      <th>3</th>\n",
       "      <td>1</td>\n",
       "    </tr>\n",
       "  </tbody>\n",
       "</table>\n",
       "</div>"
      ],
      "text/plain": [
       "   1\n",
       "0   \n",
       "0  0\n",
       "1  1\n",
       "2  0\n",
       "3  1"
      ]
     },
     "execution_count": 7,
     "metadata": {},
     "output_type": "execute_result"
    }
   ],
   "source": [
    "print('terms\\n',terms.head())\n",
    "print()\n",
    "print('train_label_table\\n')\n",
    "train_label_table[:4]"
   ]
  },
  {
   "cell_type": "code",
   "execution_count": 8,
   "metadata": {},
   "outputs": [
    {
     "data": {
      "text/plain": [
       "0    102\n",
       "1     11\n",
       "2     22\n",
       "3    959\n",
       "4    222\n",
       "dtype: int64"
      ]
     },
     "execution_count": 8,
     "metadata": {},
     "output_type": "execute_result"
    }
   ],
   "source": [
    "termFreqs = training_table.sum(axis=1).astype(np.int64)\n",
    "termFreqs.head()"
   ]
  },
  {
   "cell_type": "code",
   "execution_count": 9,
   "metadata": {},
   "outputs": [
    {
     "data": {
      "image/png": "[encoded data removed]",
      "text/plain": [
       "<Figure size 432x288 with 1 Axes>"
      ]
     },
     "metadata": {
      "needs_background": "light"
     },
     "output_type": "display_data"
    }
   ],
   "source": [
    "plt.plot(sorted(termFreqs, reverse=True))\n",
    "plt.xlabel('Frequency')\n",
    "plt.ylabel('Terms')\n",
    "plt.show()"
   ]
  },
  {
   "cell_type": "markdown",
   "metadata": {},
   "source": [
    "#### indicates most the word are non repetetive\n"
   ]
  },
  {
   "cell_type": "markdown",
   "metadata": {},
   "source": [
    "#### 1.a Create your own KNN classifier function. Your classifier should allow as input the training data matrix, the training labels, the instance to be classified, the value of K, and should return the predicted class for the instance and the indices of the top K neighbors. Your classifier should work with Euclidean distance as well as Cosine distance (which is 1 minus the Cosine similarity). You may create two separate classifiers, or add the distance metric as a parameter in the classifier function (an example implementation of a KNN classifier was provided in class examples)."
   ]
  },
  {
   "cell_type": "code",
   "execution_count": 205,
   "metadata": {},
   "outputs": [],
   "source": [
    "def calculateEuclideanDistance(x,D):\n",
    "    dist = np.sqrt((D -x)**2).sum(axis=1)\n",
    "    return dist\n",
    "\n",
    "\n",
    "def calculateCosineSimilarityDistance(x,D):\n",
    "    D_norm = np.array([np.linalg.norm(D[i]) for i in range(len(D))])\n",
    "    x_norm = np.linalg.norm(x)\n",
    "    sims = np.dot(D,x)/(D_norm * x_norm)\n",
    "    # The distance measure will be the inverse of Cosine similarity\n",
    "    dist = 1 - sims\n",
    "    return dist\n",
    "    "
   ]
  },
  {
   "cell_type": "code",
   "execution_count": 206,
   "metadata": {},
   "outputs": [],
   "source": [
    "def knn_search(x,D,K,measure):\n",
    "    if(measure==0):\n",
    "        distance = calculateEuclideanDistance(x,D)\n",
    "    else:\n",
    "        distance = calculateCosineSimilarityDistance(x,D)\n",
    "    \n",
    "    #sort the distances    \n",
    "    idx = np.argsort(distance)\n",
    "    neigh_distances = idx[:K]\n",
    "    return neigh_distances,distance"
   ]
  },
  {
   "cell_type": "code",
   "execution_count": 207,
   "metadata": {},
   "outputs": [],
   "source": [
    "def knn_classify(x,D,training_lable,K,measure):\n",
    "    neigh_distances,distance = knn_search(x,D,K,measure)\n",
    "    neigh_labels = training_lable[neigh_distances]\n",
    "    \n",
    "    # get the predicted class from the K neighbors\n",
    "    from collections import Counter\n",
    "    count = Counter(neigh_labels)\n",
    "    #print(count)\n",
    "    predicted_class = count.most_common(1)[0][0]\n",
    "    \n",
    "    #print(\"neigh_distances \", neigh_distances,\"K=\",K,\"\\nneigh_labels\\n\",neigh_labels)\n",
    "    return predicted_class,neigh_labels,neigh_distances"
   ]
  },
  {
   "cell_type": "code",
   "execution_count": 100,
   "metadata": {
    "scrolled": true
   },
   "outputs": [
    {
     "name": "stdout",
     "output_type": "stream",
     "text": [
      "********************** Using Euclidean distance **********************\n",
      "The Top \"5\" neighbors are [798 757 224  38 342]\n",
      "The predicted class = 0  (Windows)\n",
      "\n",
      "dist  [0.97 0.96 0.86 0.98 0.93 0.98 0.93 0.99 0.92 0.98 0.98 0.95 0.95 0.99 0.99 0.99 0.9  0.92 0.98 0.92 0.92 0.99 0.95\n",
      " 0.97 0.98 0.85 0.98 0.98 0.99 1.   0.98 0.94 0.97 0.92 0.98 0.95 0.97 0.95 0.96 0.88 0.98 0.96 0.97 0.8  0.98 0.97\n",
      " 0.96 0.94 0.97 0.96 0.98 0.99 0.99 0.97 0.94 0.97 1.   0.92 0.95 0.94 0.98 0.98 0.96 0.98 0.99 0.94 0.98 0.98 0.99\n",
      " 0.97 0.87 0.92 0.96 0.98 0.96 0.98 0.9  0.99 0.97 0.99 1.   0.95 0.79 0.99 0.93 0.98 0.88 0.91 0.99 0.99 0.98 0.96\n",
      " 0.99 0.94 0.92 0.98 0.98 0.99 0.84 0.94 0.99 0.96 0.9  0.99 0.94 0.95 0.94 0.93 0.98 0.93 0.98 0.94 0.93 0.96 0.9\n",
      " 0.94 0.96 0.98 0.98 0.96 0.81 0.96 0.89 0.88 0.89 0.93 0.98 0.71 0.96 0.99 0.99 0.92 0.92 0.84 0.97 0.99 0.91 0.97\n",
      " 0.97 0.94 0.99 0.96 0.96 0.96 0.98 0.97 1.   0.95 0.97 0.95 0.95 0.95 0.96 0.93 0.99 0.94 0.94 0.99 0.95 0.96 0.96\n",
      " 0.98 0.99 0.68 0.98 0.98 0.85 0.96 0.98 0.92 0.98 0.92 1.   0.97 0.97 0.9  0.99 0.93 0.89 0.91 0.85 0.95 0.92 0.95\n",
      " 0.95 0.98 0.97 0.95 0.97 0.96 0.96 0.94 0.97 0.97 0.97 0.98 0.98 0.94 0.81 0.79 0.92 0.97 0.96 0.96 0.95 0.81 0.97\n",
      " 0.93 0.99 0.94 0.9  0.81 0.98 0.96 0.94 0.97 0.99 0.91 0.98 0.96 0.99 0.98 0.89 0.98 0.92 0.99 0.96 0.94 0.96 0.98\n",
      " 0.94 0.98 0.95 0.95 0.98 0.98 0.94 0.94 0.96 0.89 0.98 0.9  0.99 0.88 0.99 0.97 0.98 0.98 1.   0.87 0.98 0.99 0.99\n",
      " 0.95 0.95 0.96 0.96 0.99 0.96 0.95 0.97 0.88 0.97 0.94 0.98 0.98 0.94 0.95 0.98 0.93 0.91 0.96 0.84 0.93 0.95 0.9\n",
      " 0.95 0.98 0.96 0.95 0.99 0.95 0.97 0.93 0.83 0.98 0.93 0.99 1.   0.96 0.99 0.96 0.95 0.93 0.97 0.98 0.86 0.95 0.95\n",
      " 0.96 0.97 0.97 0.96 0.88 0.98 0.98 0.97 0.96 0.98 0.99 0.93 0.91 0.98 0.99 0.93 0.94 0.97 0.97 0.94 0.99 0.96 0.96\n",
      " 0.98 0.99 0.97 0.87 0.95 0.86 0.98 0.82 0.97 0.93 0.93 0.96 0.93 0.87 0.97 0.89 0.97 0.9  0.92 0.86 0.97 0.98 0.98\n",
      " 0.9  0.98 0.92 0.98 0.94 0.93 0.99 0.94 0.99 0.99 0.89 0.98 0.94 0.96 0.96 0.94 0.85 0.99 0.97 0.95 0.86 0.95 0.9\n",
      " 0.99 0.96 0.94 0.91 0.97 0.9  0.98 0.98 0.94 0.98 0.94 0.94 0.89 0.94 0.66 0.95 0.94 0.87 0.94 0.95 0.93 0.9  0.99\n",
      " 0.96 0.91 0.96 0.87 0.9  0.92 0.94 0.97 0.93 0.98 0.96 0.88 0.96 0.95 0.98 0.96 0.98 0.94 0.97 0.95 0.99 0.95 0.99\n",
      " 0.99 0.91 0.96 0.87 0.95 0.95 0.87 0.89 0.97 0.97 0.98 0.97 0.95 0.94 0.97 0.93 0.91 0.91 0.98 0.94 0.93 0.95 0.78\n",
      " 0.96 0.84 0.91 0.96 0.98 0.97 0.95 0.95 0.93 0.95 0.79 0.97 0.94 0.98 0.99 0.99 0.9  0.98 0.98 0.98 0.94 0.77 1.\n",
      " 0.85 0.85 0.89 0.97 0.95 0.97 0.92 0.91 0.85 0.93 0.86 0.98 0.96 0.95 0.96 0.96 0.94 0.98 0.99 0.98 0.87 0.88 0.86\n",
      " 0.95 0.96 0.71 0.96 0.97 0.93 0.9  0.96 0.96 0.96 0.95 0.99 0.98 0.97 1.   0.89 0.9  0.95 0.94 0.93 0.95 0.99 0.93\n",
      " 0.81 0.88 0.94 0.96 0.95 0.8  0.97 0.85 0.99 0.98 0.99 0.98 0.84 0.9  0.98 0.86 0.96 0.84 0.9  0.99 0.95 0.98 0.99\n",
      " 0.96 0.97 0.99 0.97 0.99 0.97 0.91 0.98 0.96 0.97 0.98 0.87 0.97 0.98 0.98 0.93 0.97 0.96 0.99 0.98 0.96 0.7  0.92\n",
      " 0.98 0.81 0.79 0.87 0.98 0.98 0.97 0.98 0.94 0.91 0.94 0.94 0.98 0.94 0.98 0.8  0.96 0.98 0.96 0.98 0.99 0.96 0.98\n",
      " 0.92 0.96 0.96 0.99 0.95 0.96 0.99 0.96 0.95 0.99 0.94 0.98 0.69 0.95 0.99 0.99 0.98 0.97 0.94 0.93 0.8  0.97 0.93\n",
      " 0.82 0.97 0.97 0.97 0.97 0.94 0.87 0.98 0.96 0.93 0.81 0.96 0.78 0.92 0.95 0.84 0.97 0.92 0.95 0.89 0.97 0.82 0.97\n",
      " 0.97 1.   0.9  0.93 0.95 0.87 0.95 0.95 0.96 0.96 0.9  0.95 0.86 0.97 0.98 0.98 0.96 0.94 0.99 0.9  0.96 0.84 0.95\n",
      " 0.9  0.88 0.96 0.93 0.95 0.98 0.95 0.72 0.99 0.98 0.86 0.97 0.88 0.93 0.98 0.99 0.94 0.83 0.99 0.84 0.99 0.95 0.97\n",
      " 0.87 0.95 0.96 0.86 0.9  0.97 0.91 0.91 0.95 0.99 0.94 0.92 0.97 0.99 0.96 0.96 0.98 0.97 0.93 0.8  0.97 0.91 0.97\n",
      " 0.9  0.9  0.95 0.9  0.96 0.96 0.97 0.96 0.89 0.95 0.94 0.95 0.92 0.96 0.93 0.99 0.97 0.98 0.95 0.87 0.9  0.96 0.9\n",
      " 0.92 0.99 0.92 0.91 1.   0.99 0.98 0.95 0.96 0.92 0.95 0.97 0.87 0.91 0.95 0.9  0.86 0.97 0.96 0.98 0.93 0.98 0.98\n",
      " 0.91 0.96 0.99 0.95 0.98 0.82 0.98 0.98 0.99 0.98 0.9  0.96 0.91 0.97 0.94 0.97 0.99 0.84 0.99 0.94 0.97 0.95 0.92\n",
      " 0.84 0.95 0.92 0.94 0.94 0.9  0.95 0.95 0.76 0.97 0.97 0.99 0.95 0.99 0.95 0.99 0.67 0.99 0.96 0.83 0.78 0.99 0.97\n",
      " 0.94 0.99 0.92 0.98 0.99 0.97 0.99 0.96 0.93 0.96 1.   0.97 0.94 0.78 0.96 0.96 0.93 0.98]\n",
      "********************** Using Cosine distance **********************\n",
      "The Top \"5\" neighbors are [382 775 163 587 550]\n",
      "The predicted class = 0  (Windows)\n",
      "\n",
      "Wall time: 107 ms\n"
     ]
    }
   ],
   "source": [
    "%%time\n",
    "K=5\n",
    "predicted_class,neigh_labels,distance = knn_classify(DF_test_table[1],DF_training_table,train_label,K,0)\n",
    "print(\"********************** Using Euclidean distance **********************\")\n",
    "print(\"The Top \\\"{}\\\" neighbors are {}\\nThe predicted class = {}  ({})\".format(K,distance,predicted_class,('Windows' if (predicted_class == 0) else 'Hockey')))\n",
    "print()\n",
    "predicted_class,neigh_labels,distance = knn_classify(DF_test_table[1],DF_training_table,train_label,K,1)\n",
    "print(\"********************** Using Cosine distance **********************\")\n",
    "print(\"The Top \\\"{}\\\" neighbors are {}\\nThe predicted class = {}  ({})\".format(K,distance,predicted_class,('Windows' if (predicted_class == 0) else 'Hockey')))\n",
    "print()\n",
    "\n",
    "#test_table[10]"
   ]
  },
  {
   "cell_type": "markdown",
   "metadata": {},
   "source": [
    "#### 1.b Create an evaluation function to measure the accuracy of your classifier. This function will call the classifier function in part a on all the test instances and in each case compares the actual test class label to the predicted class label. It should take as input the training data, the training labels, the test instances, the labels for test instances, and the value of K. Your evaluation function should return the Classification Accuracy (ratio of correct predictions to the number of test instances)"
   ]
  },
  {
   "cell_type": "code",
   "execution_count": 14,
   "metadata": {},
   "outputs": [],
   "source": [
    "def knn_evaluate(DT_test, test_labels, DT_train, train_labels, K, measure):\n",
    "    success =  0\n",
    "    for i in range(len(DT_test)):\n",
    "        predicted_class,neigh_labels,distance = knn_classify(DT_test[i], DT_train, train_labels, K, measure)\n",
    "        if(predicted_class == test_labels[i]):\n",
    "            success +=1\n",
    "        \n",
    "    accurary = (success/len(DT_test)) * 100\n",
    "    return len(DT_test),success,accurary"
   ]
  },
  {
   "cell_type": "code",
   "execution_count": 15,
   "metadata": {},
   "outputs": [
    {
     "name": "stdout",
     "output_type": "stream",
     "text": [
      "Total Test Data count =  200 \n",
      "# of successes =  131 \n",
      "# of Nearest Neighors (K) =  5 \n",
      "Measured accuracy with Euclidean distance for  5  nearest neighbors =  65.5  % \n",
      "\n",
      "\n",
      "Total Test Data count =  200 \n",
      "# of successes =  194 \n",
      "# of Nearest Neighors (K) =  5 \n",
      "Measured accuracy with Cosine distance for  5  nearest neighbors =  97.0  % \n",
      "\n",
      "\n",
      "Wall time: 15.7 s\n"
     ]
    }
   ],
   "source": [
    "%%time\n",
    "K=5\n",
    "measure=0\n",
    "total_data_count,success_count,measured_accuracy = knn_evaluate(DF_test_table,test_label,DF_training_table,train_label,K,measure)\n",
    "print('Total Test Data count = ',total_data_count,'\\n# of successes = ',success_count,'\\n# of Nearest Neighors (K) = ',K,'\\nMeasured accuracy with Euclidean distance for ',K,' nearest neighbors = ',measured_accuracy,\" % \")\n",
    "\n",
    "print(\"\\n\")\n",
    "\n",
    "measure=1\n",
    "total_data_count,success_count,measured_accuracy = knn_evaluate(DF_test_table,test_label,DF_training_table,train_label,K,measure)\n",
    "print('Total Test Data count = ',total_data_count,'\\n# of successes = ',success_count,'\\n# of Nearest Neighors (K) = ',K,'\\nMeasured accuracy with Cosine distance for ',K,' nearest neighbors = ',measured_accuracy,\" % \")\n",
    "\n",
    "print(\"\\n\")"
   ]
  },
  {
   "cell_type": "markdown",
   "metadata": {},
   "source": [
    "#### 1.c Run your evaluation function on a range of values for K from 5 to 100 (in increments of 5) in order to compare accuracy values for different numbers of neighbors. Do this both using Euclidean Distance as well as Cosine similarity measure. Present the results as graphs with K in the x-axis and the evaluation metric (accuracy) on the y-axis. Use a single plot to compare the two version of the classifier (Eculidean distance version vs. cosine similarity version)."
   ]
  },
  {
   "cell_type": "code",
   "execution_count": 16,
   "metadata": {},
   "outputs": [],
   "source": [
    "euclid_accuracy = []\n",
    "cosine_accuracy = []"
   ]
  },
  {
   "cell_type": "code",
   "execution_count": 18,
   "metadata": {},
   "outputs": [
    {
     "name": "stdout",
     "output_type": "stream",
     "text": [
      "Wall time: 4min 17s\n"
     ]
    }
   ],
   "source": [
    "%%time\n",
    "for K in range(5,100,5):\n",
    "    total_data_count,success_count,measured_accuracy = knn_evaluate(DF_test_table,test_label,DF_training_table,train_label,K,0)\n",
    "    euclid_accuracy.append(measured_accuracy)"
   ]
  },
  {
   "cell_type": "code",
   "execution_count": 66,
   "metadata": {},
   "outputs": [
    {
     "name": "stdout",
     "output_type": "stream",
     "text": [
      "Wall time: 36.4 s\n"
     ]
    }
   ],
   "source": [
    "%%time\n",
    "for K in range(5,100,5):\n",
    "    total_data_count,success_count,measured_accuracy = knn_evaluate(DF_test_table,test_label,DF_training_table,train_label,K,1)\n",
    "    cosine_accuracy.append(measured_accuracy)"
   ]
  },
  {
   "cell_type": "code",
   "execution_count": 62,
   "metadata": {},
   "outputs": [
    {
     "name": "stdout",
     "output_type": "stream",
     "text": [
      " euclid_accuracy  [65.5, 69.0, 61.5, 65.0, 56.49999999999999, 55.50000000000001, 54.50000000000001, 55.00000000000001, 52.5, 53.0, 52.5, 53.0, 52.0, 54.0, 52.5, 53.0, 54.0, 53.5, 53.5]\n",
      " cosine_accuracy  [97.0, 98.5, 98.5, 97.5, 97.0, 98.0, 98.0, 98.0, 97.5, 98.0, 97.5, 98.0, 97.5, 97.5, 97.5, 97.5, 97.5, 97.5, 97.5]\n"
     ]
    }
   ],
   "source": [
    "print(\" euclid_accuracy \",euclid_accuracy)\n",
    "print(\" cosine_accuracy \",cosine_accuracy)"
   ]
  },
  {
   "cell_type": "code",
   "execution_count": 33,
   "metadata": {},
   "outputs": [
    {
     "data": {
      "image/png": "[encoded data removed]",
      "text/plain": [
       "<Figure size 432x288 with 1 Axes>"
      ]
     },
     "metadata": {
      "needs_background": "light"
     },
     "output_type": "display_data"
    }
   ],
   "source": [
    "K_values= range(5,100,5)\n",
    "\n",
    "plt.plot(K_values,euclid_accuracy,label = \"Euclidean Distance\")\n",
    "plt.plot(K_values,cosine_accuracy,label = \"Cosine Distance\")\n",
    "plt.xlabel('# of Neighbors (K)')\n",
    "plt.ylabel('Accuracy %')\n",
    "plt.title('KNN Classifier Accuracy')\n",
    "plt.legend(loc=7)\n",
    "plt.show()"
   ]
  },
  {
   "cell_type": "markdown",
   "metadata": {},
   "source": [
    "#### 1.d Next, modify the training and test data sets so that term weights are converted to TFxIDF weights (instead of raw term frequencies). [See class notes on Text Categorization]. Then, rerun your evaluation (only for the Cosine similairty version of the classifier) on the range of K values (as above) and compare the results to the results without using TFxIDF weights."
   ]
  },
  {
   "cell_type": "code",
   "execution_count": 34,
   "metadata": {},
   "outputs": [
    {
     "name": "stdout",
     "output_type": "stream",
     "text": [
      "training_table shape  (5500, 800)  training_table shape  (5500, 200)\n"
     ]
    }
   ],
   "source": [
    "print(\"training_table shape \",training_table.shape, \" training_table shape \",test_table.shape)\n"
   ]
  },
  {
   "cell_type": "code",
   "execution_count": 43,
   "metadata": {},
   "outputs": [
    {
     "name": "stdout",
     "output_type": "stream",
     "text": [
      " train_DF[0]  [50]  test_DF[0]  [15] \n",
      " # of Train Docs  800 \n",
      " # of terms  5500\n"
     ]
    }
   ],
   "source": [
    "# Find document frequencies \n",
    "train_DF = np.array([(training_table !=0).sum(1)]).T\n",
    "test_DF = np.array([(test_table !=0).sum(1)]).T\n",
    "\n",
    "NDocs = DF_training_table.shape[0]\n",
    "NTerms = DF_training_table.shape[1]\n",
    "print(\" train_DF[0] \",train_DF[0], \" test_DF[0] \",test_DF[0], \"\\n # of Train Docs \",NDocs,\"\\n # of terms \",NTerms)\n"
   ]
  },
  {
   "cell_type": "code",
   "execution_count": 47,
   "metadata": {},
   "outputs": [
    {
     "name": "stdout",
     "output_type": "stream",
     "text": [
      "np.shape(training_table )=  (5500, 800) \n",
      "train_DF[:3] : \n",
      " [[50]\n",
      " [ 7]\n",
      " [10]]\n",
      "\n",
      "[[800. 800. 800. ... 800. 800. 800.]\n",
      " [800. 800. 800. ... 800. 800. 800.]\n",
      " [800. 800. 800. ... 800. 800. 800.]\n",
      " ...\n",
      " [800. 800. 800. ... 800. 800. 800.]\n",
      " [800. 800. 800. ... 800. 800. 800.]\n",
      " [800. 800. 800. ... 800. 800. 800.]]\n",
      "\n"
     ]
    }
   ],
   "source": [
    "\n",
    "# Create a matrix with all entries and multiple by NDocs\n",
    "NMatrix = np.ones(np.shape(training_table), dtype=float) * NDocs\n",
    "np.set_printoptions(precision=2,suppress=True,linewidth=120)\n",
    "print(\"np.shape(training_table )= \",np.shape(training_table ),\"\\ntrain_DF[:3] : \\n\",train_DF[:3])\n",
    "print()\n",
    "print(NMatrix)\n",
    "\n",
    "print()\n"
   ]
  },
  {
   "cell_type": "code",
   "execution_count": 55,
   "metadata": {},
   "outputs": [
    {
     "data": {
      "text/plain": [
       "(5500, 800)"
      ]
     },
     "execution_count": 55,
     "metadata": {},
     "output_type": "execute_result"
    }
   ],
   "source": [
    "# Convert each entry into IDF values\n",
    "# IDF is the log of the inverse of document frequency\n",
    "# Note that IDF is only a function of the term, so all columns will be identical.\n",
    "IDF = np.log2(np.divide(NMatrix,train_DF))\n",
    "IDF.shape"
   ]
  },
  {
   "cell_type": "code",
   "execution_count": 50,
   "metadata": {},
   "outputs": [
    {
     "data": {
      "text/html": [
       "<div>\n",
       "<style scoped>\n",
       "    .dataframe tbody tr th:only-of-type {\n",
       "        vertical-align: middle;\n",
       "    }\n",
       "\n",
       "    .dataframe tbody tr th {\n",
       "        vertical-align: top;\n",
       "    }\n",
       "\n",
       "    .dataframe thead th {\n",
       "        text-align: right;\n",
       "    }\n",
       "</style>\n",
       "<table border=\"1\" class=\"dataframe\">\n",
       "  <thead>\n",
       "    <tr style=\"text-align: right;\">\n",
       "      <th></th>\n",
       "      <th>0</th>\n",
       "      <th>1</th>\n",
       "      <th>2</th>\n",
       "      <th>3</th>\n",
       "      <th>4</th>\n",
       "      <th>5</th>\n",
       "      <th>6</th>\n",
       "      <th>7</th>\n",
       "      <th>8</th>\n",
       "      <th>9</th>\n",
       "      <th>...</th>\n",
       "      <th>790</th>\n",
       "      <th>791</th>\n",
       "      <th>792</th>\n",
       "      <th>793</th>\n",
       "      <th>794</th>\n",
       "      <th>795</th>\n",
       "      <th>796</th>\n",
       "      <th>797</th>\n",
       "      <th>798</th>\n",
       "      <th>799</th>\n",
       "    </tr>\n",
       "  </thead>\n",
       "  <tbody>\n",
       "    <tr>\n",
       "      <th>0</th>\n",
       "      <td>8.00</td>\n",
       "      <td>0.00</td>\n",
       "      <td>0.0</td>\n",
       "      <td>8.0</td>\n",
       "      <td>8.0</td>\n",
       "      <td>0.0</td>\n",
       "      <td>0.0</td>\n",
       "      <td>0.0</td>\n",
       "      <td>0.0</td>\n",
       "      <td>0.0</td>\n",
       "      <td>...</td>\n",
       "      <td>0.0</td>\n",
       "      <td>0.0</td>\n",
       "      <td>0.00</td>\n",
       "      <td>0.0</td>\n",
       "      <td>0.0</td>\n",
       "      <td>0.0</td>\n",
       "      <td>0.0</td>\n",
       "      <td>0.0</td>\n",
       "      <td>0.0</td>\n",
       "      <td>0.00</td>\n",
       "    </tr>\n",
       "    <tr>\n",
       "      <th>1</th>\n",
       "      <td>13.67</td>\n",
       "      <td>0.00</td>\n",
       "      <td>0.0</td>\n",
       "      <td>0.0</td>\n",
       "      <td>0.0</td>\n",
       "      <td>0.0</td>\n",
       "      <td>0.0</td>\n",
       "      <td>0.0</td>\n",
       "      <td>0.0</td>\n",
       "      <td>0.0</td>\n",
       "      <td>...</td>\n",
       "      <td>0.0</td>\n",
       "      <td>0.0</td>\n",
       "      <td>20.51</td>\n",
       "      <td>0.0</td>\n",
       "      <td>0.0</td>\n",
       "      <td>0.0</td>\n",
       "      <td>0.0</td>\n",
       "      <td>0.0</td>\n",
       "      <td>0.0</td>\n",
       "      <td>0.00</td>\n",
       "    </tr>\n",
       "    <tr>\n",
       "      <th>2</th>\n",
       "      <td>12.64</td>\n",
       "      <td>0.00</td>\n",
       "      <td>0.0</td>\n",
       "      <td>0.0</td>\n",
       "      <td>0.0</td>\n",
       "      <td>0.0</td>\n",
       "      <td>0.0</td>\n",
       "      <td>0.0</td>\n",
       "      <td>0.0</td>\n",
       "      <td>0.0</td>\n",
       "      <td>...</td>\n",
       "      <td>0.0</td>\n",
       "      <td>0.0</td>\n",
       "      <td>0.00</td>\n",
       "      <td>0.0</td>\n",
       "      <td>0.0</td>\n",
       "      <td>0.0</td>\n",
       "      <td>0.0</td>\n",
       "      <td>0.0</td>\n",
       "      <td>0.0</td>\n",
       "      <td>0.00</td>\n",
       "    </tr>\n",
       "    <tr>\n",
       "      <th>3</th>\n",
       "      <td>0.00</td>\n",
       "      <td>0.00</td>\n",
       "      <td>0.0</td>\n",
       "      <td>0.0</td>\n",
       "      <td>0.0</td>\n",
       "      <td>0.0</td>\n",
       "      <td>0.0</td>\n",
       "      <td>0.0</td>\n",
       "      <td>0.0</td>\n",
       "      <td>0.0</td>\n",
       "      <td>...</td>\n",
       "      <td>0.0</td>\n",
       "      <td>0.0</td>\n",
       "      <td>0.00</td>\n",
       "      <td>0.0</td>\n",
       "      <td>0.0</td>\n",
       "      <td>0.0</td>\n",
       "      <td>0.0</td>\n",
       "      <td>0.0</td>\n",
       "      <td>0.0</td>\n",
       "      <td>0.00</td>\n",
       "    </tr>\n",
       "    <tr>\n",
       "      <th>4</th>\n",
       "      <td>23.11</td>\n",
       "      <td>2.89</td>\n",
       "      <td>0.0</td>\n",
       "      <td>0.0</td>\n",
       "      <td>0.0</td>\n",
       "      <td>0.0</td>\n",
       "      <td>0.0</td>\n",
       "      <td>0.0</td>\n",
       "      <td>0.0</td>\n",
       "      <td>0.0</td>\n",
       "      <td>...</td>\n",
       "      <td>0.0</td>\n",
       "      <td>0.0</td>\n",
       "      <td>5.78</td>\n",
       "      <td>0.0</td>\n",
       "      <td>0.0</td>\n",
       "      <td>0.0</td>\n",
       "      <td>0.0</td>\n",
       "      <td>0.0</td>\n",
       "      <td>0.0</td>\n",
       "      <td>2.89</td>\n",
       "    </tr>\n",
       "  </tbody>\n",
       "</table>\n",
       "<p>5 rows × 800 columns</p>\n",
       "</div>"
      ],
      "text/plain": [
       "     0     1    2    3    4    5    6    7    8    9    ...   790  791    792  \\\n",
       "0   8.00  0.00  0.0  8.0  8.0  0.0  0.0  0.0  0.0  0.0  ...   0.0  0.0   0.00   \n",
       "1  13.67  0.00  0.0  0.0  0.0  0.0  0.0  0.0  0.0  0.0  ...   0.0  0.0  20.51   \n",
       "2  12.64  0.00  0.0  0.0  0.0  0.0  0.0  0.0  0.0  0.0  ...   0.0  0.0   0.00   \n",
       "3   0.00  0.00  0.0  0.0  0.0  0.0  0.0  0.0  0.0  0.0  ...   0.0  0.0   0.00   \n",
       "4  23.11  2.89  0.0  0.0  0.0  0.0  0.0  0.0  0.0  0.0  ...   0.0  0.0   5.78   \n",
       "\n",
       "   793  794  795  796  797  798   799  \n",
       "0  0.0  0.0  0.0  0.0  0.0  0.0  0.00  \n",
       "1  0.0  0.0  0.0  0.0  0.0  0.0  0.00  \n",
       "2  0.0  0.0  0.0  0.0  0.0  0.0  0.00  \n",
       "3  0.0  0.0  0.0  0.0  0.0  0.0  0.00  \n",
       "4  0.0  0.0  0.0  0.0  0.0  0.0  2.89  \n",
       "\n",
       "[5 rows x 800 columns]"
      ]
     },
     "execution_count": 50,
     "metadata": {},
     "output_type": "execute_result"
    }
   ],
   "source": [
    "# Finally compute the TFxIDF values for each document-term entry\n",
    "TD_tfidf = training_table * IDF\n",
    "pd.set_option(\"display.precision\", 2)\n",
    "\n",
    "TD_tfidf.head()"
   ]
  },
  {
   "cell_type": "code",
   "execution_count": 52,
   "metadata": {},
   "outputs": [
    {
     "data": {
      "text/plain": [
       "array([[ 8.  , 13.67, 12.64, ...,  0.  ,  0.  ,  0.  ],\n",
       "       [ 0.  ,  0.  ,  0.  , ...,  0.  ,  0.  ,  0.  ],\n",
       "       [ 0.  ,  0.  ,  0.  , ...,  0.  ,  0.  ,  0.  ]])"
      ]
     },
     "execution_count": 52,
     "metadata": {},
     "output_type": "execute_result"
    }
   ],
   "source": [
    "# The KNN Search function expects a document x term materix as an np array, so we need to transpose the TF_tfidf matrix\n",
    "DT_tfidf = TD_tfidf.T\n",
    "DT_array = np.array(DT_tfidf)\n",
    "DT_array[:3]"
   ]
  },
  {
   "cell_type": "code",
   "execution_count": 57,
   "metadata": {},
   "outputs": [
    {
     "name": "stdout",
     "output_type": "stream",
     "text": [
      "   0    1    2    3    4    5    6    7    8    9   ...   190  191  192  193  \\\n",
      "0  0.0  0.0  4.0  0.0  0.0  0.0  0.0  0.0  0.0  0.0 ...   0.0  0.0  0.0  0.0   \n",
      "1  0.0  0.0  0.0  0.0  0.0  0.0  0.0  0.0  0.0  0.0 ...   0.0  0.0  0.0  0.0   \n",
      "2  0.0  0.0  0.0  0.0  0.0  0.0  0.0  0.0  0.0  0.0 ...   0.0  0.0  0.0  0.0   \n",
      "\n",
      "   194  195  196  197  198  199  \n",
      "0  0.0  0.0  0.0  0.0  0.0  0.0  \n",
      "1  0.0  0.0  0.0  0.0  0.0  0.0  \n",
      "2  0.0  0.0  0.0  0.0  0.0  0.0  \n",
      "\n",
      "[3 rows x 200 columns]\n"
     ]
    },
    {
     "data": {
      "text/plain": [
       "array([[0., 0., 0., ..., 0., 0., 0.],\n",
       "       [0., 0., 0., ..., 0., 0., 0.],\n",
       "       [4., 0., 0., ..., 0., 0., 0.]])"
      ]
     },
     "execution_count": 57,
     "metadata": {},
     "output_type": "execute_result"
    }
   ],
   "source": [
    "# Compute the TF x iDF values for each document term\n",
    "test_TD_tfidf = test_table  * IDF[:,:200]\n",
    "pd.set_option(\"display.precision\", 2)\n",
    "print(test_TD_tfidf.head(3))\n",
    "\n",
    "# The KNN Search function expects a document x term materix as an np array, so we need to transpose the TF_tfidf matrix\n",
    "test_DT_tfidf = test_TD_tfidf.T\n",
    "test_DT_array = np.array(test_DT_tfidf)\n",
    "test_DT_array[:3]\n"
   ]
  },
  {
   "cell_type": "code",
   "execution_count": 64,
   "metadata": {},
   "outputs": [
    {
     "name": "stdout",
     "output_type": "stream",
     "text": [
      "Wall time: 3min 43s\n"
     ]
    }
   ],
   "source": [
    "%%time\n",
    "cosine_accuracy_DT =[]\n",
    "for K in range(5,100,5):\n",
    "    total_data_count,success_count,measured_accuracy = knn_evaluate(test_DT_array,test_label,DT_array,train_label,K,1)\n",
    "    cosine_accuracy_DT.append(measured_accuracy)"
   ]
  },
  {
   "cell_type": "code",
   "execution_count": 67,
   "metadata": {},
   "outputs": [
    {
     "data": {
      "image/png": "[encoded data removed]",
      "text/plain": [
       "<Figure size 432x288 with 1 Axes>"
      ]
     },
     "metadata": {
      "needs_background": "light"
     },
     "output_type": "display_data"
    }
   ],
   "source": [
    "\n",
    "plt.plot(K_values,cosine_accuracy_DT,label = \"Cosine with TFxIDF\")\n",
    "plt.plot(K_values,cosine_accuracy,label = \"Cosine without TFxIDF\")\n",
    "plt.xlabel('# of Neighbors')\n",
    "plt.ylabel('Accuracy')\n",
    "plt.title('Cosine similarity with TFxIDF version vs. Cosine similarity without TFxIDF  version')\n",
    "plt.legend(loc=7)\n",
    "plt.show()"
   ]
  },
  {
   "cell_type": "markdown",
   "metadata": {},
   "source": [
    "#### 1.e Create a new classifier based on the Rocchio Method adapted for text categorization [See class notes on Text Categorization]. You should separate the training function from the classifiation function. The training part for the classifier can be implemented as a function that takes as input the training data matrix and the training labels, returning the prototype vectors for each class. The classification part can be implemented as another function that would take as input the prototypes returned from the training function and the instance to be classified. This function should measure Cosine similarity of the test instance to each prototype vector. Your output should indicate the predicted class for the test instance and the similarity values of the instance to each of the category prototypes.  Finally, use your evaluation function to compare your results to the best KNN results you obtained in part d. [Note: your functions should work regardless of the number of categories (class labels) and should not be limited to two-class categorization scenario.]"
   ]
  },
  {
   "cell_type": "code",
   "execution_count": 290,
   "metadata": {},
   "outputs": [],
   "source": [
    "def Rocchio_Train(D,L):\n",
    "    D['class']=L\n",
    "    return D.groupby('class').sum(axis=0)"
   ]
  },
  {
   "cell_type": "code",
   "execution_count": 291,
   "metadata": {},
   "outputs": [
    {
     "name": "stdout",
     "output_type": "stream",
     "text": [
      "(800, 5500)\n",
      "(800,)\n"
     ]
    }
   ],
   "source": [
    "DF_training_table = training_table.T\n",
    "print(DF_training_table.shape)\n",
    "print(train_label.shape)"
   ]
  },
  {
   "cell_type": "code",
   "execution_count": 292,
   "metadata": {},
   "outputs": [
    {
     "name": "stdout",
     "output_type": "stream",
     "text": [
      "Wall time: 11.3 s\n"
     ]
    }
   ],
   "source": [
    "%%time\n",
    "prototypes = Rocchio_Train(DF_training_table,train_label)"
   ]
  },
  {
   "cell_type": "code",
   "execution_count": 293,
   "metadata": {},
   "outputs": [
    {
     "data": {
      "text/html": [
       "<div>\n",
       "<style scoped>\n",
       "    .dataframe tbody tr th:only-of-type {\n",
       "        vertical-align: middle;\n",
       "    }\n",
       "\n",
       "    .dataframe tbody tr th {\n",
       "        vertical-align: top;\n",
       "    }\n",
       "\n",
       "    .dataframe thead th {\n",
       "        text-align: right;\n",
       "    }\n",
       "</style>\n",
       "<table border=\"1\" class=\"dataframe\">\n",
       "  <thead>\n",
       "    <tr style=\"text-align: right;\">\n",
       "      <th></th>\n",
       "      <th>0</th>\n",
       "      <th>1</th>\n",
       "      <th>2</th>\n",
       "      <th>3</th>\n",
       "      <th>4</th>\n",
       "      <th>5</th>\n",
       "      <th>6</th>\n",
       "      <th>7</th>\n",
       "      <th>8</th>\n",
       "      <th>9</th>\n",
       "      <th>...</th>\n",
       "      <th>5490</th>\n",
       "      <th>5491</th>\n",
       "      <th>5492</th>\n",
       "      <th>5493</th>\n",
       "      <th>5494</th>\n",
       "      <th>5495</th>\n",
       "      <th>5496</th>\n",
       "      <th>5497</th>\n",
       "      <th>5498</th>\n",
       "      <th>5499</th>\n",
       "    </tr>\n",
       "    <tr>\n",
       "      <th>class</th>\n",
       "      <th></th>\n",
       "      <th></th>\n",
       "      <th></th>\n",
       "      <th></th>\n",
       "      <th></th>\n",
       "      <th></th>\n",
       "      <th></th>\n",
       "      <th></th>\n",
       "      <th></th>\n",
       "      <th></th>\n",
       "      <th></th>\n",
       "      <th></th>\n",
       "      <th></th>\n",
       "      <th></th>\n",
       "      <th></th>\n",
       "      <th></th>\n",
       "      <th></th>\n",
       "      <th></th>\n",
       "      <th></th>\n",
       "      <th></th>\n",
       "      <th></th>\n",
       "    </tr>\n",
       "  </thead>\n",
       "  <tbody>\n",
       "    <tr>\n",
       "      <th>0</th>\n",
       "      <td>57.0</td>\n",
       "      <td>4.0</td>\n",
       "      <td>5.0</td>\n",
       "      <td>541.0</td>\n",
       "      <td>157.0</td>\n",
       "      <td>84.0</td>\n",
       "      <td>99.0</td>\n",
       "      <td>262.0</td>\n",
       "      <td>54.0</td>\n",
       "      <td>126.0</td>\n",
       "      <td>...</td>\n",
       "      <td>0.0</td>\n",
       "      <td>0.0</td>\n",
       "      <td>1.0</td>\n",
       "      <td>2.0</td>\n",
       "      <td>3.0</td>\n",
       "      <td>2.0</td>\n",
       "      <td>3.0</td>\n",
       "      <td>1.0</td>\n",
       "      <td>2.0</td>\n",
       "      <td>2.0</td>\n",
       "    </tr>\n",
       "    <tr>\n",
       "      <th>1</th>\n",
       "      <td>45.0</td>\n",
       "      <td>7.0</td>\n",
       "      <td>17.0</td>\n",
       "      <td>418.0</td>\n",
       "      <td>65.0</td>\n",
       "      <td>0.0</td>\n",
       "      <td>9.0</td>\n",
       "      <td>0.0</td>\n",
       "      <td>1.0</td>\n",
       "      <td>192.0</td>\n",
       "      <td>...</td>\n",
       "      <td>3.0</td>\n",
       "      <td>2.0</td>\n",
       "      <td>0.0</td>\n",
       "      <td>0.0</td>\n",
       "      <td>0.0</td>\n",
       "      <td>1.0</td>\n",
       "      <td>0.0</td>\n",
       "      <td>1.0</td>\n",
       "      <td>0.0</td>\n",
       "      <td>0.0</td>\n",
       "    </tr>\n",
       "  </tbody>\n",
       "</table>\n",
       "<p>2 rows × 5500 columns</p>\n",
       "</div>"
      ],
      "text/plain": [
       "       0     1     2      3      4     5     6      7     8      9     ...   \\\n",
       "class                                                                  ...    \n",
       "0      57.0   4.0   5.0  541.0  157.0  84.0  99.0  262.0  54.0  126.0  ...    \n",
       "1      45.0   7.0  17.0  418.0   65.0   0.0   9.0    0.0   1.0  192.0  ...    \n",
       "\n",
       "       5490  5491  5492  5493  5494  5495  5496  5497  5498  5499  \n",
       "class                                                              \n",
       "0       0.0   0.0   1.0   2.0   3.0   2.0   3.0   1.0   2.0   2.0  \n",
       "1       3.0   2.0   0.0   0.0   0.0   1.0   0.0   1.0   0.0   0.0  \n",
       "\n",
       "[2 rows x 5500 columns]"
      ]
     },
     "execution_count": 293,
     "metadata": {},
     "output_type": "execute_result"
    }
   ],
   "source": [
    "prototypes"
   ]
  },
  {
   "cell_type": "code",
   "execution_count": 294,
   "metadata": {},
   "outputs": [
    {
     "name": "stdout",
     "output_type": "stream",
     "text": [
      "(800, 5501)\n"
     ]
    }
   ],
   "source": [
    "print(DF_training_table.shape)"
   ]
  },
  {
   "cell_type": "code",
   "execution_count": 295,
   "metadata": {},
   "outputs": [],
   "source": [
    "def Rocchio_classifier(prototypes, instance):\n",
    "    distance = calculateCosineSimilarityDistance(instance,prototypes)\n",
    "    max_dic = {}\n",
    "    max = -2\n",
    "    total_distance = 0\n",
    "    for i in range(len(distance)):\n",
    "        total_distance +=distance[i]\n",
    "        if(max < distance[i]):\n",
    "            max=distance[i]\n",
    "            max_dic[max]=i\n",
    "            \n",
    "    return total_distance,max,max_dic[max]\n",
    "        \n",
    "    "
   ]
  },
  {
   "cell_type": "code",
   "execution_count": 296,
   "metadata": {},
   "outputs": [
    {
     "name": "stdout",
     "output_type": "stream",
     "text": [
      " total distance = 1.7301256679301846 \n",
      " max Distance= 0.9425840006494295 \n",
      " Predicted class 1 (Hockey)\n",
      "\n",
      "Wall time: 967 µs\n"
     ]
    }
   ],
   "source": [
    "%%time\n",
    "\n",
    "# DF_training_table = training_table.T\n",
    "# DF_training_table = np.array(DF_training_table)\n",
    "\n",
    "prototypes_arr = np.array(prototypes)\n",
    "total_distance,max_distance,predicted_class = Rocchio_classifier(prototypes_arr,DT_array[0])\n",
    "print(\" total distance = {} \\n max Distance= {} \\n Predicted class {} ({})\".format(total_distance, max_distance,predicted_class, ('Windows' if (predicted_class == 0) else 'Hockey') ))\n",
    "print()"
   ]
  },
  {
   "cell_type": "code",
   "execution_count": 297,
   "metadata": {},
   "outputs": [],
   "source": [
    "def rocchio_evaluate(test, test_lab, prototype):\n",
    "    success =  0\n",
    "    for i in range(len(test)):\n",
    "        total_distance,max_distance,predicted_class = Rocchio_classifier(prototype,test[i])\n",
    "        if(predicted_class == test_lab[i]):\n",
    "            success +=1\n",
    "    accurary = (success/len(test)) * 100\n",
    "    return len(test),success,accurary"
   ]
  },
  {
   "cell_type": "code",
   "execution_count": 299,
   "metadata": {},
   "outputs": [
    {
     "name": "stdout",
     "output_type": "stream",
     "text": [
      "Total Test Data count =  200 \n",
      "# of successes =  5 \n",
      "Measured accuracy =  2.5  % \n",
      "\n",
      "\n",
      "Wall time: 29 ms\n"
     ]
    }
   ],
   "source": [
    "%%time\n",
    "total_data_count,success_count,measured_accuracy = rocchio_evaluate(test_DT_array,test_label,prototypes_arr)\n",
    "print('Total Test Data count = ',total_data_count,'\\n# of successes = ',success_count,'\\nMeasured accuracy = ',measured_accuracy,\" % \")\n",
    "\n",
    "print(\"\\n\")\n"
   ]
  },
  {
   "cell_type": "code",
   "execution_count": 300,
   "metadata": {},
   "outputs": [
    {
     "name": "stdout",
     "output_type": "stream",
     "text": [
      "Total Train Data count =  800 \n",
      "# of successes =  8 \n",
      "Measured accuracy =  1.0  % \n",
      "\n",
      "\n",
      "Wall time: 146 ms\n"
     ]
    }
   ],
   "source": [
    "%%time\n",
    "total_data_count,success_count,measured_accuracy = rocchio_evaluate(DT_array,train_label,prototypes_arr)\n",
    "print('Total Train Data count = ',total_data_count,'\\n# of successes = ',success_count,'\\nMeasured accuracy = ',measured_accuracy,\" % \")\n",
    "\n",
    "print(\"\\n\")\n"
   ]
  },
  {
   "cell_type": "code",
   "execution_count": null,
   "metadata": {},
   "outputs": [],
   "source": []
  }
 ],
 "metadata": {
  "kernelspec": {
   "display_name": "Python 3",
   "language": "python",
   "name": "python3"
  }
 },
 "nbformat": 4,
 "nbformat_minor": 2
}
