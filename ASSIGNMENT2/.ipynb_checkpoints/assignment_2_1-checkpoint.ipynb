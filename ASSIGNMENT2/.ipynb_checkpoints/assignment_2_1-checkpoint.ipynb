{
 "cells": [
  {
   "cell_type": "code",
   "execution_count": 436,
   "metadata": {},
   "outputs": [],
   "source": [
    "import pandas as pd\n",
    "import numpy as np\n",
    "import matplotlib.pyplot as plt\n",
    "%matplotlib inline"
   ]
  },
  {
   "cell_type": "code",
   "execution_count": 437,
   "metadata": {},
   "outputs": [],
   "source": [
    "dataPath='M:\\\\github_project\\\\Python\\\\my_notebooks\\\\DSC_478_Machine_Leanring\\\\DSC478\\\\ASSIGNMENT2\\\\input_files\\\\newsgroups\\\\'"
   ]
  },
  {
   "cell_type": "code",
   "execution_count": 438,
   "metadata": {},
   "outputs": [],
   "source": [
    "training_matrix_df = pd.read_table(dataPath+'trainMatrixModified.txt',delimiter='\\t',index_col=None)\n",
    "test_matrix_df = pd.read_table(dataPath+'testMatrixModified.txt',delimiter='\\t',index_col=None)\n",
    "\n",
    "train_classes_df = np.loadtxt(dataPath+'trainClasses.txt',usecols = 1, dtype = int)\n",
    "test_label_df = np.loadtxt(dataPath+'testClasses.txt', usecols = 1, dtype = int)"
   ]
  },
  {
   "cell_type": "code",
   "execution_count": 439,
   "metadata": {},
   "outputs": [
    {
     "name": "stdout",
     "output_type": "stream",
     "text": [
      "training matrix df (5499, 800)\n",
      "test matrix df (5499, 200)\n",
      "train label shape (800,)\n",
      "train class head  [0 1 0 1]\n"
     ]
    }
   ],
   "source": [
    "print(\"training matrix df\",training_matrix_df.shape)\n",
    "print(\"test matrix df\",test_matrix_df.shape)\n",
    "print(\"train label shape\",train_classes_df.shape)\n",
    "print(\"train class head \",train_classes_df[:4])\n"
   ]
  },
  {
   "cell_type": "code",
   "execution_count": 440,
   "metadata": {},
   "outputs": [
    {
     "name": "stdout",
     "output_type": "stream",
     "text": [
      " num_of_terms = 5499 \n",
      " num_of_docs = 800\n",
      "\n",
      " train_table_t shape (800, 5499) \n",
      " test_table_t shape  (200, 5499)  \n",
      "\n",
      "term frequency\n",
      " 2.00      194\n",
      "0.00       79\n",
      "0.00.1     51\n",
      "2.00.1     37\n",
      "dtype: int64\n",
      "\n",
      "train Table Data \n",
      "          0     1     2     3     4     5     6     7     8     9     ...   \\\n",
      "2.00     2.0   2.0   1.0   8.0   6.0   2.0   8.0   2.0   4.0   1.0  ...    \n",
      "0.00     0.0   0.0   1.0   1.0   0.0   0.0   0.0   0.0   0.0   0.0  ...    \n",
      "0.00.1   0.0   0.0   1.0   0.0   0.0   0.0   2.0   0.0   1.0   0.0  ...    \n",
      "\n",
      "        5489  5490  5491  5492  5493  5494  5495  5496  5497  5498  \n",
      "2.00     0.0   0.0   0.0   0.0   0.0   0.0   0.0   0.0   0.0   0.0  \n",
      "0.00     0.0   0.0   0.0   0.0   0.0   0.0   0.0   0.0   0.0   0.0  \n",
      "0.00.1   0.0   0.0   0.0   0.0   0.0   0.0   0.0   0.0   0.0   0.0  \n",
      "\n",
      "[3 rows x 5499 columns]\n"
     ]
    }
   ],
   "source": [
    "num_of_terms=training_matrix_df.shape[0]\n",
    "num_of_docs=training_matrix_df.shape[1]\n",
    "\n",
    "train_table_t=training_matrix_df.T\n",
    "test_table_t=test_matrix_df.T\n",
    "term_frequency = train_table_t.sum(axis=1)\n",
    "term_frequency = term_frequency.astype(np.int64)\n",
    "\n",
    "\n",
    "print(\" num_of_terms =\",num_of_terms,\"\\n num_of_docs =\",num_of_docs)\n",
    "print('\\n train_table_t shape',train_table_t.shape,'\\n test_table_t shape ',test_table_t.shape,' \\n\\nterm frequency\\n',term_frequency[:4])\n",
    "print()\n",
    "print(\"train Table Data \\n \",train_table_t.head(3))\n"
   ]
  },
  {
   "cell_type": "code",
   "execution_count": 441,
   "metadata": {},
   "outputs": [
    {
     "name": "stdout",
     "output_type": "stream",
     "text": [
      "(5500,)\n",
      "\n",
      "terms \n",
      " ['david' 'rex' 'wood' ... 'inexperienc' 'markw' 'pspmf3gpsemicom']\n"
     ]
    }
   ],
   "source": [
    "# Read the vocabulary of terms\n",
    "terms_df = np.loadtxt(dataPath+\"modifiedterms.txt\", dtype = str)\n",
    "print(terms_df.shape)\n",
    "print()\n",
    "print('terms \\n',terms_df)"
   ]
  },
  {
   "cell_type": "code",
   "execution_count": 442,
   "metadata": {},
   "outputs": [],
   "source": [
    "# Create term-freqency dictionary\n",
    "dictTF = {}\n",
    "for i in range(len(term_frequency)):\n",
    "    dictTF[terms_df[i]] = term_frequency[i]\n",
    "\n",
    "#print (sorted(dictTF.items()))\n",
    "#print(sorted(dictTF.keys()))\n",
    "sortedTF = sorted(dictTF.values(), reverse=True)"
   ]
  },
  {
   "cell_type": "code",
   "execution_count": 443,
   "metadata": {},
   "outputs": [
    {
     "data": {
      "image/png": "[encoded data removed]",
      "text/plain": [
       "<Figure size 432x288 with 1 Axes>"
      ]
     },
     "metadata": {
      "needs_background": "light"
     },
     "output_type": "display_data"
    }
   ],
   "source": [
    "# Plot term frequencies\n",
    "plt.plot(sortedTF)\n",
    "plt.show()"
   ]
  },
  {
   "cell_type": "code",
   "execution_count": 444,
   "metadata": {},
   "outputs": [
    {
     "name": "stdout",
     "output_type": "stream",
     "text": [
      "(800, 5499)\n",
      "(200, 5499)\n"
     ]
    }
   ],
   "source": [
    "#convert frame to array\n",
    "train_DF = np.array(train_table_t)\n",
    "test_DF = np.array(test_table_t)\n",
    "print(train_DF.shape)\n",
    "print(test_DF.shape)"
   ]
  },
  {
   "cell_type": "markdown",
   "metadata": {},
   "source": [
    "#### 1.a Create your own KNN classifier function. Your classifier should allow as input the training data matrix, the training labels, the instance to be classified, the value of K, and should return the predicted class for the instance and the indices of the top K neighbors. Your classifier should work with Euclidean distance as well as Cosine distance (which is 1 minus the Cosine similarity). You may create two separate classifiers, or add the distance metric as a parameter in the classifier function (an example implementation of a KNN classifier was provided in class examples)."
   ]
  },
  {
   "cell_type": "code",
   "execution_count": 445,
   "metadata": {},
   "outputs": [],
   "source": [
    "######### 1.a\n",
    "def knn_search_classify(instance, training_data,training_label,K,mode):\n",
    "    if mode == 0:\n",
    "        distance = np.sqrt(((training_data - instance) ** 2).sum(axis=1))\n",
    "    elif mode == 1:\n",
    "        training_norm = np.array([np.linalg.norm(training_data[i]) for i in range(len(training_data))])\n",
    "        instance_norm = np.linalg.norm(instance)\n",
    "        similarity = np.dot(training_data,instance)/(instance_norm * training_norm)\n",
    "        distance = 1 - similarity\n",
    "    #print(traning_label)\n",
    "    idx = np.argsort(distance) # sorting\n",
    "    # print(\"idx[:K] \",idx[:K])\n",
    "   \n",
    "    ## get the labels for the K nearest documents\n",
    "    neigh_labels=training_label[idx[:K]]\n",
    "    ##print(\"neigh_labels \",neigh_labels)\n",
    "    \n",
    "    from collections import Counter\n",
    "    count = Counter(neigh_labels)\n",
    "    #print(count)\n",
    "    predicted_class = count.most_common(1)[0][0]\n",
    "    #print(\"The \" + str(K) + \" Nearest Neighbours are:\" + str(idx[:K]))\n",
    "    #print(\"The predicted class is: \" + str(predicted_class))\n",
    "    # return the indexes of K nearest neighbors\n",
    "    return idx[:K],predicted_class,distance"
   ]
  },
  {
   "cell_type": "code",
   "execution_count": 446,
   "metadata": {},
   "outputs": [
    {
     "name": "stdout",
     "output_type": "stream",
     "text": [
      "********************** Using Euclidean distance ********************** \n",
      "\n",
      " The Nearest  5  Neighbours indexes are : [685 628 703 266 510] and Neighbours are:\n",
      "[[0. 0. 1. ... 0. 0. 0.]\n",
      " [0. 0. 1. ... 0. 0. 0.]\n",
      " [0. 0. 1. ... 0. 0. 0.]\n",
      " [0. 0. 1. ... 0. 0. 0.]\n",
      " [0. 0. 1. ... 0. 0. 0.]]\n",
      "\n",
      " \tThe predicted class is: 1\n",
      "\n",
      "\n",
      " ********************** Using Cosine distance ********************** \n",
      "\n",
      " The Nearest  5  Neighbours indexes are : [685 628 667 152 427] and Neighbours are:\n",
      "[[0. 0. 1. ... 0. 0. 0.]\n",
      " [0. 0. 1. ... 0. 0. 0.]\n",
      " [0. 0. 1. ... 0. 0. 0.]\n",
      " [0. 0. 1. ... 0. 0. 0.]\n",
      " [0. 0. 1. ... 0. 0. 0.]]\n",
      "\n",
      " \tThe predicted class is: 1\n",
      "\n",
      "Wall time: 71 ms\n"
     ]
    }
   ],
   "source": [
    "%%time\n",
    "K=5\n",
    "neigh_idx, predicted_class,distance = knn_search_classify(test_DF[0], train_DF, train_classes_df, K, 0)\n",
    "print(\"********************** Using Euclidean distance ********************** \\n\\n The Nearest \",K,\" Neighbours indexes are :\",neigh_idx,\"and Neighbours are:\\n\" + str(train_DF[neigh_idx]))\n",
    "print(\"\\n \\tThe predicted class is: \" + str(predicted_class))\n",
    "\n",
    "neigh_idx, predicted_class,distance = knn_search_classify(test_DF[0], train_DF, train_classes_df,K, 1)\n",
    "print(\"\\n\\n ********************** Using Cosine distance ********************** \\n\\n The Nearest \",K,\" Neighbours indexes are :\",neigh_idx,\"and Neighbours are:\\n\" + str(train_DF[neigh_idx]))\n",
    "print(\"\\n \\tThe predicted class is: \" + str(predicted_class))\n",
    "\n",
    "print()"
   ]
  },
  {
   "cell_type": "markdown",
   "metadata": {},
   "source": [
    "#### 1.b Create an evaluation function to measure the accuracy of your classifier. This function will call the classifier function in part a on all the test instances and in each case compares the actual test class label to the predicted class label. It should take as input the training data, the training labels, the test instances, the labels for test instances, and the value of K. Your evaluation function should return the Classification Accuracy (ratio of correct predictions to the number of test instances)"
   ]
  },
  {
   "cell_type": "code",
   "execution_count": 384,
   "metadata": {},
   "outputs": [],
   "source": [
    "def measure_accuracy(test_data,train_data,train_label,test_label,K,mode):\n",
    "    success =  0\n",
    "    for i in range(len(test_data)):\n",
    "        neigh_idx, predicted_class,distance = knn_search_classify(test_data[i], train_data, train_label, K, mode)\n",
    "        if(predicted_class == test_label[i]):\n",
    "            success +=1\n",
    "        \n",
    "    accurary = (success/len(test_data)) * 100\n",
    "    return len(test_DF),success,accurary"
   ]
  },
  {
   "cell_type": "code",
   "execution_count": 385,
   "metadata": {},
   "outputs": [
    {
     "name": "stdout",
     "output_type": "stream",
     "text": [
      "Total Data count =  200 \n",
      "# of successes =  159 \n",
      "Measured accuracy with Euclidean distance for 3 nearest neighbors =  79.5  % \n",
      "\n",
      "\n",
      "Total Data count =  200 \n",
      "# of successes =  195 \n",
      "Measured accuracy with Cosine distance for 3 nearest neighbors =  97.5  % \n",
      "\n",
      "\n",
      "Wall time: 10.7 s\n"
     ]
    }
   ],
   "source": [
    "%%time\n",
    "K=3\n",
    "mode=0\n",
    "total_data_count,success_count,measured_accuracy = measure_accuracy(test_DF,train_DF,train_classes_df,test_label_df,K,mode)\n",
    "print('Total Data count = ',total_data_count,'\\n# of successes = ',success_count,'\\nMeasured accuracy with Euclidean distance for 3 nearest neighbors = ',measured_accuracy,\" % \")\n",
    "\n",
    "print(\"\\n\")\n",
    "\n",
    "mode=1\n",
    "total_data_count,success_count,measured_accuracy = measure_accuracy(test_DF,train_DF,train_classes_df,test_label_df,K,mode)\n",
    "print('Total Data count = ',total_data_count,'\\n# of successes = ',success_count,'\\nMeasured accuracy with Cosine distance for 3 nearest neighbors = ',measured_accuracy,\" % \")\n",
    "\n",
    "print(\"\\n\")"
   ]
  },
  {
   "cell_type": "markdown",
   "metadata": {},
   "source": [
    "#### 1.c Run your evaluation function on a range of values for K from 5 to 100 (in increments of 5) in order to compare accuracy values for different numbers of neighbors. Do this both using Euclidean Distance as well as Cosine similarity measure. Present the results as graphs with K in the x-axis and the evaluation metric (accuracy) on the y-axis. Use a single plot to compare the two version of the classifier (Eculidean distance version vs. cosine similarity version)."
   ]
  },
  {
   "cell_type": "code",
   "execution_count": 382,
   "metadata": {},
   "outputs": [
    {
     "name": "stdout",
     "output_type": "stream",
     "text": [
      "Calcualting for K= 5\n",
      "Calcualting for K= 10\n",
      "Calcualting for K= 15\n",
      "Calcualting for K= 20\n",
      "Calcualting for K= 25\n",
      "Calcualting for K= 30\n",
      "Calcualting for K= 35\n",
      "Calcualting for K= 40\n",
      "Calcualting for K= 45\n",
      "Calcualting for K= 50\n",
      "Calcualting for K= 55\n",
      "Calcualting for K= 60\n",
      "Calcualting for K= 65\n",
      "Calcualting for K= 70\n",
      "Calcualting for K= 75\n",
      "Calcualting for K= 80\n",
      "Calcualting for K= 85\n",
      "Calcualting for K= 90\n",
      "Calcualting for K= 95\n",
      "Calcualting for K= 100\n",
      "Wall time: 3min 50s\n"
     ]
    }
   ],
   "source": [
    "%%time\n",
    "## fill result array wth 0\n",
    "result =np.zeros((20,3), dtype = float)\n",
    "\n",
    "for i in range(1,21):\n",
    "    K = i*5\n",
    "    print(\"Calcualting for K=\",K)\n",
    "    euc_total_data_count,euc_success_count,euc_acc= measure_accuracy(test_DF,train_DF,train_classes_df,test_label_df,K,0)\n",
    "    cos_total_data_count,cos_success_count,cosine_acc= measure_accuracy(test_DF,train_DF,train_classes_df,test_label_df,K,1)\n",
    "    result[i-1] = [K,euc_acc,cosine_acc]"
   ]
  },
  {
   "cell_type": "code",
   "execution_count": 386,
   "metadata": {},
   "outputs": [
    {
     "name": "stdout",
     "output_type": "stream",
     "text": [
      "result = \n",
      " [[  5.   81.5  97.5]\n",
      " [ 10.   84.5  98.5]\n",
      " [ 15.   78.5  98.5]\n",
      " [ 20.   77.5  98. ]\n",
      " [ 25.   72.   97.5]\n",
      " [ 30.   73.   98. ]\n",
      " [ 35.   68.5  98. ]\n",
      " [ 40.   69.   98. ]\n",
      " [ 45.   65.5  97. ]\n",
      " [ 50.   66.5  97.5]\n",
      " [ 55.   65.   97. ]\n",
      " [ 60.   65.5  97.5]\n",
      " [ 65.   62.5  97.5]\n",
      " [ 70.   62.5  97.5]\n",
      " [ 75.   62.5  97.5]\n",
      " [ 80.   62.   97.5]\n",
      " [ 85.   61.5  97.5]\n",
      " [ 90.   61.   97.5]\n",
      " [ 95.   60.5  97.5]\n",
      " [100.   60.5  97.5]]\n"
     ]
    }
   ],
   "source": [
    "print(\"result = \\n\",result)"
   ]
  },
  {
   "cell_type": "code",
   "execution_count": 387,
   "metadata": {},
   "outputs": [
    {
     "name": "stdout",
     "output_type": "stream",
     "text": [
      "K, [  5.  10.  15.  20.  25.  30.  35.  40.  45.  50.  55.  60.  65.  70.  75.  80.  85.  90.  95. 100.]\n"
     ]
    }
   ],
   "source": [
    "euc_distance = result[:,1]\n",
    "cosine_distance = result[:,2]\n",
    "K_values=result[:,0]\n",
    "cosine_distance\n",
    "print(\"K,\",K_values)"
   ]
  },
  {
   "cell_type": "code",
   "execution_count": 388,
   "metadata": {},
   "outputs": [
    {
     "data": {
      "image/png": "[encoded data removed]",
      "text/plain": [
       "<Figure size 432x288 with 1 Axes>"
      ]
     },
     "metadata": {
      "needs_background": "light"
     },
     "output_type": "display_data"
    }
   ],
   "source": [
    "plt.plot(K_values,euc_distance,label = \"Euclidean\")\n",
    "plt.plot(K_values,cosine_distance,label = \"Cosine\")\n",
    "plt.xlabel('# of Neighbors')\n",
    "plt.ylabel('Accuracy')\n",
    "plt.title('Eculidean distance version vs. cosine similarity version')\n",
    "plt.legend(loc=7)\n",
    "plt.show()"
   ]
  },
  {
   "cell_type": "markdown",
   "metadata": {},
   "source": [
    "#### 1.d Next, modify the training and test data sets so that term weights are converted to TFxIDF weights (instead of raw term frequencies). [See class notes on Text Categorization]. Then, rerun your evaluation (only for the Cosine similairty version of the classifier) on the range of K values (as above) and compare the results to the results without using TFxIDF weights."
   ]
  },
  {
   "cell_type": "code",
   "execution_count": 389,
   "metadata": {},
   "outputs": [
    {
     "name": "stdout",
     "output_type": "stream",
     "text": [
      "training_matrix_df  (5499, 800)  training_matrix_df  (5499, 200)\n",
      "[[7.16 7.16 7.16 ... 7.16 7.16 7.16]\n",
      " [6.51 6.51 6.51 ... 6.51 6.51 6.51]\n",
      " [0.   0.   0.   ... 0.   0.   0.  ]\n",
      " ...\n",
      " [8.38 8.38 8.38 ... 8.38 8.38 8.38]\n",
      " [8.38 8.38 8.38 ... 8.38 8.38 8.38]\n",
      " [8.38 8.38 8.38 ... 8.38 8.38 8.38]]\n"
     ]
    }
   ],
   "source": [
    "print(\"training_matrix_df \",training_matrix_df.shape, \" training_matrix_df \",test_matrix_df.shape)\n",
    "concat_data = np.concatenate((training_matrix_df, test_matrix_df), axis=1)\n",
    "DF = np.array([(concat_data!=0).sum(1)]).T\n",
    "NDocs = len(concat_data[0,:])\n",
    "NMatrix = np.ones(np.shape(concat_data), dtype=float)*NDocs\n",
    "IDF = np.log2(np.divide(NMatrix, DF))\n",
    "print(IDF)\n",
    "TD_tfidf = concat_data * IDF"
   ]
  },
  {
   "cell_type": "code",
   "execution_count": 390,
   "metadata": {},
   "outputs": [
    {
     "name": "stdout",
     "output_type": "stream",
     "text": [
      "trainDT_tfidf shape (800, 5499)  testDT_tfidf shape  (200, 5499)\n"
     ]
    }
   ],
   "source": [
    "tpercent = 0.8\n",
    "DT_tfidf = TD_tfidf.T\n",
    "tsize =int(tpercent * len(DT_tfidf))\n",
    "trainDT_tfidf = np.array(DT_tfidf[:tsize,:])\n",
    "testDT_tfidf = np.array(DT_tfidf[tsize:,:])\n",
    "print(\"trainDT_tfidf shape\",trainDT_tfidf.shape,\" testDT_tfidf shape \",testDT_tfidf.shape)"
   ]
  },
  {
   "cell_type": "code",
   "execution_count": 391,
   "metadata": {},
   "outputs": [
    {
     "name": "stdout",
     "output_type": "stream",
     "text": [
      "Calcualting for K= 5\n",
      "Calcualting for K= 10\n",
      "Calcualting for K= 15\n",
      "Calcualting for K= 20\n",
      "Calcualting for K= 25\n",
      "Calcualting for K= 30\n",
      "Calcualting for K= 35\n",
      "Calcualting for K= 40\n",
      "Calcualting for K= 45\n",
      "Calcualting for K= 50\n",
      "Calcualting for K= 55\n",
      "Calcualting for K= 60\n",
      "Calcualting for K= 65\n",
      "Calcualting for K= 70\n",
      "Calcualting for K= 75\n",
      "Calcualting for K= 80\n",
      "Calcualting for K= 85\n",
      "Calcualting for K= 90\n",
      "Calcualting for K= 95\n",
      "Calcualting for K= 100\n",
      "Wall time: 4min 18s\n"
     ]
    }
   ],
   "source": [
    "%%time\n",
    "## fill result array wth 0\n",
    "TFxIDF =np.zeros((20,3), dtype = float)\n",
    "\n",
    "for i in range(1,21):\n",
    "    K = i*5\n",
    "    print(\"Calcualting for K=\",K)\n",
    "    cos_total_data_count,cos_success_count,cosine_acc= measure_accuracy(testDT_tfidf,trainDT_tfidf,train_classes_df,test_label_df,K,1)\n",
    "    TFxIDF[i-1] = [K,euc_acc,cosine_acc]"
   ]
  },
  {
   "cell_type": "code",
   "execution_count": 393,
   "metadata": {},
   "outputs": [
    {
     "data": {
      "text/plain": [
       "array([97.5, 98.5, 99. , 99.5, 99.5, 99.5, 99.5, 99.5, 99.5, 99.5, 99.5, 99.5, 99. , 99.5, 99.5, 99.5, 99. , 99. ,\n",
       "       99. , 99. ])"
      ]
     },
     "execution_count": 393,
     "metadata": {},
     "output_type": "execute_result"
    }
   ],
   "source": [
    "TFxIDF\n",
    "TFxIDF_cosin=TFxIDF[:,2]\n",
    "TFxIDF_cosin"
   ]
  },
  {
   "cell_type": "code",
   "execution_count": 402,
   "metadata": {},
   "outputs": [
    {
     "data": {
      "image/png": "[encoded data removed]",
      "text/plain": [
       "<Figure size 432x288 with 1 Axes>"
      ]
     },
     "metadata": {
      "needs_background": "light"
     },
     "output_type": "display_data"
    }
   ],
   "source": [
    "plt.plot(K_values,TFxIDF_cosin,label = \"Cosine with TFxIDF\")\n",
    "plt.plot(K_values,cosine_distance,label = \"Cosine without TFxIDF\")\n",
    "plt.xlabel('# of Neighbors')\n",
    "plt.ylabel('Accuracy')\n",
    "plt.title('Cosine similarity with TFxIDF version vs. Cosine similarity without TFxIDF  version')\n",
    "plt.legend(loc=7)\n",
    "plt.show()"
   ]
  },
  {
   "cell_type": "markdown",
   "metadata": {},
   "source": [
    "#### 1.d approach2 - not working correctly"
   ]
  },
  {
   "cell_type": "code",
   "execution_count": 394,
   "metadata": {},
   "outputs": [
    {
     "name": "stdout",
     "output_type": "stream",
     "text": [
      "np.shape(training_matrix_df )=  (5499, 800) \n",
      "train_DF : \n",
      " [[  7]\n",
      " [ 10]\n",
      " [800]] \n",
      "\n",
      "NDocs =  800\n",
      "\n",
      "[[800. 800. 800. ... 800. 800. 800.]\n",
      " [800. 800. 800. ... 800. 800. 800.]\n",
      " [800. 800. 800. ... 800. 800. 800.]\n",
      " ...\n",
      " [800. 800. 800. ... 800. 800. 800.]\n",
      " [800. 800. 800. ... 800. 800. 800.]\n",
      " [800. 800. 800. ... 800. 800. 800.]]\n",
      "\n",
      "\n",
      "\n",
      " test_NDocs =  200\n",
      "[[200. 200. 200. ... 200. 200. 200.]\n",
      " [200. 200. 200. ... 200. 200. 200.]\n",
      " [200. 200. 200. ... 200. 200. 200.]\n",
      " ...\n",
      " [200. 200. 200. ... 200. 200. 200.]\n",
      " [200. 200. 200. ... 200. 200. 200.]\n",
      " [200. 200. 200. ... 200. 200. 200.]]\n"
     ]
    },
    {
     "name": "stderr",
     "output_type": "stream",
     "text": [
      "M:\\apps\\Anaconda3\\lib\\site-packages\\ipykernel_launcher.py:25: RuntimeWarning: divide by zero encountered in true_divide\n"
     ]
    }
   ],
   "source": [
    "# Find document frequencies \n",
    "train_DF = np.array([(training_matrix_df !=0).sum(1)]).T\n",
    "\n",
    "test_DF = np.array([(test_matrix_df !=0).sum(1)]).T\n",
    "\n",
    "NDocs = training_matrix_df.shape[1]\n",
    "test_NDocs = test_matrix_df.shape[1]\n",
    "# Create a matrix with all entries =NDocs\n",
    "NMatrix = np.ones(np.shape(training_matrix_df), dtype=float)*NDocs\n",
    "\n",
    "test_NMatrix = np.ones(np.shape(test_matrix_df), dtype=float)*test_NDocs\n",
    "\n",
    "np.set_printoptions(precision=2,suppress=True,linewidth=120)\n",
    "print(\"np.shape(training_matrix_df )= \",np.shape(training_matrix_df ),\"\\ntrain_DF : \\n\",train_DF[:3],\"\\n\\nNDocs = \",NDocs)\n",
    "print()\n",
    "print(NMatrix)\n",
    "\n",
    "print()\n",
    "print(\"\\n\\n test_NDocs = \",test_NDocs)\n",
    "print(test_NMatrix)\n",
    "# Convert each entry into IDF values\n",
    "# IDF is the log of the inverse of document frequency\n",
    "# Note that IDF is only a function of the term, so all columns will be identical.\n",
    "IDF = np.log2(np.divide(NMatrix,train_DF))\n",
    "test_IDF = np.log2(np.divide(test_NMatrix,test_DF))"
   ]
  },
  {
   "cell_type": "code",
   "execution_count": 395,
   "metadata": {},
   "outputs": [
    {
     "name": "stdout",
     "output_type": "stream",
     "text": [
      "IDF : [[6.84 6.84 6.84 ... 6.84 6.84 6.84]\n",
      " [6.32 6.32 6.32 ... 6.32 6.32 6.32]\n",
      " [0.   0.   0.   ... 0.   0.   0.  ]\n",
      " ...\n",
      " [8.64 8.64 8.64 ... 8.64 8.64 8.64]\n",
      " [8.64 8.64 8.64 ... 8.64 8.64 8.64]\n",
      " [8.64 8.64 8.64 ... 8.64 8.64 8.64]]\n",
      "test_IDF [[ inf  inf  inf ...  inf  inf  inf]\n",
      " [7.64 7.64 7.64 ... 7.64 7.64 7.64]\n",
      " [0.   0.   0.   ... 0.   0.   0.  ]\n",
      " ...\n",
      " [7.64 7.64 7.64 ... 7.64 7.64 7.64]\n",
      " [7.64 7.64 7.64 ... 7.64 7.64 7.64]\n",
      " [7.64 7.64 7.64 ... 7.64 7.64 7.64]]\n"
     ]
    }
   ],
   "source": [
    "print('IDF :',IDF)\n",
    "\n",
    "print('test_IDF',test_IDF)"
   ]
  },
  {
   "cell_type": "code",
   "execution_count": 396,
   "metadata": {},
   "outputs": [
    {
     "name": "stdout",
     "output_type": "stream",
     "text": [
      "    2.00  0.00  0.00.1  2.00.1  2.00.2  0.00.2  0.00.3  0.00.4  0.00.5  \\\n",
      "0  13.67   0.0     0.0     0.0     0.0     0.0     0.0     0.0     0.0   \n",
      "1  12.64   0.0     0.0     0.0     0.0     0.0     0.0     0.0     0.0   \n",
      "2   0.00   0.0     0.0     0.0     0.0     0.0     0.0     0.0     0.0   \n",
      "\n",
      "   0.00.6    ...     0.00.740  0.00.741  0.00.742  0.00.743  0.00.744  \\\n",
      "0     0.0    ...          0.0       0.0     20.51       0.0       0.0   \n",
      "1     0.0    ...          0.0       0.0      0.00       0.0       0.0   \n",
      "2     0.0    ...          0.0       0.0      0.00       0.0       0.0   \n",
      "\n",
      "   0.00.745  0.00.746  0.00.747  0.00.748  0.00.749  \n",
      "0       0.0       0.0       0.0       0.0       0.0  \n",
      "1       0.0       0.0       0.0       0.0       0.0  \n",
      "2       0.0       0.0       0.0       0.0       0.0  \n",
      "\n",
      "[3 rows x 800 columns]\n",
      "   0.00  0.00.1  1.00  0.00.2  0.00.3  0.00.4  0.00.5  0.00.6  0.00.7  0.00.8  \\\n",
      "0   NaN     NaN   NaN     NaN     NaN     NaN     NaN     NaN     NaN     NaN   \n",
      "1   0.0     0.0   0.0     0.0     0.0     0.0     0.0     0.0     0.0     0.0   \n",
      "2   0.0     0.0   0.0     0.0     0.0     0.0     0.0     0.0     0.0     0.0   \n",
      "\n",
      "     ...     0.00.175  0.00.176  0.00.177  0.00.178  0.00.179  0.00.180  \\\n",
      "0    ...          NaN       NaN       NaN       NaN       NaN       NaN   \n",
      "1    ...          0.0       0.0       0.0       0.0       0.0       0.0   \n",
      "2    ...          0.0       0.0       0.0       0.0       0.0       0.0   \n",
      "\n",
      "   0.00.181  0.00.182  0.00.183  0.00.184  \n",
      "0       NaN       NaN       NaN       NaN  \n",
      "1       0.0       0.0       0.0       0.0  \n",
      "2       0.0       0.0       0.0       0.0  \n",
      "\n",
      "[3 rows x 200 columns]\n"
     ]
    }
   ],
   "source": [
    "\n",
    "# Compute the TF x iDF values for each document term\n",
    "training_TD_tfidf = training_matrix_df  * IDF\n",
    "pd.set_option(\"display.precision\", 2)\n",
    "print(training_TD_tfidf.head(3))\n",
    "\n",
    "# Compute the TF x iDF values for each document term\n",
    "test_TD_tfidf = test_matrix_df  * test_IDF\n",
    "pd.set_option(\"display.precision\", 2)\n",
    "print(test_TD_tfidf.head(3))"
   ]
  },
  {
   "cell_type": "code",
   "execution_count": 399,
   "metadata": {},
   "outputs": [
    {
     "data": {
      "text/plain": [
       "array([[nan,  0.,  0., ...,  0.,  0.,  0.],\n",
       "       [nan,  0.,  0., ...,  0.,  0.,  0.],\n",
       "       [nan,  0.,  0., ...,  0.,  0.,  0.],\n",
       "       ...,\n",
       "       [nan,  0.,  0., ...,  0.,  0.,  0.],\n",
       "       [nan,  0.,  0., ...,  0.,  0.,  0.],\n",
       "       [nan,  0.,  0., ...,  0.,  0.,  0.]])"
      ]
     },
     "execution_count": 399,
     "metadata": {},
     "output_type": "execute_result"
    }
   ],
   "source": [
    "# The KNN Search function expects a document x term materix as an np array, so we need to transpose the TF_tfidf matrix\n",
    "training_DT_tfidf = training_TD_tfidf.T\n",
    "training_DT_array = np.array(training_DT_tfidf)\n",
    "training_DT_array\n",
    "\n",
    "test_DT_tfidf = test_TD_tfidf.T\n",
    "test_DT_array = np.array(test_DT_tfidf)\n",
    "test_DT_array"
   ]
  },
  {
   "cell_type": "code",
   "execution_count": 406,
   "metadata": {},
   "outputs": [
    {
     "name": "stdout",
     "output_type": "stream",
     "text": [
      "processing K= 5\n",
      "cosine_acc  50.5\n",
      "processing K= 10\n",
      "cosine_acc  50.5\n",
      "processing K= 15\n",
      "cosine_acc  50.5\n",
      "processing K= 20\n",
      "cosine_acc  50.5\n",
      "processing K= 25\n",
      "cosine_acc  50.5\n",
      "processing K= 30\n",
      "cosine_acc  50.5\n",
      "processing K= 35\n",
      "cosine_acc  50.5\n",
      "processing K= 40\n",
      "cosine_acc  50.5\n",
      "processing K= 45\n",
      "cosine_acc  50.5\n",
      "processing K= 50\n",
      "cosine_acc  50.5\n",
      "processing K= 55\n",
      "cosine_acc  50.5\n",
      "processing K= 60\n",
      "cosine_acc  50.5\n",
      "processing K= 65\n",
      "cosine_acc  50.5\n",
      "processing K= 70\n",
      "cosine_acc  50.5\n",
      "processing K= 75\n",
      "cosine_acc  50.5\n",
      "processing K= 80\n",
      "cosine_acc  50.5\n",
      "processing K= 85\n",
      "cosine_acc  50.5\n",
      "processing K= 90\n",
      "cosine_acc  50.5\n",
      "processing K= 95\n",
      "cosine_acc  50.5\n",
      "processing K= 100\n",
      "cosine_acc  50.5\n",
      "[[  5.    0.   50.5]\n",
      " [ 10.    0.   50.5]\n",
      " [ 15.    0.   50.5]\n",
      " [ 20.    0.   50.5]\n",
      " [ 25.    0.   50.5]\n",
      " [ 30.    0.   50.5]\n",
      " [ 35.    0.   50.5]\n",
      " [ 40.    0.   50.5]\n",
      " [ 45.    0.   50.5]\n",
      " [ 50.    0.   50.5]\n",
      " [ 55.    0.   50.5]\n",
      " [ 60.    0.   50.5]\n",
      " [ 65.    0.   50.5]\n",
      " [ 70.    0.   50.5]\n",
      " [ 75.    0.   50.5]\n",
      " [ 80.    0.   50.5]\n",
      " [ 85.    0.   50.5]\n",
      " [ 90.    0.   50.5]\n",
      " [ 95.    0.   50.5]\n",
      " [100.    0.   50.5]]\n"
     ]
    }
   ],
   "source": [
    "# Repeat the results printing like before\n",
    "count=0\n",
    "op =np.zeros((20,3), dtype = float)\n",
    "for i in range(1,21):\n",
    "    K = i*5\n",
    "    print(\"processing K=\",K)\n",
    "    cos_total_data_count,cos_success_count,cosine_acc= measure_accuracy(test_DT_array,training_DT_array,train_classes_df,test_label_df,K,1)\n",
    "    print(\"cosine_acc \",cosine_acc)\n",
    "    op[i-1] = [K,0,cosine_acc]\n",
    "print(op)"
   ]
  },
  {
   "cell_type": "code",
   "execution_count": 407,
   "metadata": {},
   "outputs": [
    {
     "data": {
      "image/png": "[encoded data removed]",
      "text/plain": [
       "<Figure size 432x288 with 1 Axes>"
      ]
     },
     "metadata": {
      "needs_background": "light"
     },
     "output_type": "display_data"
    }
   ],
   "source": [
    "TFxIDF_cosin = op[:,2]\n",
    "plt.plot(K_values,TFxIDF_cosin,label = \"Cosine with TFxIDF\")\n",
    "plt.plot(K_values,cosine_distance,label = \"Cosine without TFxIDF\")\n",
    "plt.xlabel('# of Neighbors')\n",
    "plt.ylabel('Accuracy')\n",
    "plt.title('Cosine similarity with TFxIDF version vs. Cosine similarity without TFxIDF  version')\n",
    "plt.legend(loc=7)\n",
    "plt.show()"
   ]
  },
  {
   "cell_type": "markdown",
   "metadata": {},
   "source": [
    "#### 1e Create a new classifier based on the Rocchio Method adapted for text categorization [See class notes on Text Categorization]. You should separate the training function from the classifiation function. The training part for the classifier can be implemented as a function that takes as input the training data matrix and the training labels, returning the prototype vectors for each class. The classification part can be implemented as another function that would take as input the prototypes returned from the training function and the instance to be classified. This function should measure Cosine similarity of the test instance to each prototype vector. Your output should indicate the predicted class for the test instance and the similarity values of the instance to each of the category prototypes.  Finally, use your evaluation function to compare your results to the best KNN results you obtained in part d. [Note: your functions should work regardless of the number of categories (class labels) and should not be limited to two-class categorization scenario.]\n"
   ]
  },
  {
   "cell_type": "code",
   "execution_count": 447,
   "metadata": {},
   "outputs": [
    {
     "name": "stdout",
     "output_type": "stream",
     "text": [
      "(800, 5499)\n",
      "(800,)\n"
     ]
    }
   ],
   "source": [
    "trainingDT = training_matrix_df.T\n",
    "print(trainingDT.shape)\n",
    "print(train_classes_df.shape)"
   ]
  },
  {
   "cell_type": "code",
   "execution_count": 448,
   "metadata": {},
   "outputs": [],
   "source": [
    "trainingDT['class']=train_classes_df"
   ]
  },
  {
   "cell_type": "code",
   "execution_count": 449,
   "metadata": {},
   "outputs": [
    {
     "name": "stdout",
     "output_type": "stream",
     "text": [
      "(800, 5500)\n"
     ]
    }
   ],
   "source": [
    "print(trainingDT.shape)\n"
   ]
  },
  {
   "cell_type": "code",
   "execution_count": 450,
   "metadata": {},
   "outputs": [],
   "source": [
    "prototypes = trainingDT.groupby('class').sum(axis=0)"
   ]
  },
  {
   "cell_type": "code",
   "execution_count": 451,
   "metadata": {},
   "outputs": [
    {
     "data": {
      "text/plain": [
       "(2, 5499)"
      ]
     },
     "execution_count": 451,
     "metadata": {},
     "output_type": "execute_result"
    }
   ],
   "source": [
    "prototypes.shape"
   ]
  },
  {
   "cell_type": "code",
   "execution_count": 452,
   "metadata": {},
   "outputs": [
    {
     "data": {
      "text/html": [
       "<div>\n",
       "<style scoped>\n",
       "    .dataframe tbody tr th:only-of-type {\n",
       "        vertical-align: middle;\n",
       "    }\n",
       "\n",
       "    .dataframe tbody tr th {\n",
       "        vertical-align: top;\n",
       "    }\n",
       "\n",
       "    .dataframe thead th {\n",
       "        text-align: right;\n",
       "    }\n",
       "</style>\n",
       "<table border=\"1\" class=\"dataframe\">\n",
       "  <thead>\n",
       "    <tr style=\"text-align: right;\">\n",
       "      <th></th>\n",
       "      <th>0</th>\n",
       "      <th>1</th>\n",
       "      <th>2</th>\n",
       "      <th>3</th>\n",
       "      <th>4</th>\n",
       "      <th>5</th>\n",
       "      <th>6</th>\n",
       "      <th>7</th>\n",
       "      <th>8</th>\n",
       "      <th>9</th>\n",
       "      <th>...</th>\n",
       "      <th>5489</th>\n",
       "      <th>5490</th>\n",
       "      <th>5491</th>\n",
       "      <th>5492</th>\n",
       "      <th>5493</th>\n",
       "      <th>5494</th>\n",
       "      <th>5495</th>\n",
       "      <th>5496</th>\n",
       "      <th>5497</th>\n",
       "      <th>5498</th>\n",
       "    </tr>\n",
       "    <tr>\n",
       "      <th>class</th>\n",
       "      <th></th>\n",
       "      <th></th>\n",
       "      <th></th>\n",
       "      <th></th>\n",
       "      <th></th>\n",
       "      <th></th>\n",
       "      <th></th>\n",
       "      <th></th>\n",
       "      <th></th>\n",
       "      <th></th>\n",
       "      <th></th>\n",
       "      <th></th>\n",
       "      <th></th>\n",
       "      <th></th>\n",
       "      <th></th>\n",
       "      <th></th>\n",
       "      <th></th>\n",
       "      <th></th>\n",
       "      <th></th>\n",
       "      <th></th>\n",
       "      <th></th>\n",
       "    </tr>\n",
       "  </thead>\n",
       "  <tbody>\n",
       "    <tr>\n",
       "      <th>0</th>\n",
       "      <td>4.0</td>\n",
       "      <td>5.0</td>\n",
       "      <td>541.0</td>\n",
       "      <td>157.0</td>\n",
       "      <td>84.0</td>\n",
       "      <td>99.0</td>\n",
       "      <td>262.0</td>\n",
       "      <td>54.0</td>\n",
       "      <td>126.0</td>\n",
       "      <td>27.0</td>\n",
       "      <td>...</td>\n",
       "      <td>0.0</td>\n",
       "      <td>0.0</td>\n",
       "      <td>1.0</td>\n",
       "      <td>2.0</td>\n",
       "      <td>3.0</td>\n",
       "      <td>2.0</td>\n",
       "      <td>3.0</td>\n",
       "      <td>1.0</td>\n",
       "      <td>2.0</td>\n",
       "      <td>2.0</td>\n",
       "    </tr>\n",
       "    <tr>\n",
       "      <th>1</th>\n",
       "      <td>7.0</td>\n",
       "      <td>17.0</td>\n",
       "      <td>418.0</td>\n",
       "      <td>65.0</td>\n",
       "      <td>0.0</td>\n",
       "      <td>9.0</td>\n",
       "      <td>0.0</td>\n",
       "      <td>1.0</td>\n",
       "      <td>192.0</td>\n",
       "      <td>42.0</td>\n",
       "      <td>...</td>\n",
       "      <td>3.0</td>\n",
       "      <td>2.0</td>\n",
       "      <td>0.0</td>\n",
       "      <td>0.0</td>\n",
       "      <td>0.0</td>\n",
       "      <td>1.0</td>\n",
       "      <td>0.0</td>\n",
       "      <td>1.0</td>\n",
       "      <td>0.0</td>\n",
       "      <td>0.0</td>\n",
       "    </tr>\n",
       "  </tbody>\n",
       "</table>\n",
       "<p>2 rows × 5499 columns</p>\n",
       "</div>"
      ],
      "text/plain": [
       "       0     1      2      3     4     5      6     7      8     9     ...   \\\n",
       "class                                                                  ...    \n",
       "0       4.0   5.0  541.0  157.0  84.0  99.0  262.0  54.0  126.0  27.0  ...    \n",
       "1       7.0  17.0  418.0   65.0   0.0   9.0    0.0   1.0  192.0  42.0  ...    \n",
       "\n",
       "       5489  5490  5491  5492  5493  5494  5495  5496  5497  5498  \n",
       "class                                                              \n",
       "0       0.0   0.0   1.0   2.0   3.0   2.0   3.0   1.0   2.0   2.0  \n",
       "1       3.0   2.0   0.0   0.0   0.0   1.0   0.0   1.0   0.0   0.0  \n",
       "\n",
       "[2 rows x 5499 columns]"
      ]
     },
     "execution_count": 452,
     "metadata": {},
     "output_type": "execute_result"
    }
   ],
   "source": [
    "prototypes\n"
   ]
  },
  {
   "cell_type": "code",
   "execution_count": 453,
   "metadata": {},
   "outputs": [
    {
     "name": "stdout",
     "output_type": "stream",
     "text": [
      "2\n",
      "[[-10.82 -10.82 -10.82 ... -10.82 -10.82 -10.82]\n",
      " [-11.03 -11.03 -11.03 ... -11.03 -11.03 -11.03]]\n"
     ]
    }
   ],
   "source": [
    "DF = np.array([(prototypes!=0).sum(1)]).T\n",
    "NDocs = prototypes.shape[0]\n",
    "print(NDocs)\n",
    "NMatrix = np.ones(np.shape(prototypes), dtype=float)*NDocs\n",
    "IDF = np.log2(np.divide(NMatrix, DF))\n",
    "print(IDF)"
   ]
  },
  {
   "cell_type": "code",
   "execution_count": 454,
   "metadata": {},
   "outputs": [
    {
     "name": "stdout",
     "output_type": "stream",
     "text": [
      "2\n",
      "[[  inf   inf   inf ...   inf   inf   inf]\n",
      " [ 1.    1.    1.   ...  1.    1.    1.  ]\n",
      " [-6.64 -6.64 -6.64 ... -6.64 -6.64 -6.64]\n",
      " ...\n",
      " [ 1.    1.    1.   ...  1.    1.    1.  ]\n",
      " [ 1.    1.    1.   ...  1.    1.    1.  ]\n",
      " [ 1.    1.    1.   ...  1.    1.    1.  ]]\n"
     ]
    },
    {
     "name": "stderr",
     "output_type": "stream",
     "text": [
      "M:\\apps\\Anaconda3\\lib\\site-packages\\ipykernel_launcher.py:5: RuntimeWarning: divide by zero encountered in true_divide\n",
      "  \"\"\"\n"
     ]
    }
   ],
   "source": [
    "test_DF = np.array([(test_matrix_df!=0).sum(1)]).T\n",
    "NDocs = prototypes.shape[0]\n",
    "print(NDocs)\n",
    "NMatrix = np.ones(np.shape(test_matrix_df), dtype=float)*NDocs\n",
    "test_IDF = np.log2(np.divide(NMatrix, test_DF))\n",
    "print(test_IDF)"
   ]
  },
  {
   "cell_type": "code",
   "execution_count": 466,
   "metadata": {},
   "outputs": [
    {
     "name": "stdout",
     "output_type": "stream",
     "text": [
      "trainDT_tfidf shape (5499, 2)  testDT_tfidf shape  (200, 5499)\n"
     ]
    }
   ],
   "source": [
    "TD_tfidf = prototypes * IDF\n",
    "DT_tfidf = TD_tfidf\n",
    "\n",
    "test_TD_tfidf = test_matrix_df * test_IDF\n",
    "test_DT_tfidf = test_TD_tfidf.T\n",
    "\n",
    "training_DT_array = np.array(DT_tfidf)\n",
    "test_DT_array = np.array(test_DT_tfidf)\n",
    "\n",
    "print(\"trainDT_tfidf shape\",training_DT_array.shape,\" testDT_tfidf shape \",test_DT_array.shape)"
   ]
  },
  {
   "cell_type": "code",
   "execution_count": 464,
   "metadata": {},
   "outputs": [],
   "source": [
    "## classify\n",
    "def knn_search_classify_2(instance, training_data,training_label,K,mode):\n",
    "    if mode == 0:\n",
    "        distance = np.sqrt(((training_data - instance) ** 2).sum(axis=1))\n",
    "    elif mode == 1:\n",
    "        training_norm = np.array([np.linalg.norm(training_data[i]) for i in range(len(training_data))])\n",
    "        instance_norm = np.linalg.norm(instance)\n",
    "        print(instance.shape)\n",
    "        print(training_data.shape)\n",
    "        similarity = np.dot(training_data,instance)/(instance_norm * training_norm)\n",
    "        distance = 1 - similarity\n",
    "    #print(traning_label)\n",
    "    idx = np.argsort(distance) # sorting\n",
    "    print(\"idx[:K] \",idx[:K])\n",
    "   \n",
    "    ## get the labels for the K nearest documents\n",
    "    neigh_labels=training_label[idx[:K]]\n",
    "    print(\"neigh_labels \",neigh_labels)\n",
    "    \n",
    "    from collections import Counter\n",
    "    count = Counter(neigh_labels)\n",
    "    #print(count)\n",
    "    predicted_class = count.most_common(1)[0][0]\n",
    "    #print(\"The \" + str(K) + \" Nearest Neighbours are:\" + str(idx[:K]))\n",
    "    #print(\"The predicted class is: \" + str(predicted_class))\n",
    "    # return the indexes of K nearest neighbors\n",
    "    return idx[:K],predicted_class,distance"
   ]
  },
  {
   "cell_type": "code",
   "execution_count": 465,
   "metadata": {},
   "outputs": [
    {
     "name": "stdout",
     "output_type": "stream",
     "text": [
      "(5499,)\n",
      "(2, 5499)\n",
      "idx[:K]  [0 1]\n",
      "neigh_labels  [0 1]\n"
     ]
    }
   ],
   "source": [
    "cos_total_data_count,cos_success_count,cosine_acc= knn_search_classify_2(test_DT_array[0],training_DT_array,train_classes_df,K,1)"
   ]
  },
  {
   "cell_type": "code",
   "execution_count": null,
   "metadata": {},
   "outputs": [],
   "source": []
  }
 ],
 "metadata": {
  "kernelspec": {
   "display_name": "Python 3",
   "language": "python",
   "name": "python3"
  },
  "language_info": {
   "codemirror_mode": {
    "name": "ipython",
    "version": 3
   },
   "file_extension": ".py",
   "mimetype": "text/x-python",
   "name": "python",
   "nbconvert_exporter": "python",
   "pygments_lexer": "ipython3",
   "version": "3.7.0"
  }
 },
 "nbformat": 4,
 "nbformat_minor": 2
}
