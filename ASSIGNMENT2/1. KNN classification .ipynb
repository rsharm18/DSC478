{
 "cells": [
  {
   "cell_type": "code",
   "execution_count": 170,
   "metadata": {},
   "outputs": [],
   "source": [
    "import pandas as pd\n",
    "import numpy as np\n",
    "import matplotlib.pyplot as plt\n",
    "%matplotlib inline"
   ]
  },
  {
   "cell_type": "code",
   "execution_count": 171,
   "metadata": {},
   "outputs": [],
   "source": [
    "dataPath='input_files/newsgroups/'"
   ]
  },
  {
   "cell_type": "code",
   "execution_count": 172,
   "metadata": {},
   "outputs": [],
   "source": [
    "training_table = pd.read_table(dataPath+'trainMatrixModified.txt',delimiter='\\t',header=None)\n",
    "train_label_table = pd.read_table(dataPath+'trainClasses.txt',index_col=0,header=None)\n",
    "\n",
    "test_table = pd.read_table(dataPath+'testMatrixModified.txt',delimiter='\\t',header=None)\n",
    "test_label_table = pd.read_table(dataPath+'testClasses.txt', index_col=0,header=None)\n",
    "\n",
    "DF_training_table = np.array(training_table.T)\n",
    "DF_test_table = np.array(test_table.T)\n",
    "train_label = np.array(train_label_table).flatten()\n",
    "test_label = np.array(test_label_table).flatten()"
   ]
  },
  {
   "cell_type": "code",
   "execution_count": 173,
   "metadata": {},
   "outputs": [],
   "source": [
    "terms = pd.read_table(dataPath+'modifiedterms.txt', index_col=0,header=None)"
   ]
  },
  {
   "cell_type": "code",
   "execution_count": 175,
   "metadata": {},
   "outputs": [
    {
     "data": {
      "text/plain": [
       "array([[2., 2., 2., ..., 0., 0., 0.],\n",
       "       [0., 0., 0., ..., 0., 0., 0.],\n",
       "       [0., 0., 0., ..., 0., 0., 0.],\n",
       "       [2., 0., 0., ..., 0., 0., 0.]])"
      ]
     },
     "execution_count": 175,
     "metadata": {},
     "output_type": "execute_result"
    }
   ],
   "source": [
    "DF_training_table[:4]"
   ]
  },
  {
   "cell_type": "code",
   "execution_count": 176,
   "metadata": {},
   "outputs": [
    {
     "name": "stdout",
     "output_type": "stream",
     "text": [
      "training_table.shape =  (5500, 800)\n",
      "train_label_table.shape =  (800, 1)\n",
      "test_table.shape =  (5500, 200)\n",
      "test_label_table.shape =  (200, 1)\n",
      "terms.shape =  (5500, 0)\n",
      "[0. 0. 0. ... 0. 0. 0.]\n"
     ]
    }
   ],
   "source": [
    "print('training_table.shape = ',training_table.shape)\n",
    "print('train_label_table.shape = ',train_label_table.shape)\n",
    "\n",
    "print('test_table.shape = ',test_table.shape)\n",
    "print('test_label_table.shape = ',test_label_table.shape)\n",
    "\n",
    "print('terms.shape = ',terms.shape)\n",
    "\n",
    "print(DF_test_table[0])"
   ]
  },
  {
   "cell_type": "code",
   "execution_count": 177,
   "metadata": {},
   "outputs": [
    {
     "name": "stdout",
     "output_type": "stream",
     "text": [
      "terms\n",
      " Empty DataFrame\n",
      "Columns: []\n",
      "Index: [david, rex, wood, subject, call]\n",
      "\n",
      "train_label_table\n",
      "\n"
     ]
    },
    {
     "data": {
      "text/html": [
       "<div>\n",
       "<style scoped>\n",
       "    .dataframe tbody tr th:only-of-type {\n",
       "        vertical-align: middle;\n",
       "    }\n",
       "\n",
       "    .dataframe tbody tr th {\n",
       "        vertical-align: top;\n",
       "    }\n",
       "\n",
       "    .dataframe thead th {\n",
       "        text-align: right;\n",
       "    }\n",
       "</style>\n",
       "<table border=\"1\" class=\"dataframe\">\n",
       "  <thead>\n",
       "    <tr style=\"text-align: right;\">\n",
       "      <th></th>\n",
       "      <th>1</th>\n",
       "    </tr>\n",
       "    <tr>\n",
       "      <th>0</th>\n",
       "      <th></th>\n",
       "    </tr>\n",
       "  </thead>\n",
       "  <tbody>\n",
       "    <tr>\n",
       "      <th>0</th>\n",
       "      <td>0</td>\n",
       "    </tr>\n",
       "    <tr>\n",
       "      <th>1</th>\n",
       "      <td>1</td>\n",
       "    </tr>\n",
       "    <tr>\n",
       "      <th>2</th>\n",
       "      <td>0</td>\n",
       "    </tr>\n",
       "    <tr>\n",
       "      <th>3</th>\n",
       "      <td>1</td>\n",
       "    </tr>\n",
       "  </tbody>\n",
       "</table>\n",
       "</div>"
      ],
      "text/plain": [
       "   1\n",
       "0   \n",
       "0  0\n",
       "1  1\n",
       "2  0\n",
       "3  1"
      ]
     },
     "execution_count": 177,
     "metadata": {},
     "output_type": "execute_result"
    }
   ],
   "source": [
    "print('terms\\n',terms.head())\n",
    "print()\n",
    "print('train_label_table\\n')\n",
    "train_label_table[:4]"
   ]
  },
  {
   "cell_type": "code",
   "execution_count": 178,
   "metadata": {},
   "outputs": [
    {
     "data": {
      "text/plain": [
       "0    102\n",
       "1     11\n",
       "2     22\n",
       "3    959\n",
       "4    222\n",
       "dtype: int64"
      ]
     },
     "execution_count": 178,
     "metadata": {},
     "output_type": "execute_result"
    }
   ],
   "source": [
    "termFreqs = training_table.sum(axis=1).astype(np.int64)\n",
    "termFreqs.head()"
   ]
  },
  {
   "cell_type": "code",
   "execution_count": 179,
   "metadata": {},
   "outputs": [
    {
     "data": {
      "image/png": "[encoded data removed]",
      "text/plain": [
       "<Figure size 432x288 with 1 Axes>"
      ]
     },
     "metadata": {
      "needs_background": "light"
     },
     "output_type": "display_data"
    }
   ],
   "source": [
    "plt.plot(sorted(termFreqs, reverse=True))\n",
    "plt.xlabel('Frequency')\n",
    "plt.ylabel('Terms')\n",
    "plt.show()"
   ]
  },
  {
   "cell_type": "markdown",
   "metadata": {},
   "source": [
    "#### indicates most the word are non repetetive\n"
   ]
  },
  {
   "cell_type": "markdown",
   "metadata": {},
   "source": [
    "#### 1.a Create your own KNN classifier function. Your classifier should allow as input the training data matrix, the training labels, the instance to be classified, the value of K, and should return the predicted class for the instance and the indices of the top K neighbors. Your classifier should work with Euclidean distance as well as Cosine distance (which is 1 minus the Cosine similarity). You may create two separate classifiers, or add the distance metric as a parameter in the classifier function (an example implementation of a KNN classifier was provided in class examples)."
   ]
  },
  {
   "cell_type": "code",
   "execution_count": 180,
   "metadata": {},
   "outputs": [],
   "source": [
    "def calculateEuclideanDistance(x,D):\n",
    "    dist = np.sqrt((D -x)**2).sum(axis=1)\n",
    "    return dist\n",
    "\n",
    "\n",
    "def calculateCosineSimilarityDistance(x,D):\n",
    "    D_norm = np.array([np.linalg.norm(D[i]) for i in range(len(D))])\n",
    "    x_norm = np.linalg.norm(x)\n",
    "    sims = np.dot(D,x)/(D_norm * x_norm)\n",
    "    # The distance measure will be the inverse of Cosine similarity\n",
    "    dist = 1 - sims\n",
    "    return dist\n",
    "    "
   ]
  },
  {
   "cell_type": "code",
   "execution_count": 181,
   "metadata": {},
   "outputs": [],
   "source": [
    "def knn_search(x,D,K,measure):\n",
    "    if(measure==0):\n",
    "        distance = calculateEuclideanDistance(x,D)\n",
    "    else:\n",
    "        distance = calculateCosineSimilarityDistance(x,D)\n",
    "    \n",
    "    #sort the distances    \n",
    "    idx = np.argsort(distance)\n",
    "    neigh_distances = idx[:K]\n",
    "    return neigh_distances,distance"
   ]
  },
  {
   "cell_type": "code",
   "execution_count": 182,
   "metadata": {},
   "outputs": [],
   "source": [
    "def knn_classify(x,D,training_lable,K,measure):\n",
    "    neigh_distances,distance = knn_search(x,D,K,measure)\n",
    "    neigh_labels = training_lable[neigh_distances]\n",
    "    \n",
    "    # get the predicted class from the K neighbors\n",
    "    from collections import Counter\n",
    "    count = Counter(neigh_labels)\n",
    "    #print(count)\n",
    "    predicted_class = count.most_common(1)[0][0]\n",
    "    \n",
    "    #print(\"neigh_distances \", neigh_distances,\"K=\",K,\"\\nneigh_labels\\n\",neigh_labels)\n",
    "    return predicted_class,neigh_labels,neigh_distances"
   ]
  },
  {
   "cell_type": "code",
   "execution_count": 183,
   "metadata": {
    "scrolled": false
   },
   "outputs": [
    {
     "name": "stdout",
     "output_type": "stream",
     "text": [
      "********************** Using Euclidean distance **********************\n",
      "The Top \"5\" neighbors are [798 757 224  38 342]\n",
      "The predicted class = 0  (Windows)\n",
      "\n",
      "********************** Using Cosine distance **********************\n",
      "The Top \"5\" neighbors are [382 775 163 587 550]\n",
      "The predicted class = 0  (Windows)\n",
      "\n",
      "Wall time: 97 ms\n"
     ]
    }
   ],
   "source": [
    "%%time\n",
    "K=5\n",
    "predicted_class,neigh_labels,distance = knn_classify(DF_test_table[1],DF_training_table,train_label,K,0)\n",
    "print(\"********************** Using Euclidean distance **********************\")\n",
    "print(\"The Top \\\"{}\\\" neighbors are {}\\nThe predicted class = {}  ({})\".format(K,distance,predicted_class,('Windows' if (predicted_class == 0) else 'Hockey')))\n",
    "print()\n",
    "predicted_class,neigh_labels,distance = knn_classify(DF_test_table[1],DF_training_table,train_label,K,1)\n",
    "print(\"********************** Using Cosine distance **********************\")\n",
    "print(\"The Top \\\"{}\\\" neighbors are {}\\nThe predicted class = {}  ({})\".format(K,distance,predicted_class,('Windows' if (predicted_class == 0) else 'Hockey')))\n",
    "print()\n",
    "\n",
    "#test_table[10]"
   ]
  },
  {
   "cell_type": "markdown",
   "metadata": {},
   "source": [
    "#### 1.b Create an evaluation function to measure the accuracy of your classifier. This function will call the classifier function in part a on all the test instances and in each case compares the actual test class label to the predicted class label. It should take as input the training data, the training labels, the test instances, the labels for test instances, and the value of K. Your evaluation function should return the Classification Accuracy (ratio of correct predictions to the number of test instances)"
   ]
  },
  {
   "cell_type": "code",
   "execution_count": 184,
   "metadata": {},
   "outputs": [],
   "source": [
    "def knn_evaluate(DT_test, test_labels, DT_train, train_labels, K, measure):\n",
    "    success =  0\n",
    "    for i in range(len(DT_test)):\n",
    "        predicted_class,neigh_labels,distance = knn_classify(DT_test[i], DT_train, train_labels, K, measure)\n",
    "        if(predicted_class == test_labels[i]):\n",
    "            success +=1\n",
    "        \n",
    "    accurary = (success/len(DT_test)) * 100\n",
    "    return len(DT_test),success,accurary"
   ]
  },
  {
   "cell_type": "code",
   "execution_count": 185,
   "metadata": {},
   "outputs": [
    {
     "name": "stdout",
     "output_type": "stream",
     "text": [
      "Total Test Data count =  200 \n",
      "# of successes =  131 \n",
      "# of Nearest Neighors (K) =  5 \n",
      "Measured accuracy with Euclidean distance for  5  nearest neighbors =  65.5  % \n",
      "\n",
      "\n",
      "Total Test Data count =  200 \n",
      "# of successes =  194 \n",
      "# of Nearest Neighors (K) =  5 \n",
      "Measured accuracy with Cosine distance for  5  nearest neighbors =  97.0  % \n",
      "\n",
      "\n",
      "Wall time: 16.1 s\n"
     ]
    }
   ],
   "source": [
    "%%time\n",
    "K=5\n",
    "measure=0\n",
    "total_data_count,success_count,measured_accuracy = knn_evaluate(DF_test_table,test_label,DF_training_table,train_label,K,measure)\n",
    "print('Total Test Data count = ',total_data_count,'\\n# of successes = ',success_count,'\\n# of Nearest Neighors (K) = ',K,'\\nMeasured accuracy with Euclidean distance for ',K,' nearest neighbors = ',measured_accuracy,\" % \")\n",
    "\n",
    "print(\"\\n\")\n",
    "\n",
    "measure=1\n",
    "total_data_count,success_count,measured_accuracy = knn_evaluate(DF_test_table,test_label,DF_training_table,train_label,K,measure)\n",
    "print('Total Test Data count = ',total_data_count,'\\n# of successes = ',success_count,'\\n# of Nearest Neighors (K) = ',K,'\\nMeasured accuracy with Cosine distance for ',K,' nearest neighbors = ',measured_accuracy,\" % \")\n",
    "\n",
    "print(\"\\n\")"
   ]
  },
  {
   "cell_type": "markdown",
   "metadata": {},
   "source": [
    "#### 1.c Run your evaluation function on a range of values for K from 5 to 100 (in increments of 5) in order to compare accuracy values for different numbers of neighbors. Do this both using Euclidean Distance as well as Cosine similarity measure. Present the results as graphs with K in the x-axis and the evaluation metric (accuracy) on the y-axis. Use a single plot to compare the two version of the classifier (Eculidean distance version vs. cosine similarity version)."
   ]
  },
  {
   "cell_type": "code",
   "execution_count": 186,
   "metadata": {},
   "outputs": [],
   "source": [
    "euclid_accuracy = []\n",
    "cosine_accuracy = []"
   ]
  },
  {
   "cell_type": "code",
   "execution_count": 187,
   "metadata": {},
   "outputs": [
    {
     "name": "stdout",
     "output_type": "stream",
     "text": [
      "Wall time: 4min 34s\n"
     ]
    }
   ],
   "source": [
    "%%time\n",
    "for K in range(5,100,5):\n",
    "    total_data_count,success_count,measured_accuracy = knn_evaluate(DF_test_table,test_label,DF_training_table,train_label,K,0)\n",
    "    euclid_accuracy.append(measured_accuracy)"
   ]
  },
  {
   "cell_type": "code",
   "execution_count": 188,
   "metadata": {},
   "outputs": [
    {
     "name": "stdout",
     "output_type": "stream",
     "text": [
      "Wall time: 40.1 s\n"
     ]
    }
   ],
   "source": [
    "%%time\n",
    "for K in range(5,100,5):\n",
    "    total_data_count,success_count,measured_accuracy = knn_evaluate(DF_test_table,test_label,DF_training_table,train_label,K,1)\n",
    "    cosine_accuracy.append(measured_accuracy)"
   ]
  },
  {
   "cell_type": "code",
   "execution_count": 189,
   "metadata": {},
   "outputs": [
    {
     "name": "stdout",
     "output_type": "stream",
     "text": [
      " euclid_accuracy  [65.5, 69.0, 61.5, 65.0, 56.49999999999999, 55.50000000000001, 54.50000000000001, 55.00000000000001, 52.5, 53.0, 52.5, 53.0, 52.0, 54.0, 52.5, 53.0, 54.0, 53.5, 53.5]\n",
      " cosine_accuracy  [97.0, 98.5, 98.5, 97.5, 97.0, 98.0, 98.0, 98.0, 97.5, 98.0, 97.5, 98.0, 97.5, 97.5, 97.5, 97.5, 97.5, 97.5, 97.5]\n"
     ]
    }
   ],
   "source": [
    "print(\" euclid_accuracy \",euclid_accuracy)\n",
    "print(\" cosine_accuracy \",cosine_accuracy)"
   ]
  },
  {
   "cell_type": "code",
   "execution_count": 190,
   "metadata": {},
   "outputs": [
    {
     "data": {
      "image/png": "[encoded data removed]",
      "text/plain": [
       "<Figure size 432x288 with 1 Axes>"
      ]
     },
     "metadata": {
      "needs_background": "light"
     },
     "output_type": "display_data"
    }
   ],
   "source": [
    "K_values= range(5,100,5)\n",
    "\n",
    "plt.plot(K_values,euclid_accuracy,label = \"Euclidean Distance\")\n",
    "plt.plot(K_values,cosine_accuracy,label = \"Cosine Distance\")\n",
    "plt.xlabel('# of Neighbors (K)')\n",
    "plt.ylabel('Accuracy %')\n",
    "plt.title('KNN Classifier Accuracy')\n",
    "plt.legend(loc=7)\n",
    "plt.show()"
   ]
  },
  {
   "cell_type": "markdown",
   "metadata": {},
   "source": [
    "#### 1.d Next, modify the training and test data sets so that term weights are converted to TFxIDF weights (instead of raw term frequencies). [See class notes on Text Categorization]. Then, rerun your evaluation (only for the Cosine similairty version of the classifier) on the range of K values (as above) and compare the results to the results without using TFxIDF weights."
   ]
  },
  {
   "cell_type": "code",
   "execution_count": 191,
   "metadata": {},
   "outputs": [
    {
     "name": "stdout",
     "output_type": "stream",
     "text": [
      "training_table shape  (5500, 800)  training_table shape  (5500, 200)\n"
     ]
    }
   ],
   "source": [
    "print(\"training_table shape \",training_table.shape, \" training_table shape \",test_table.shape)\n"
   ]
  },
  {
   "cell_type": "code",
   "execution_count": 192,
   "metadata": {},
   "outputs": [
    {
     "name": "stdout",
     "output_type": "stream",
     "text": [
      " train_DF[0]  [50]  test_DF[0]  [15] \n",
      " # of Train Docs  800 \n",
      " # of terms  5500\n"
     ]
    }
   ],
   "source": [
    "# Find document frequencies \n",
    "train_DF = np.array([(training_table !=0).sum(1)]).T\n",
    "test_DF = np.array([(test_table !=0).sum(1)]).T\n",
    "\n",
    "NDocs = DF_training_table.shape[0]\n",
    "NTerms = DF_training_table.shape[1]\n",
    "print(\" train_DF[0] \",train_DF[0], \" test_DF[0] \",test_DF[0], \"\\n # of Train Docs \",NDocs,\"\\n # of terms \",NTerms)\n"
   ]
  },
  {
   "cell_type": "code",
   "execution_count": 193,
   "metadata": {},
   "outputs": [
    {
     "name": "stdout",
     "output_type": "stream",
     "text": [
      "np.shape(training_table )=  (5500, 800) \n",
      "train_DF[:3] : \n",
      " [[50]\n",
      " [ 7]\n",
      " [10]]\n",
      "\n",
      "[[800. 800. 800. ... 800. 800. 800.]\n",
      " [800. 800. 800. ... 800. 800. 800.]\n",
      " [800. 800. 800. ... 800. 800. 800.]\n",
      " ...\n",
      " [800. 800. 800. ... 800. 800. 800.]\n",
      " [800. 800. 800. ... 800. 800. 800.]\n",
      " [800. 800. 800. ... 800. 800. 800.]]\n",
      "\n"
     ]
    }
   ],
   "source": [
    "\n",
    "# Create a matrix with all entries and multiple by NDocs\n",
    "NMatrix = np.ones(np.shape(training_table), dtype=float) * NDocs\n",
    "np.set_printoptions(precision=2,suppress=True,linewidth=120)\n",
    "print(\"np.shape(training_table )= \",np.shape(training_table ),\"\\ntrain_DF[:3] : \\n\",train_DF[:3])\n",
    "print()\n",
    "print(NMatrix)\n",
    "\n",
    "print()\n"
   ]
  },
  {
   "cell_type": "code",
   "execution_count": 194,
   "metadata": {},
   "outputs": [
    {
     "data": {
      "text/plain": [
       "(5500, 800)"
      ]
     },
     "execution_count": 194,
     "metadata": {},
     "output_type": "execute_result"
    }
   ],
   "source": [
    "# Convert each entry into IDF values\n",
    "# IDF is the log of the inverse of document frequency\n",
    "# Note that IDF is only a function of the term, so all columns will be identical.\n",
    "IDF = np.log2(np.divide(NMatrix,train_DF))\n",
    "IDF.shape"
   ]
  },
  {
   "cell_type": "code",
   "execution_count": 195,
   "metadata": {},
   "outputs": [
    {
     "data": {
      "text/html": [
       "<div>\n",
       "<style scoped>\n",
       "    .dataframe tbody tr th:only-of-type {\n",
       "        vertical-align: middle;\n",
       "    }\n",
       "\n",
       "    .dataframe tbody tr th {\n",
       "        vertical-align: top;\n",
       "    }\n",
       "\n",
       "    .dataframe thead th {\n",
       "        text-align: right;\n",
       "    }\n",
       "</style>\n",
       "<table border=\"1\" class=\"dataframe\">\n",
       "  <thead>\n",
       "    <tr style=\"text-align: right;\">\n",
       "      <th></th>\n",
       "      <th>0</th>\n",
       "      <th>1</th>\n",
       "      <th>2</th>\n",
       "      <th>3</th>\n",
       "      <th>4</th>\n",
       "      <th>5</th>\n",
       "      <th>6</th>\n",
       "      <th>7</th>\n",
       "      <th>8</th>\n",
       "      <th>9</th>\n",
       "      <th>...</th>\n",
       "      <th>790</th>\n",
       "      <th>791</th>\n",
       "      <th>792</th>\n",
       "      <th>793</th>\n",
       "      <th>794</th>\n",
       "      <th>795</th>\n",
       "      <th>796</th>\n",
       "      <th>797</th>\n",
       "      <th>798</th>\n",
       "      <th>799</th>\n",
       "    </tr>\n",
       "  </thead>\n",
       "  <tbody>\n",
       "    <tr>\n",
       "      <th>0</th>\n",
       "      <td>8.00</td>\n",
       "      <td>0.00</td>\n",
       "      <td>0.0</td>\n",
       "      <td>8.0</td>\n",
       "      <td>8.0</td>\n",
       "      <td>0.0</td>\n",
       "      <td>0.0</td>\n",
       "      <td>0.0</td>\n",
       "      <td>0.0</td>\n",
       "      <td>0.0</td>\n",
       "      <td>...</td>\n",
       "      <td>0.0</td>\n",
       "      <td>0.0</td>\n",
       "      <td>0.00</td>\n",
       "      <td>0.0</td>\n",
       "      <td>0.0</td>\n",
       "      <td>0.0</td>\n",
       "      <td>0.0</td>\n",
       "      <td>0.0</td>\n",
       "      <td>0.0</td>\n",
       "      <td>0.00</td>\n",
       "    </tr>\n",
       "    <tr>\n",
       "      <th>1</th>\n",
       "      <td>13.67</td>\n",
       "      <td>0.00</td>\n",
       "      <td>0.0</td>\n",
       "      <td>0.0</td>\n",
       "      <td>0.0</td>\n",
       "      <td>0.0</td>\n",
       "      <td>0.0</td>\n",
       "      <td>0.0</td>\n",
       "      <td>0.0</td>\n",
       "      <td>0.0</td>\n",
       "      <td>...</td>\n",
       "      <td>0.0</td>\n",
       "      <td>0.0</td>\n",
       "      <td>20.51</td>\n",
       "      <td>0.0</td>\n",
       "      <td>0.0</td>\n",
       "      <td>0.0</td>\n",
       "      <td>0.0</td>\n",
       "      <td>0.0</td>\n",
       "      <td>0.0</td>\n",
       "      <td>0.00</td>\n",
       "    </tr>\n",
       "    <tr>\n",
       "      <th>2</th>\n",
       "      <td>12.64</td>\n",
       "      <td>0.00</td>\n",
       "      <td>0.0</td>\n",
       "      <td>0.0</td>\n",
       "      <td>0.0</td>\n",
       "      <td>0.0</td>\n",
       "      <td>0.0</td>\n",
       "      <td>0.0</td>\n",
       "      <td>0.0</td>\n",
       "      <td>0.0</td>\n",
       "      <td>...</td>\n",
       "      <td>0.0</td>\n",
       "      <td>0.0</td>\n",
       "      <td>0.00</td>\n",
       "      <td>0.0</td>\n",
       "      <td>0.0</td>\n",
       "      <td>0.0</td>\n",
       "      <td>0.0</td>\n",
       "      <td>0.0</td>\n",
       "      <td>0.0</td>\n",
       "      <td>0.00</td>\n",
       "    </tr>\n",
       "    <tr>\n",
       "      <th>3</th>\n",
       "      <td>0.00</td>\n",
       "      <td>0.00</td>\n",
       "      <td>0.0</td>\n",
       "      <td>0.0</td>\n",
       "      <td>0.0</td>\n",
       "      <td>0.0</td>\n",
       "      <td>0.0</td>\n",
       "      <td>0.0</td>\n",
       "      <td>0.0</td>\n",
       "      <td>0.0</td>\n",
       "      <td>...</td>\n",
       "      <td>0.0</td>\n",
       "      <td>0.0</td>\n",
       "      <td>0.00</td>\n",
       "      <td>0.0</td>\n",
       "      <td>0.0</td>\n",
       "      <td>0.0</td>\n",
       "      <td>0.0</td>\n",
       "      <td>0.0</td>\n",
       "      <td>0.0</td>\n",
       "      <td>0.00</td>\n",
       "    </tr>\n",
       "    <tr>\n",
       "      <th>4</th>\n",
       "      <td>23.11</td>\n",
       "      <td>2.89</td>\n",
       "      <td>0.0</td>\n",
       "      <td>0.0</td>\n",
       "      <td>0.0</td>\n",
       "      <td>0.0</td>\n",
       "      <td>0.0</td>\n",
       "      <td>0.0</td>\n",
       "      <td>0.0</td>\n",
       "      <td>0.0</td>\n",
       "      <td>...</td>\n",
       "      <td>0.0</td>\n",
       "      <td>0.0</td>\n",
       "      <td>5.78</td>\n",
       "      <td>0.0</td>\n",
       "      <td>0.0</td>\n",
       "      <td>0.0</td>\n",
       "      <td>0.0</td>\n",
       "      <td>0.0</td>\n",
       "      <td>0.0</td>\n",
       "      <td>2.89</td>\n",
       "    </tr>\n",
       "  </tbody>\n",
       "</table>\n",
       "<p>5 rows × 800 columns</p>\n",
       "</div>"
      ],
      "text/plain": [
       "     0     1    2    3    4    5    6    7    8    9    ...  790  791    792  \\\n",
       "0   8.00  0.00  0.0  8.0  8.0  0.0  0.0  0.0  0.0  0.0  ...  0.0  0.0   0.00   \n",
       "1  13.67  0.00  0.0  0.0  0.0  0.0  0.0  0.0  0.0  0.0  ...  0.0  0.0  20.51   \n",
       "2  12.64  0.00  0.0  0.0  0.0  0.0  0.0  0.0  0.0  0.0  ...  0.0  0.0   0.00   \n",
       "3   0.00  0.00  0.0  0.0  0.0  0.0  0.0  0.0  0.0  0.0  ...  0.0  0.0   0.00   \n",
       "4  23.11  2.89  0.0  0.0  0.0  0.0  0.0  0.0  0.0  0.0  ...  0.0  0.0   5.78   \n",
       "\n",
       "   793  794  795  796  797  798   799  \n",
       "0  0.0  0.0  0.0  0.0  0.0  0.0  0.00  \n",
       "1  0.0  0.0  0.0  0.0  0.0  0.0  0.00  \n",
       "2  0.0  0.0  0.0  0.0  0.0  0.0  0.00  \n",
       "3  0.0  0.0  0.0  0.0  0.0  0.0  0.00  \n",
       "4  0.0  0.0  0.0  0.0  0.0  0.0  2.89  \n",
       "\n",
       "[5 rows x 800 columns]"
      ]
     },
     "execution_count": 195,
     "metadata": {},
     "output_type": "execute_result"
    }
   ],
   "source": [
    "# Finally compute the TFxIDF values for each document-term entry\n",
    "TD_tfidf = training_table * IDF\n",
    "pd.set_option(\"display.precision\", 2)\n",
    "\n",
    "TD_tfidf.head()"
   ]
  },
  {
   "cell_type": "code",
   "execution_count": 196,
   "metadata": {},
   "outputs": [
    {
     "data": {
      "text/html": [
       "<div>\n",
       "<style scoped>\n",
       "    .dataframe tbody tr th:only-of-type {\n",
       "        vertical-align: middle;\n",
       "    }\n",
       "\n",
       "    .dataframe tbody tr th {\n",
       "        vertical-align: top;\n",
       "    }\n",
       "\n",
       "    .dataframe thead th {\n",
       "        text-align: right;\n",
       "    }\n",
       "</style>\n",
       "<table border=\"1\" class=\"dataframe\">\n",
       "  <thead>\n",
       "    <tr style=\"text-align: right;\">\n",
       "      <th></th>\n",
       "      <th>0</th>\n",
       "      <th>1</th>\n",
       "      <th>2</th>\n",
       "      <th>3</th>\n",
       "      <th>4</th>\n",
       "      <th>5</th>\n",
       "      <th>6</th>\n",
       "      <th>7</th>\n",
       "      <th>8</th>\n",
       "      <th>9</th>\n",
       "      <th>...</th>\n",
       "      <th>5490</th>\n",
       "      <th>5491</th>\n",
       "      <th>5492</th>\n",
       "      <th>5493</th>\n",
       "      <th>5494</th>\n",
       "      <th>5495</th>\n",
       "      <th>5496</th>\n",
       "      <th>5497</th>\n",
       "      <th>5498</th>\n",
       "      <th>5499</th>\n",
       "    </tr>\n",
       "  </thead>\n",
       "  <tbody>\n",
       "    <tr>\n",
       "      <th>0</th>\n",
       "      <td>8.0</td>\n",
       "      <td>13.67</td>\n",
       "      <td>12.64</td>\n",
       "      <td>0.0</td>\n",
       "      <td>23.11</td>\n",
       "      <td>27.86</td>\n",
       "      <td>7.89</td>\n",
       "      <td>32.71</td>\n",
       "      <td>9.78</td>\n",
       "      <td>8.03</td>\n",
       "      <td>...</td>\n",
       "      <td>0.0</td>\n",
       "      <td>0.0</td>\n",
       "      <td>0.0</td>\n",
       "      <td>0.0</td>\n",
       "      <td>0.0</td>\n",
       "      <td>0.0</td>\n",
       "      <td>0.0</td>\n",
       "      <td>0.0</td>\n",
       "      <td>0.0</td>\n",
       "      <td>0.0</td>\n",
       "    </tr>\n",
       "    <tr>\n",
       "      <th>1</th>\n",
       "      <td>0.0</td>\n",
       "      <td>0.00</td>\n",
       "      <td>0.00</td>\n",
       "      <td>0.0</td>\n",
       "      <td>2.89</td>\n",
       "      <td>0.00</td>\n",
       "      <td>0.00</td>\n",
       "      <td>0.00</td>\n",
       "      <td>0.00</td>\n",
       "      <td>0.00</td>\n",
       "      <td>...</td>\n",
       "      <td>0.0</td>\n",
       "      <td>0.0</td>\n",
       "      <td>0.0</td>\n",
       "      <td>0.0</td>\n",
       "      <td>0.0</td>\n",
       "      <td>0.0</td>\n",
       "      <td>0.0</td>\n",
       "      <td>0.0</td>\n",
       "      <td>0.0</td>\n",
       "      <td>0.0</td>\n",
       "    </tr>\n",
       "    <tr>\n",
       "      <th>2</th>\n",
       "      <td>0.0</td>\n",
       "      <td>0.00</td>\n",
       "      <td>0.00</td>\n",
       "      <td>0.0</td>\n",
       "      <td>0.00</td>\n",
       "      <td>0.00</td>\n",
       "      <td>0.00</td>\n",
       "      <td>8.18</td>\n",
       "      <td>0.00</td>\n",
       "      <td>2.01</td>\n",
       "      <td>...</td>\n",
       "      <td>0.0</td>\n",
       "      <td>0.0</td>\n",
       "      <td>0.0</td>\n",
       "      <td>0.0</td>\n",
       "      <td>0.0</td>\n",
       "      <td>0.0</td>\n",
       "      <td>0.0</td>\n",
       "      <td>0.0</td>\n",
       "      <td>0.0</td>\n",
       "      <td>0.0</td>\n",
       "    </tr>\n",
       "    <tr>\n",
       "      <th>3</th>\n",
       "      <td>8.0</td>\n",
       "      <td>0.00</td>\n",
       "      <td>0.00</td>\n",
       "      <td>0.0</td>\n",
       "      <td>0.00</td>\n",
       "      <td>0.00</td>\n",
       "      <td>0.00</td>\n",
       "      <td>0.00</td>\n",
       "      <td>0.00</td>\n",
       "      <td>0.00</td>\n",
       "      <td>...</td>\n",
       "      <td>0.0</td>\n",
       "      <td>0.0</td>\n",
       "      <td>0.0</td>\n",
       "      <td>0.0</td>\n",
       "      <td>0.0</td>\n",
       "      <td>0.0</td>\n",
       "      <td>0.0</td>\n",
       "      <td>0.0</td>\n",
       "      <td>0.0</td>\n",
       "      <td>0.0</td>\n",
       "    </tr>\n",
       "    <tr>\n",
       "      <th>4</th>\n",
       "      <td>8.0</td>\n",
       "      <td>0.00</td>\n",
       "      <td>0.00</td>\n",
       "      <td>0.0</td>\n",
       "      <td>0.00</td>\n",
       "      <td>0.00</td>\n",
       "      <td>0.00</td>\n",
       "      <td>0.00</td>\n",
       "      <td>0.00</td>\n",
       "      <td>0.00</td>\n",
       "      <td>...</td>\n",
       "      <td>0.0</td>\n",
       "      <td>0.0</td>\n",
       "      <td>0.0</td>\n",
       "      <td>0.0</td>\n",
       "      <td>0.0</td>\n",
       "      <td>0.0</td>\n",
       "      <td>0.0</td>\n",
       "      <td>0.0</td>\n",
       "      <td>0.0</td>\n",
       "      <td>0.0</td>\n",
       "    </tr>\n",
       "  </tbody>\n",
       "</table>\n",
       "<p>5 rows × 5500 columns</p>\n",
       "</div>"
      ],
      "text/plain": [
       "   0      1      2     3      4      5     6      7     8     9     ...  5490  \\\n",
       "0   8.0  13.67  12.64   0.0  23.11  27.86  7.89  32.71  9.78  8.03  ...   0.0   \n",
       "1   0.0   0.00   0.00   0.0   2.89   0.00  0.00   0.00  0.00  0.00  ...   0.0   \n",
       "2   0.0   0.00   0.00   0.0   0.00   0.00  0.00   8.18  0.00  2.01  ...   0.0   \n",
       "3   8.0   0.00   0.00   0.0   0.00   0.00  0.00   0.00  0.00  0.00  ...   0.0   \n",
       "4   8.0   0.00   0.00   0.0   0.00   0.00  0.00   0.00  0.00  0.00  ...   0.0   \n",
       "\n",
       "   5491  5492  5493  5494  5495  5496  5497  5498  5499  \n",
       "0   0.0   0.0   0.0   0.0   0.0   0.0   0.0   0.0   0.0  \n",
       "1   0.0   0.0   0.0   0.0   0.0   0.0   0.0   0.0   0.0  \n",
       "2   0.0   0.0   0.0   0.0   0.0   0.0   0.0   0.0   0.0  \n",
       "3   0.0   0.0   0.0   0.0   0.0   0.0   0.0   0.0   0.0  \n",
       "4   0.0   0.0   0.0   0.0   0.0   0.0   0.0   0.0   0.0  \n",
       "\n",
       "[5 rows x 5500 columns]"
      ]
     },
     "execution_count": 196,
     "metadata": {},
     "output_type": "execute_result"
    }
   ],
   "source": [
    "# The KNN Search function expects a document x term materix as an np array, so we need to transpose the TF_tfidf matrix\n",
    "DT_tfidf = TD_tfidf.T\n",
    "DT_tfidf.head()"
   ]
  },
  {
   "cell_type": "code",
   "execution_count": 197,
   "metadata": {},
   "outputs": [
    {
     "data": {
      "text/plain": [
       "array([[ 8.  , 13.67, 12.64, ...,  0.  ,  0.  ,  0.  ],\n",
       "       [ 0.  ,  0.  ,  0.  , ...,  0.  ,  0.  ,  0.  ],\n",
       "       [ 0.  ,  0.  ,  0.  , ...,  0.  ,  0.  ,  0.  ]])"
      ]
     },
     "execution_count": 197,
     "metadata": {},
     "output_type": "execute_result"
    }
   ],
   "source": [
    "DT_array = np.array(DT_tfidf)\n",
    "DT_array[:3]"
   ]
  },
  {
   "cell_type": "code",
   "execution_count": 198,
   "metadata": {},
   "outputs": [
    {
     "name": "stdout",
     "output_type": "stream",
     "text": [
      "   0    1    2    3    4    5    6    7    8    9    ...  190  191  192  193  \\\n",
      "0  0.0  0.0  4.0  0.0  0.0  0.0  0.0  0.0  0.0  0.0  ...  0.0  0.0  0.0  0.0   \n",
      "1  0.0  0.0  0.0  0.0  0.0  0.0  0.0  0.0  0.0  0.0  ...  0.0  0.0  0.0  0.0   \n",
      "2  0.0  0.0  0.0  0.0  0.0  0.0  0.0  0.0  0.0  0.0  ...  0.0  0.0  0.0  0.0   \n",
      "\n",
      "   194  195  196  197  198  199  \n",
      "0  0.0  0.0  0.0  0.0  0.0  0.0  \n",
      "1  0.0  0.0  0.0  0.0  0.0  0.0  \n",
      "2  0.0  0.0  0.0  0.0  0.0  0.0  \n",
      "\n",
      "[3 rows x 200 columns]\n"
     ]
    },
    {
     "data": {
      "text/plain": [
       "array([[0., 0., 0., ..., 0., 0., 0.],\n",
       "       [0., 0., 0., ..., 0., 0., 0.],\n",
       "       [4., 0., 0., ..., 0., 0., 0.]])"
      ]
     },
     "execution_count": 198,
     "metadata": {},
     "output_type": "execute_result"
    }
   ],
   "source": [
    "# Compute the TF x iDF values for each document term\n",
    "test_TD_tfidf = test_table  * IDF[:,:200]\n",
    "pd.set_option(\"display.precision\", 2)\n",
    "print(test_TD_tfidf.head(3))\n",
    "\n",
    "# The KNN Search function expects a document x term materix as an np array, so we need to transpose the TF_tfidf matrix\n",
    "test_DT_tfidf = test_TD_tfidf.T\n",
    "test_DT_array = np.array(test_DT_tfidf)\n",
    "test_DT_array[:3]\n"
   ]
  },
  {
   "cell_type": "code",
   "execution_count": 199,
   "metadata": {},
   "outputs": [
    {
     "name": "stdout",
     "output_type": "stream",
     "text": [
      "Wall time: 3min 49s\n"
     ]
    },
    {
     "data": {
      "text/plain": [
       "{'K': 20, 'best_accuracy': 100.0}"
      ]
     },
     "execution_count": 199,
     "metadata": {},
     "output_type": "execute_result"
    }
   ],
   "source": [
    "%%time\n",
    "cosine_accuracy_DT =[]\n",
    "best_KNN_result = {}\n",
    "best_accuracy=0\n",
    "for K in range(5,100,5):\n",
    "    total_data_count,success_count,measured_accuracy = knn_evaluate(test_DT_array,test_label,DT_array,train_label,K,1)\n",
    "    if(best_accuracy<measured_accuracy):\n",
    "        best_accuracy = measured_accuracy\n",
    "        best_KNN_result['K']=K\n",
    "        best_KNN_result['best_accuracy']=best_accuracy\n",
    "        \n",
    "    cosine_accuracy_DT.append(measured_accuracy)\n",
    "    \n",
    "best_KNN_result"
   ]
  },
  {
   "cell_type": "code",
   "execution_count": 200,
   "metadata": {},
   "outputs": [
    {
     "data": {
      "image/png": "[encoded data removed]",
      "text/plain": [
       "<Figure size 432x288 with 1 Axes>"
      ]
     },
     "metadata": {
      "needs_background": "light"
     },
     "output_type": "display_data"
    }
   ],
   "source": [
    "\n",
    "plt.plot(K_values,cosine_accuracy_DT,label = \"Cosine with TFxIDF\")\n",
    "plt.plot(K_values,cosine_accuracy,label = \"Cosine without TFxIDF\")\n",
    "plt.xlabel('# of Neighbors')\n",
    "plt.ylabel('Accuracy')\n",
    "plt.title('Cosine similarity with TFxIDF version vs. Cosine similarity without TFxIDF  version')\n",
    "plt.legend(loc=7)\n",
    "plt.show()"
   ]
  },
  {
   "cell_type": "markdown",
   "metadata": {},
   "source": [
    "#### 1.e Create a new classifier based on the Rocchio Method adapted for text categorization [See class notes on Text Categorization]. You should separate the training function from the classifiation function. The training part for the classifier can be implemented as a function that takes as input the training data matrix and the training labels, returning the prototype vectors for each class. The classification part can be implemented as another function that would take as input the prototypes returned from the training function and the instance to be classified. This function should measure Cosine similarity of the test instance to each prototype vector. Your output should indicate the predicted class for the test instance and the similarity values of the instance to each of the category prototypes.  Finally, use your evaluation function to compare your results to the best KNN results you obtained in part d. [Note: your functions should work regardless of the number of categories (class labels) and should not be limited to two-class categorization scenario.]"
   ]
  },
  {
   "cell_type": "code",
   "execution_count": 201,
   "metadata": {},
   "outputs": [],
   "source": [
    "#The training part for the classifier takes as input the training data matrix and the training labels, \n",
    "##  returning the prototype vectors for each class\n",
    "def Rocchio_Train(df,L):\n",
    "    D = df.copy()\n",
    "    D['class']=L\n",
    "    return D.groupby('class').sum()"
   ]
  },
  {
   "cell_type": "code",
   "execution_count": 202,
   "metadata": {},
   "outputs": [
    {
     "name": "stdout",
     "output_type": "stream",
     "text": [
      "(800, 5500)\n",
      "(800,)\n",
      "(800, 5500)\n"
     ]
    }
   ],
   "source": [
    "DF_training_table = training_table.T\n",
    "print(DF_training_table.shape)\n",
    "print(train_label.shape)\n",
    "print(DT_tfidf.shape)"
   ]
  },
  {
   "cell_type": "code",
   "execution_count": 203,
   "metadata": {},
   "outputs": [
    {
     "data": {
      "text/plain": [
       "array([0, 1, 0, 1, 0], dtype=int64)"
      ]
     },
     "execution_count": 203,
     "metadata": {},
     "output_type": "execute_result"
    }
   ],
   "source": [
    "train_label[:5]"
   ]
  },
  {
   "cell_type": "code",
   "execution_count": 204,
   "metadata": {},
   "outputs": [
    {
     "data": {
      "text/html": [
       "<div>\n",
       "<style scoped>\n",
       "    .dataframe tbody tr th:only-of-type {\n",
       "        vertical-align: middle;\n",
       "    }\n",
       "\n",
       "    .dataframe tbody tr th {\n",
       "        vertical-align: top;\n",
       "    }\n",
       "\n",
       "    .dataframe thead th {\n",
       "        text-align: right;\n",
       "    }\n",
       "</style>\n",
       "<table border=\"1\" class=\"dataframe\">\n",
       "  <thead>\n",
       "    <tr style=\"text-align: right;\">\n",
       "      <th></th>\n",
       "      <th>0</th>\n",
       "      <th>1</th>\n",
       "      <th>2</th>\n",
       "      <th>3</th>\n",
       "      <th>4</th>\n",
       "      <th>5</th>\n",
       "      <th>6</th>\n",
       "      <th>7</th>\n",
       "      <th>8</th>\n",
       "      <th>9</th>\n",
       "      <th>...</th>\n",
       "      <th>5490</th>\n",
       "      <th>5491</th>\n",
       "      <th>5492</th>\n",
       "      <th>5493</th>\n",
       "      <th>5494</th>\n",
       "      <th>5495</th>\n",
       "      <th>5496</th>\n",
       "      <th>5497</th>\n",
       "      <th>5498</th>\n",
       "      <th>5499</th>\n",
       "    </tr>\n",
       "  </thead>\n",
       "  <tbody>\n",
       "    <tr>\n",
       "      <th>0</th>\n",
       "      <td>8.0</td>\n",
       "      <td>13.67</td>\n",
       "      <td>12.64</td>\n",
       "      <td>0.0</td>\n",
       "      <td>23.11</td>\n",
       "      <td>27.86</td>\n",
       "      <td>7.89</td>\n",
       "      <td>32.71</td>\n",
       "      <td>9.78</td>\n",
       "      <td>8.03</td>\n",
       "      <td>...</td>\n",
       "      <td>0.0</td>\n",
       "      <td>0.0</td>\n",
       "      <td>0.0</td>\n",
       "      <td>0.0</td>\n",
       "      <td>0.0</td>\n",
       "      <td>0.0</td>\n",
       "      <td>0.0</td>\n",
       "      <td>0.0</td>\n",
       "      <td>0.0</td>\n",
       "      <td>0.0</td>\n",
       "    </tr>\n",
       "    <tr>\n",
       "      <th>1</th>\n",
       "      <td>0.0</td>\n",
       "      <td>0.00</td>\n",
       "      <td>0.00</td>\n",
       "      <td>0.0</td>\n",
       "      <td>2.89</td>\n",
       "      <td>0.00</td>\n",
       "      <td>0.00</td>\n",
       "      <td>0.00</td>\n",
       "      <td>0.00</td>\n",
       "      <td>0.00</td>\n",
       "      <td>...</td>\n",
       "      <td>0.0</td>\n",
       "      <td>0.0</td>\n",
       "      <td>0.0</td>\n",
       "      <td>0.0</td>\n",
       "      <td>0.0</td>\n",
       "      <td>0.0</td>\n",
       "      <td>0.0</td>\n",
       "      <td>0.0</td>\n",
       "      <td>0.0</td>\n",
       "      <td>0.0</td>\n",
       "    </tr>\n",
       "    <tr>\n",
       "      <th>2</th>\n",
       "      <td>0.0</td>\n",
       "      <td>0.00</td>\n",
       "      <td>0.00</td>\n",
       "      <td>0.0</td>\n",
       "      <td>0.00</td>\n",
       "      <td>0.00</td>\n",
       "      <td>0.00</td>\n",
       "      <td>8.18</td>\n",
       "      <td>0.00</td>\n",
       "      <td>2.01</td>\n",
       "      <td>...</td>\n",
       "      <td>0.0</td>\n",
       "      <td>0.0</td>\n",
       "      <td>0.0</td>\n",
       "      <td>0.0</td>\n",
       "      <td>0.0</td>\n",
       "      <td>0.0</td>\n",
       "      <td>0.0</td>\n",
       "      <td>0.0</td>\n",
       "      <td>0.0</td>\n",
       "      <td>0.0</td>\n",
       "    </tr>\n",
       "    <tr>\n",
       "      <th>3</th>\n",
       "      <td>8.0</td>\n",
       "      <td>0.00</td>\n",
       "      <td>0.00</td>\n",
       "      <td>0.0</td>\n",
       "      <td>0.00</td>\n",
       "      <td>0.00</td>\n",
       "      <td>0.00</td>\n",
       "      <td>0.00</td>\n",
       "      <td>0.00</td>\n",
       "      <td>0.00</td>\n",
       "      <td>...</td>\n",
       "      <td>0.0</td>\n",
       "      <td>0.0</td>\n",
       "      <td>0.0</td>\n",
       "      <td>0.0</td>\n",
       "      <td>0.0</td>\n",
       "      <td>0.0</td>\n",
       "      <td>0.0</td>\n",
       "      <td>0.0</td>\n",
       "      <td>0.0</td>\n",
       "      <td>0.0</td>\n",
       "    </tr>\n",
       "    <tr>\n",
       "      <th>4</th>\n",
       "      <td>8.0</td>\n",
       "      <td>0.00</td>\n",
       "      <td>0.00</td>\n",
       "      <td>0.0</td>\n",
       "      <td>0.00</td>\n",
       "      <td>0.00</td>\n",
       "      <td>0.00</td>\n",
       "      <td>0.00</td>\n",
       "      <td>0.00</td>\n",
       "      <td>0.00</td>\n",
       "      <td>...</td>\n",
       "      <td>0.0</td>\n",
       "      <td>0.0</td>\n",
       "      <td>0.0</td>\n",
       "      <td>0.0</td>\n",
       "      <td>0.0</td>\n",
       "      <td>0.0</td>\n",
       "      <td>0.0</td>\n",
       "      <td>0.0</td>\n",
       "      <td>0.0</td>\n",
       "      <td>0.0</td>\n",
       "    </tr>\n",
       "  </tbody>\n",
       "</table>\n",
       "<p>5 rows × 5500 columns</p>\n",
       "</div>"
      ],
      "text/plain": [
       "   0      1      2     3      4      5     6      7     8     9     ...  5490  \\\n",
       "0   8.0  13.67  12.64   0.0  23.11  27.86  7.89  32.71  9.78  8.03  ...   0.0   \n",
       "1   0.0   0.00   0.00   0.0   2.89   0.00  0.00   0.00  0.00  0.00  ...   0.0   \n",
       "2   0.0   0.00   0.00   0.0   0.00   0.00  0.00   8.18  0.00  2.01  ...   0.0   \n",
       "3   8.0   0.00   0.00   0.0   0.00   0.00  0.00   0.00  0.00  0.00  ...   0.0   \n",
       "4   8.0   0.00   0.00   0.0   0.00   0.00  0.00   0.00  0.00  0.00  ...   0.0   \n",
       "\n",
       "   5491  5492  5493  5494  5495  5496  5497  5498  5499  \n",
       "0   0.0   0.0   0.0   0.0   0.0   0.0   0.0   0.0   0.0  \n",
       "1   0.0   0.0   0.0   0.0   0.0   0.0   0.0   0.0   0.0  \n",
       "2   0.0   0.0   0.0   0.0   0.0   0.0   0.0   0.0   0.0  \n",
       "3   0.0   0.0   0.0   0.0   0.0   0.0   0.0   0.0   0.0  \n",
       "4   0.0   0.0   0.0   0.0   0.0   0.0   0.0   0.0   0.0  \n",
       "\n",
       "[5 rows x 5500 columns]"
      ]
     },
     "execution_count": 204,
     "metadata": {},
     "output_type": "execute_result"
    }
   ],
   "source": [
    "DT_tfidf.head()"
   ]
  },
  {
   "cell_type": "code",
   "execution_count": 205,
   "metadata": {},
   "outputs": [
    {
     "name": "stdout",
     "output_type": "stream",
     "text": [
      "Wall time: 99 ms\n"
     ]
    },
    {
     "data": {
      "text/plain": [
       "array([0, 1], dtype=int64)"
      ]
     },
     "execution_count": 205,
     "metadata": {},
     "output_type": "execute_result"
    }
   ],
   "source": [
    "%%time\n",
    "prototypes = Rocchio_Train(DT_tfidf,train_label)\n",
    "np.unique(train_label)"
   ]
  },
  {
   "cell_type": "code",
   "execution_count": 206,
   "metadata": {},
   "outputs": [
    {
     "data": {
      "text/html": [
       "<div>\n",
       "<style scoped>\n",
       "    .dataframe tbody tr th:only-of-type {\n",
       "        vertical-align: middle;\n",
       "    }\n",
       "\n",
       "    .dataframe tbody tr th {\n",
       "        vertical-align: top;\n",
       "    }\n",
       "\n",
       "    .dataframe thead th {\n",
       "        text-align: right;\n",
       "    }\n",
       "</style>\n",
       "<table border=\"1\" class=\"dataframe\">\n",
       "  <thead>\n",
       "    <tr style=\"text-align: right;\">\n",
       "      <th></th>\n",
       "      <th>0</th>\n",
       "      <th>1</th>\n",
       "      <th>2</th>\n",
       "      <th>3</th>\n",
       "      <th>4</th>\n",
       "      <th>5</th>\n",
       "      <th>6</th>\n",
       "      <th>7</th>\n",
       "      <th>8</th>\n",
       "      <th>9</th>\n",
       "      <th>...</th>\n",
       "      <th>5490</th>\n",
       "      <th>5491</th>\n",
       "      <th>5492</th>\n",
       "      <th>5493</th>\n",
       "      <th>5494</th>\n",
       "      <th>5495</th>\n",
       "      <th>5496</th>\n",
       "      <th>5497</th>\n",
       "      <th>5498</th>\n",
       "      <th>5499</th>\n",
       "    </tr>\n",
       "    <tr>\n",
       "      <th>class</th>\n",
       "      <th></th>\n",
       "      <th></th>\n",
       "      <th></th>\n",
       "      <th></th>\n",
       "      <th></th>\n",
       "      <th></th>\n",
       "      <th></th>\n",
       "      <th></th>\n",
       "      <th></th>\n",
       "      <th></th>\n",
       "      <th></th>\n",
       "      <th></th>\n",
       "      <th></th>\n",
       "      <th></th>\n",
       "      <th></th>\n",
       "      <th></th>\n",
       "      <th></th>\n",
       "      <th></th>\n",
       "      <th></th>\n",
       "      <th></th>\n",
       "      <th></th>\n",
       "    </tr>\n",
       "  </thead>\n",
       "  <tbody>\n",
       "    <tr>\n",
       "      <th>0</th>\n",
       "      <td>228.0</td>\n",
       "      <td>27.35</td>\n",
       "      <td>31.61</td>\n",
       "      <td>0.0</td>\n",
       "      <td>453.57</td>\n",
       "      <td>390.08</td>\n",
       "      <td>390.40</td>\n",
       "      <td>1071.39</td>\n",
       "      <td>264.00</td>\n",
       "      <td>252.91</td>\n",
       "      <td>...</td>\n",
       "      <td>0.00</td>\n",
       "      <td>0.00</td>\n",
       "      <td>9.64</td>\n",
       "      <td>17.29</td>\n",
       "      <td>24.18</td>\n",
       "      <td>16.12</td>\n",
       "      <td>24.18</td>\n",
       "      <td>8.64</td>\n",
       "      <td>17.29</td>\n",
       "      <td>17.29</td>\n",
       "    </tr>\n",
       "    <tr>\n",
       "      <th>1</th>\n",
       "      <td>180.0</td>\n",
       "      <td>47.86</td>\n",
       "      <td>107.47</td>\n",
       "      <td>0.0</td>\n",
       "      <td>187.78</td>\n",
       "      <td>0.00</td>\n",
       "      <td>35.49</td>\n",
       "      <td>0.00</td>\n",
       "      <td>4.89</td>\n",
       "      <td>385.39</td>\n",
       "      <td>...</td>\n",
       "      <td>25.93</td>\n",
       "      <td>17.29</td>\n",
       "      <td>0.00</td>\n",
       "      <td>0.00</td>\n",
       "      <td>0.00</td>\n",
       "      <td>8.06</td>\n",
       "      <td>0.00</td>\n",
       "      <td>8.64</td>\n",
       "      <td>0.00</td>\n",
       "      <td>0.00</td>\n",
       "    </tr>\n",
       "  </tbody>\n",
       "</table>\n",
       "<p>2 rows × 5500 columns</p>\n",
       "</div>"
      ],
      "text/plain": [
       "        0      1       2     3       4       5       6        7       8     \\\n",
       "class                                                                        \n",
       "0      228.0  27.35   31.61   0.0  453.57  390.08  390.40  1071.39  264.00   \n",
       "1      180.0  47.86  107.47   0.0  187.78    0.00   35.49     0.00    4.89   \n",
       "\n",
       "         9     ...   5490   5491  5492   5493   5494   5495   5496  5497  \\\n",
       "class          ...                                                         \n",
       "0      252.91  ...   0.00   0.00  9.64  17.29  24.18  16.12  24.18  8.64   \n",
       "1      385.39  ...  25.93  17.29  0.00   0.00   0.00   8.06   0.00  8.64   \n",
       "\n",
       "        5498   5499  \n",
       "class                \n",
       "0      17.29  17.29  \n",
       "1       0.00   0.00  \n",
       "\n",
       "[2 rows x 5500 columns]"
      ]
     },
     "execution_count": 206,
     "metadata": {},
     "output_type": "execute_result"
    }
   ],
   "source": [
    "prototypes"
   ]
  },
  {
   "cell_type": "code",
   "execution_count": 207,
   "metadata": {},
   "outputs": [],
   "source": [
    "def roch_calculateCosineSimilarityDistance(x,D):\n",
    "    D_norm = np.array([np.linalg.norm(D[i]) for i in range(len(D))])\n",
    "    x_norm = np.linalg.norm(x)\n",
    "    ##print('test norm',x_norm,'\\nD_norm',D_norm)\n",
    "    sims = np.dot(D,x)/(D_norm * x_norm)\n",
    "    ##print('sims ',sims)\n",
    "    # The distance measure will be the inverse of Cosine similarity\n",
    "    dist = 1 - sims\n",
    "    return distance, sims\n",
    "\n",
    "## get category label\n",
    "def getPrototypeCategory(num):\n",
    "    return 'Hockey' if(num==1) else 'Windows'\n",
    "    \n",
    "\n",
    "\"\"\"\n",
    "The classification function  would take as input the prototypes and the instance to be classified. \n",
    "  This function should measure Cosine similarity of the test instance to each prototype vector. \n",
    " Your output should indicate \n",
    "              the predicted class for the test instance and \n",
    "              the similarity values of the instance to each of the category prototypes\n",
    "\n",
    "\"\"\" \n",
    "def Rocchio_classifier(prototypes, instance):\n",
    "    distance,similarity_measures = roch_calculateCosineSimilarityDistance(instance,prototypes)\n",
    "    max_similarity_measure_dict = {}\n",
    "    max_similarity = -2\n",
    "    total_similarity = 0\n",
    "    instance_proto_cat_similarity = {}\n",
    "    for i in range(len(similarity_measures)):\n",
    "        total_similarity +=np.round(similarity_measures[i],2)\n",
    "        instance_proto_cat_similarity[str(i)+\" (\"+getPrototypeCategory(i)+\")\"]=np.round(distance[i],2)\n",
    "        if(max_similarity < similarity_measures[i]):\n",
    "            max_similarity=similarity_measures[i]\n",
    "            max_similarity_measure_dict[max_similarity]=i\n",
    "            \n",
    "    return np.round(total_similarity,2),np.round(max_similarity,2),max_similarity_measure_dict[max_similarity],instance_proto_cat_similarity\n",
    "        \n",
    "    "
   ]
  },
  {
   "cell_type": "code",
   "execution_count": 208,
   "metadata": {},
   "outputs": [
    {
     "name": "stdout",
     "output_type": "stream",
     "text": [
      " Similarity values {'0 (Windows)': 382, '1 (Hockey)': 775}\n",
      " total distance = 0.3 \n",
      " max Distance= 0.24\n",
      " Predicted class 0 (Windows)\n",
      "\n",
      "Wall time: 1.98 ms\n"
     ]
    }
   ],
   "source": [
    "%%time\n",
    "\n",
    "# DF_training_table = training_table.T\n",
    "# DF_training_table = np.array(DF_training_table)\n",
    "\n",
    "prototypes_arr = np.array(prototypes)\n",
    "total_distance,max_distance,predicted_class,similarity_values = Rocchio_classifier(prototypes_arr,DT_array[0])\n",
    "print(\" Similarity values\", similarity_values)\n",
    "print(\" total distance = {} \\n max Distance= {}\".format(total_distance, max_distance ))\n",
    "print(\" Predicted class {} ({})\".format(predicted_class, getPrototypeCategory(predicted_class)))\n",
    "print()"
   ]
  },
  {
   "cell_type": "code",
   "execution_count": 209,
   "metadata": {},
   "outputs": [],
   "source": [
    "def rocchio_evaluate(test, test_lab, prototype):\n",
    "    success =  0\n",
    "    for i in range(len(test)):\n",
    "        total_similarity,max_similarity,predicted_class,similarity_values = Rocchio_classifier(prototype,test[i])\n",
    "        if(predicted_class == test_lab[i]):\n",
    "            success +=1\n",
    "    accurary = (success/len(test)) * 100\n",
    "    return len(test),success,accurary"
   ]
  },
  {
   "cell_type": "code",
   "execution_count": 210,
   "metadata": {},
   "outputs": [
    {
     "name": "stdout",
     "output_type": "stream",
     "text": [
      "Total Test Data count =  200 \n",
      "# of successes =  196 \n",
      "Measured accuracy =  98.0  % \n",
      "\n",
      "\n",
      "best_KNN_result  {'K': 20, 'best_accuracy': 100.0}\n",
      "Wall time: 58 ms\n"
     ]
    }
   ],
   "source": [
    "%%time\n",
    "total_data_count,success_count,measured_accuracy = rocchio_evaluate(test_DT_array,test_label,prototypes_arr)\n",
    "print('Total Test Data count = ',total_data_count,'\\n# of successes = ',success_count,'\\nMeasured accuracy = ',measured_accuracy,\" % \")\n",
    "\n",
    "print(\"\\n\")\n",
    "\n",
    "print('best_KNN_result ',best_KNN_result)"
   ]
  },
  {
   "cell_type": "code",
   "execution_count": 211,
   "metadata": {},
   "outputs": [
    {
     "name": "stdout",
     "output_type": "stream",
     "text": [
      "Total Train Data count =  800 \n",
      "# of successes =  793 \n",
      "Measured accuracy =  99.125  % \n",
      "\n",
      "\n",
      "Wall time: 234 ms\n"
     ]
    }
   ],
   "source": [
    "%%time\n",
    "total_data_count,success_count,measured_accuracy = rocchio_evaluate(DT_array,train_label,prototypes_arr)\n",
    "print('Total Train Data count = ',total_data_count,'\\n# of successes = ',success_count,'\\nMeasured accuracy = ',measured_accuracy,\" % \")\n",
    "\n",
    "print(\"\\n\")\n"
   ]
  },
  {
   "cell_type": "code",
   "execution_count": null,
   "metadata": {},
   "outputs": [],
   "source": []
  }
 ],
 "metadata": {
  "kernelspec": {
   "display_name": "Python 3",
   "language": "python",
   "name": "python3"
  },
  "language_info": {
   "codemirror_mode": {
    "name": "ipython",
    "version": 3
   },
   "file_extension": ".py",
   "mimetype": "text/x-python",
   "name": "python",
   "nbconvert_exporter": "python",
   "pygments_lexer": "ipython3",
   "version": "3.8.3"
  }
 },
 "nbformat": 4,
 "nbformat_minor": 2
}
